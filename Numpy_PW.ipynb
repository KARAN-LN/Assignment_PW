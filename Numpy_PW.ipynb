{
  "nbformat": 4,
  "nbformat_minor": 0,
  "metadata": {
    "colab": {
      "provenance": []
    },
    "kernelspec": {
      "name": "python3",
      "display_name": "Python 3"
    },
    "language_info": {
      "name": "python"
    }
  },
  "cells": [
    {
      "cell_type": "markdown",
      "source": [
        "1. Purpose and Advantages of NumPy\n",
        "NumPy (Numerical Python) is a powerful library that provides support for large, multi-dimensional arrays and matrices, along with a collection of mathematical functions to operate on these arrays. Its primary purpose is to enhance Python's capabilities for numerical operations.\n",
        "\n",
        "Advantages:\n",
        "\n",
        "Performance: NumPy arrays are more efficient in terms of memory and speed compared to Python lists, especially for large datasets.\n",
        "Convenience: It provides a wide range of mathematical functions that are optimized for performance.\n",
        "Multi-dimensional Arrays: Supports n-dimensional arrays (ndarrays), enabling complex data structures.\n",
        "Integration: Works well with other libraries like SciPy, Matplotlib, and pandas, making it a cornerstone of the scientific computing stack in Python."
      ],
      "metadata": {
        "id": "DPwYM-oqmdD4"
      }
    },
    {
      "cell_type": "markdown",
      "source": [
        "2. Comparing np.mean() and np.average()\n",
        "np.mean() calculates the average of array elements along a specified axis.\n",
        "np.average() also computes the average but allows for optional weights, letting you weigh the contribution of each element differently.\n",
        "When to use:\n",
        "\n",
        "Use np.mean() for straightforward averaging.\n",
        "Use np.average() when you need to compute a weighted average."
      ],
      "metadata": {
        "id": "TGGbpuzhmgjJ"
      }
    },
    {
      "cell_type": "markdown",
      "source": [
        "3. Reversing a NumPy Array\n",
        "You can reverse a NumPy array using slicing."
      ],
      "metadata": {
        "id": "1PuIOr49mgxY"
      }
    },
    {
      "cell_type": "code",
      "source": [
        "import numpy as np\n",
        "arr_1d = np.array([1, 2, 3, 4, 5])\n",
        "reversed_1d = arr_1d[::-1]  # Output: array([5, 4, 3, 2, 1])"
      ],
      "metadata": {
        "id": "QshKb8trmuhl"
      },
      "execution_count": null,
      "outputs": []
    },
    {
      "cell_type": "code",
      "source": [
        "arr_2d = np.array([[1, 2, 3], [4, 5, 6]])\n",
        "reversed_2d_rows = arr_2d[::-1]  # Reverse rows: Output: [[4, 5, 6], [1, 2, 3]]\n",
        "reversed_2d_cols = arr_2d[:, ::-1]  # Reverse columns: Output: [[3, 2, 1], [6, 5, 4]]"
      ],
      "metadata": {
        "id": "fFamOVkfmulB"
      },
      "execution_count": null,
      "outputs": []
    },
    {
      "cell_type": "markdown",
      "source": [
        "4. Determining Data Type of Elements in a NumPy Array\n",
        "You can determine the data type of elements using the .dtype attribute:\n",
        "\n",
        "arr = np.array([1, 2, 3], dtype='int32')\n",
        "print(arr.dtype)  # Output: int32\n",
        "Importance of Data Types:\n",
        "\n",
        "Memory Management: Different data types consume different amounts of memory (e.g., float32 vs. float64).\n",
        "Performance: Operations on certain types (like integers) can be faster than on others (like complex numbers)."
      ],
      "metadata": {
        "id": "scx8zsYom1Dk"
      }
    },
    {
      "cell_type": "markdown",
      "source": [
        "5. Defining ndarrays and Key Features\n",
        "ndarrays (N-dimensional arrays) are the core data structure in NumPy. Key features include:\n",
        "\n",
        "Homogeneous: All elements must be of the same data type.\n",
        "Fixed Size: Once created, the size of an ndarray cannot change.\n",
        "Vectorized Operations: Supports element-wise operations and broadcasting.\n",
        "Differences from Python Lists:\n",
        "\n",
        "NumPy arrays are more efficient for large datasets.\n",
        "They offer more functionality for numerical operations and multi-dimensional data"
      ],
      "metadata": {
        "id": "IkXg-SF6m1Gx"
      }
    },
    {
      "cell_type": "markdown",
      "source": [
        "6. Performance Benefits of NumPy Arrays\n",
        "NumPy arrays provide significant performance benefits over Python lists, particularly for large-scale numerical operations:\n",
        "\n",
        "Contiguous Memory: NumPy arrays store elements in contiguous memory locations, reducing overhead.\n",
        "Vectorization: Operations on entire arrays are implemented in optimized C code, avoiding the overhead of Python loops.\n",
        "Less Memory Overhead: NumPy uses less memory for array operations due to its fixed data types."
      ],
      "metadata": {
        "id": "zXK7OiI_m1Ke"
      }
    },
    {
      "cell_type": "markdown",
      "source": [
        "7. Comparing vstack() and hstack()\n",
        "vstack() stacks arrays in vertical (row-wise) manner.\n",
        "hstack() stacks arrays in horizontal (column-wise) manner."
      ],
      "metadata": {
        "id": "a-UkE7IgnG9l"
      }
    },
    {
      "cell_type": "code",
      "source": [
        "arr1 = np.array([[1, 2], [3, 4]])\n",
        "arr2 = np.array([[5, 6]])\n",
        "\n",
        "vstack_result = np.vstack((arr1, arr2))  # Output: [[1, 2], [3, 4], [5, 6]]\n",
        "hstack_result = np.hstack((arr1, arr2.T))  # Output: [[1, 2, 5], [3, 4, 6]]"
      ],
      "metadata": {
        "id": "wp8TsVttnLES"
      },
      "execution_count": null,
      "outputs": []
    },
    {
      "cell_type": "markdown",
      "source": [
        "8. Differences between fliplr() and flipud()\n",
        "fliplr() flips an array from left to right.\n",
        "flipud() flips an array from top to bottom.\n",
        "Effects on Dimensions:\n",
        "\n",
        "fliplr() affects columns of 2D arrays.\n",
        "flipud() affects rows of 2D arrays."
      ],
      "metadata": {
        "id": "xaN4CyN4nQ8-"
      }
    },
    {
      "cell_type": "code",
      "source": [
        "arr = np.array([[1, 2, 3], [4, 5, 6]])\n",
        "flipped_lr = np.fliplr(arr)  # Output: [[3, 2, 1], [6, 5, 4]]\n",
        "flipped_ud = np.flipud(arr)  # Output: [[4, 5, 6], [1, 2, 3]]"
      ],
      "metadata": {
        "id": "017yihLrnQlC"
      },
      "execution_count": null,
      "outputs": []
    },
    {
      "cell_type": "markdown",
      "source": [
        "9. Functionality of array_split()\n",
        "The array_split() method splits an array into multiple sub-arrays. It can handle uneven splits by distributing the remainder to the first few sub-arrays"
      ],
      "metadata": {
        "id": "U0CUhFXznZpk"
      }
    },
    {
      "cell_type": "code",
      "source": [
        "arr = np.array([1, 2, 3, 4, 5])\n",
        "splits = np.array_split(arr, 3)  # Output: [array([1, 2]), array([3, 4]), array([5])]"
      ],
      "metadata": {
        "id": "4BLApwivnZ7i"
      },
      "execution_count": null,
      "outputs": []
    },
    {
      "cell_type": "markdown",
      "source": [
        "10. Concepts of Vectorization and Broadcasting\n",
        "Vectorization: Refers to the process of applying operations to entire arrays without writing explicit loops, which leads to concise and efficient code.\n",
        "\n",
        "Broadcasting: Enables NumPy to perform operations on arrays of different shapes. Smaller arrays are \"broadcast\" across larger ones, allowing element-wise operations.\n",
        "\n",
        "Efficiency Contributions:\n",
        "\n",
        "Both concepts reduce the need for explicit loops in Python, leveraging optimized C operations for speed, which results in cleaner code and better performance."
      ],
      "metadata": {
        "id": "U8lBqTImng-R"
      }
    },
    {
      "cell_type": "markdown",
      "source": [
        "Practical Questions:"
      ],
      "metadata": {
        "id": "nMpBgplsnuLh"
      }
    },
    {
      "cell_type": "code",
      "source": [
        "#1. Create a 3x3 NumPy array with random integers and interchange its rows and columns.\n",
        "import numpy as np\n",
        "\n",
        "# Create a 3x3 array with random integers between 1 and 100\n",
        "array_3x3 = np.random.randint(1, 101, size=(3, 3))\n",
        "print(\"Original Array:\\n\", array_3x3)\n",
        "\n",
        "# Interchange rows and columns (transpose)\n",
        "interchanged_array = array_3x3.T\n",
        "print(\"Interchanged Array:\\n\", interchanged_array)"
      ],
      "metadata": {
        "id": "dBb9gttPnjzv"
      },
      "execution_count": null,
      "outputs": []
    },
    {
      "cell_type": "code",
      "source": [
        "#2. Generate a 1D NumPy array and reshape it.\n",
        "# Generate a 1D array with 10 elements\n",
        "array_1d = np.arange(10)\n",
        "print(\"1D Array:\", array_1d)\n",
        "\n",
        "# Reshape it into a 2x5 array\n",
        "array_2x5 = array_1d.reshape(2, 5)\n",
        "print(\"Reshaped 2x5 Array:\\n\", array_2x5)\n",
        "\n",
        "# Reshape it into a 5x2 array\n",
        "array_5x2 = array_1d.reshape(5, 2)\n",
        "print(\"Reshaped 5x2 Array:\\n\", array_5x2)\n"
      ],
      "metadata": {
        "id": "3FiHwKlEoAlb"
      },
      "execution_count": null,
      "outputs": []
    },
    {
      "cell_type": "code",
      "source": [
        "#3. Create a 4x4 NumPy array with random float values and add a border of zeros.\n",
        "# Create a 4x4 array with random float values\n",
        "array_4x4 = np.random.rand(4, 4)\n",
        "print(\"Original 4x4 Array:\\n\", array_4x4)\n",
        "\n",
        "# Add a border of zeros around it\n",
        "bordered_array = np.pad(array_4x4, pad_width=1, mode='constant', constant_values=0)\n",
        "print(\"6x6 Array with Border:\\n\", bordered_array)"
      ],
      "metadata": {
        "id": "ccuAfS5IoAo2"
      },
      "execution_count": null,
      "outputs": []
    },
    {
      "cell_type": "code",
      "source": [
        "#4. Create an array of integers from 10 to 60 with a step of 5.\n",
        "# Create an array of integers from 10 to 60 with a step of 5\n",
        "array_step = np.arange(10, 61, 5)\n",
        "print(\"Array from 10 to 60 with step of 5:\", array_step)"
      ],
      "metadata": {
        "id": "hefOUEqdoAsf"
      },
      "execution_count": null,
      "outputs": []
    },
    {
      "cell_type": "code",
      "source": [
        "#5. Create a NumPy array of strings and apply case transformations.\n",
        "# Create an array of strings\n",
        "string_array = np.array(['python', 'numpy', 'pandas'])\n",
        "\n",
        "# Apply case transformations\n",
        "uppercase_array = np.char.upper(string_array)\n",
        "lowercase_array = np.char.lower(string_array)\n",
        "title_case_array = np.char.title(string_array)\n",
        "\n",
        "print(\"Uppercase:\", uppercase_array)\n",
        "print(\"Lowercase:\", lowercase_array)\n",
        "print(\"Title Case:\", title_case_array)"
      ],
      "metadata": {
        "id": "i_oyP_jpoAvi"
      },
      "execution_count": null,
      "outputs": []
    },
    {
      "cell_type": "code",
      "source": [
        "#6. Generate a NumPy array of words and insert spaces between characters.\n",
        "# Create a NumPy array of words\n",
        "words_array = np.array(['hello', 'world'])\n",
        "\n",
        "# Insert a space between each character of every word\n",
        "spaced_words_array = np.array([' '.join(word) for word in words_array])\n",
        "print(\"Words with Spaces:\", spaced_words_array)"
      ],
      "metadata": {
        "id": "FqL202z0oAzD"
      },
      "execution_count": null,
      "outputs": []
    },
    {
      "cell_type": "code",
      "source": [
        "#7. Create two 2D arrays and perform element-wise operations.\n",
        "# Create two 2D NumPy arrays\n",
        "array_a = np.array([[1, 2, 3], [4, 5, 6]])\n",
        "array_b = np.array([[7, 8, 9], [10, 11, 12]])\n",
        "\n",
        "# Element-wise operations\n",
        "addition = array_a + array_b\n",
        "subtraction = array_a - array_b\n",
        "multiplication = array_a * array_b\n",
        "division = array_a / array_b\n",
        "\n",
        "print(\"Addition:\\n\", addition)\n",
        "print(\"Subtraction:\\n\", subtraction)\n",
        "print(\"Multiplication:\\n\", multiplication)\n",
        "print(\"Division:\\n\", division)"
      ],
      "metadata": {
        "id": "QWlzLr7Rogwg"
      },
      "execution_count": null,
      "outputs": []
    },
    {
      "cell_type": "code",
      "source": [
        "#8. Create a 5x5 identity matrix and extract its diagonal elements.\n",
        "# Create a 5x5 identity matrix\n",
        "identity_matrix = np.eye(5)\n",
        "print(\"Identity Matrix:\\n\", identity_matrix)\n",
        "\n",
        "# Extract its diagonal elements\n",
        "diagonal_elements = np.diag(identity_matrix)\n",
        "print(\"Diagonal Elements:\", diagonal_elements)"
      ],
      "metadata": {
        "id": "yWG8tumEog3H"
      },
      "execution_count": null,
      "outputs": []
    },
    {
      "cell_type": "code",
      "source": [
        "#9. Generate an array of random integers and find prime numbers.\n",
        "from sympy import isprime\n",
        "\n",
        "# Generate an array of 100 random integers between 0 and 1000\n",
        "random_integers = np.random.randint(0, 1001, size=100)\n",
        "print(\"Random Integers:\", random_integers)\n",
        "\n",
        "# Find and display all prime numbers in this array\n",
        "prime_numbers = [num for num in random_integers if isprime(num)]\n",
        "print(\"Prime Numbers in the Array:\", prime_numbers)"
      ],
      "metadata": {
        "id": "4-atr4S4og99"
      },
      "execution_count": null,
      "outputs": []
    },
    {
      "cell_type": "code",
      "source": [
        "#10. Create a NumPy array for daily temperatures and calculate weekly averages.\n",
        "# Create an array representing daily temperatures for a month (30 days)\n",
        "temperatures = np.random.uniform(low=15, high=35, size=30)\n",
        "print(\"Daily Temperatures:\", temperatures)\n",
        "\n",
        "# Calculate weekly averages (assuming 4 weeks)\n",
        "weekly_averages = temperatures.reshape(4, 7).mean(axis=1)\n",
        "print(\"Weekly Averages:\", weekly_averages)"
      ],
      "metadata": {
        "id": "RsOFPv-johHq"
      },
      "execution_count": null,
      "outputs": []
    }
  ]
}