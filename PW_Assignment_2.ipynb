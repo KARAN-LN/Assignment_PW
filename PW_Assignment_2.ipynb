{
  "nbformat": 4,
  "nbformat_minor": 0,
  "metadata": {
    "colab": {
      "provenance": [],
      "toc_visible": true
    },
    "kernelspec": {
      "name": "python3",
      "display_name": "Python 3"
    },
    "language_info": {
      "name": "python"
    }
  },
  "cells": [
    {
      "cell_type": "code",
      "source": [
        "Theory Questions:"
      ],
      "metadata": {
        "id": "sFryZHiKhgS_"
      },
      "execution_count": null,
      "outputs": []
    },
    {
      "cell_type": "code",
      "source": [
        "# 1. What is the difference between a function and a method in Python?\n",
        "#A function is a block of code that performs a specific task and can be called independently. A method is a function that is associated with an object and is called on that object.\n",
        "def greet(name):  # Function\n",
        "    return f\"Hello, {name}!\"\n",
        "\n",
        "class Person:\n",
        "    def greet(self):  # Method\n",
        "        return \"Hello!\"\n",
        "\n",
        "p = Person()\n",
        "print(greet(\"Alice\"))  # Calls the function\n",
        "print(p.greet())       # Calls the method\n"
      ],
      "metadata": {
        "id": "ZDXCoLQNeBYv"
      },
      "execution_count": null,
      "outputs": []
    },
    {
      "cell_type": "code",
      "source": [
        "# 2. Explain the concept of function arguments and parameters in Python.\n",
        "#Parameters are the variables listed in a function’s definition, while arguments are the actual values passed to the function when it is called.\n",
        "def add(x, y):  # x and y are parameters\n",
        "    return x + y\n",
        "\n",
        "result = add(5, 3)  # 5 and 3 are arguments"
      ],
      "metadata": {
        "id": "XeoaGjlme82_"
      },
      "execution_count": null,
      "outputs": []
    },
    {
      "cell_type": "code",
      "source": [
        "#3. What are the different ways to define and call a function in Python?\n",
        "#Functions can be defined using the \"def\" keyword. They can be called by their name followed by parentheses. You can also use anonymous functions with \"lambda\".\n",
        "def multiply(a, b):\n",
        "    return a * b\n",
        "\n",
        "print(multiply(4, 5))  # Calling a defined function\n",
        "\n",
        "# Lambda function\n",
        "square = lambda x: x ** 2\n",
        "print(square(6))  # Calling a lambda function\n"
      ],
      "metadata": {
        "id": "J9HjtrOwfPC3"
      },
      "execution_count": null,
      "outputs": []
    },
    {
      "cell_type": "code",
      "source": [
        "# 4. What is the purpose of the `return` statement in a Python function?\n",
        "#The return statement is used to exit a function and return a value to the caller. If no return statement is specified, the function returns None by default.\n",
        "def subtract(a, b):\n",
        "    return a - b\n",
        "\n",
        "result = subtract(10, 4)  # Returns 6"
      ],
      "metadata": {
        "id": "6XIBP9JPftPR"
      },
      "execution_count": null,
      "outputs": []
    },
    {
      "cell_type": "code",
      "source": [
        "#5. What are iterators in Python and how do they differ from iterables?\n",
        "#An iterable is any Python object capable of returning its members one at a time (e.g., lists, tuples). An iterator is an object that implements the iterator protocol, consisting of the __iter__() and __next__() methods.\n",
        "my_list = [1, 2, 3]\n",
        "my_iter = iter(my_list)  # Creates an iterator\n",
        "print(next(my_iter))  # Returns 1\n"
      ],
      "metadata": {
        "id": "wyohtRNpgU3X"
      },
      "execution_count": null,
      "outputs": []
    },
    {
      "cell_type": "code",
      "source": [
        "#6. Explain the concept of generators in Python and how they are defined.\n",
        "#Generators are a type of iterable, defined using functions and the yield statement. They produce values one at a time and maintain state between each call.\n",
        "def count_up_to(n):\n",
        "    count = 1\n",
        "    while count <= n:\n",
        "        yield count  # Yields a value\n",
        "        count += 1\n",
        "\n",
        "for number in count_up_to(5):\n",
        "    print(number)  # Outputs numbers 1 to 5\n"
      ],
      "metadata": {
        "id": "4HcUF5bogg70"
      },
      "execution_count": null,
      "outputs": []
    },
    {
      "cell_type": "code",
      "source": [
        "#7. What are the advantages of using generators over regular functions?\n",
        "#Generators are memory efficient because they yield items one at a time and do not store the entire sequence in memory. This is particularly useful for large data sets.\n",
        "def large_range(n):\n",
        "    for i in range(n):\n",
        "        yield i\n",
        "\n",
        "for num in large_range(1000000):\n",
        "    if num > 5:\n",
        "        break  # Stops after yielding 0 to 5\n"
      ],
      "metadata": {
        "id": "-sn8FSYzgg-9"
      },
      "execution_count": null,
      "outputs": []
    },
    {
      "cell_type": "code",
      "source": [
        "#8. What is a lambda function in Python and when is it typically used?\n",
        "#A lambda function is a small anonymous function defined with the lambda keyword. They can take any number of arguments but only have one expression. They are typically used for short, throwaway functions.\n",
        "add = lambda x, y: x + y\n",
        "print(add(2, 3))  # Outputs 5\n"
      ],
      "metadata": {
        "id": "eWyR9WpQghCa"
      },
      "execution_count": null,
      "outputs": []
    },
    {
      "cell_type": "code",
      "source": [
        "#9. Explain the purpose and usage of the `map()` function in Python.\n",
        "#The map() function applies a given function to all items in an iterable (like a list) and returns an iterator.\n",
        "def square(x):\n",
        "    return x * x\n",
        "\n",
        "result = list(map(square, [1, 2, 3, 4]))  # Applies square function to each element\n",
        "print(result)  # Outputs [1, 4, 9, 16]\n"
      ],
      "metadata": {
        "id": "YbiS8XflhEhx"
      },
      "execution_count": null,
      "outputs": []
    },
    {
      "cell_type": "code",
      "source": [
        "#10. What is the difference between `map()`, `reduce()`, and `filter()` functions in Python?\n",
        "#map() applies a function to all items in an iterable and returns an iterable of the results.\n",
        "#filter() applies a function to an iterable and returns only the items for which the function returns True.\n",
        "#reduce() (from functools) applies a function of two arguments cumulatively to the items of an iterable, reducing it to a single value.\n",
        "from functools import reduce\n",
        "\n",
        "numbers = [1, 2, 3, 4, 5]\n",
        "\n",
        "mapped = list(map(lambda x: x * 2, numbers))  # [2, 4, 6, 8, 10]\n",
        "filtered = list(filter(lambda x: x > 2, numbers))  # [3, 4, 5]\n",
        "reduced = reduce(lambda x, y: x + y, numbers)  # 15\n"
      ],
      "metadata": {
        "id": "k5uvns-IhElK"
      },
      "execution_count": null,
      "outputs": []
    },
    {
      "cell_type": "markdown",
      "source": [
        "11. Using pen & Paper write the internal mechanism for sum operation using  reduce function on this given\n",
        "list:[47,11,42,13];\n",
        "![PW.jpg](data:image/jpeg;base64,/9j/4AAQSkZJRgABAQAAAQABAAD/2wCEAAYGBgYHBgcICAcKCwoLCg8ODAwODxYQERAREBYiFRkVFRkVIh4kHhweJB42KiYmKjY+NDI0PkxERExfWl98fKcBBgYGBgcGBwgIBwoLCgsKDw4MDA4PFhAREBEQFiIVGRUVGRUiHiQeHB4kHjYqJiYqNj40MjQ+TERETF9aX3x8p//CABEIBCoCmgMBIgACEQEDEQH/xAAuAAEBAQEBAQAAAAAAAAAAAAAAAQMCBAUBAQEBAQAAAAAAAAAAAAAAAAABAgP/2gAMAwEAAhADEAAAAuwMN4fPz+pyebXsLBYAEAlgAAAAlHLocTQZTYY8ekee7jz5e0eW+kebL3D53o9KPM9Q8r1I8z0jzda5nPk9Km2SPL68ta0y65y8Xv8AL6dNLncu7nZdJwOPB9Px6mXr8+dfWePbF2mXnrHuzWfp+fbzY1h7/B9BNR0SWFiVEFQVBYAgECFAJVQVEVBYFgAAAAAVBUFBUFQJacO4c0AKg6QW8jpAUS0d95U26x6NPne7zRPH7fDm8e/x+01G5CVebCAAELAAQAAAABCoKgssAKgqCoKAIAAWCpRYKgsWoo5VAAACwW80t5p1eKd4aZR14vZ8/N29nh9saw6xAc9chBUyTVKoEAlgsFAQAAAAAAAAAAAVBUFQVBbBUFSiwVKARRACkUSkAXLTk48Xs+fl6vX4/Vm7SzrEC8d8ACOTnXLSwJUoiwAAAAAEKAAAAAAAAAAAABYKlAKgoKgoAAAgBKPP4Pd48vT6cfRm9k6xLC8d8AE57iZ6BQogAAAAgAAAAVKCFQWAAABYFQVBUoABUFSiwVKLBUFSgARUp5fJ7Pnx9DbLXF0lnWQDnrkAEAAAAAABAAAAAAAAAAAAAAABYKAAACgAqCgWCpQIAw+Z9X5qfR7z25a75s7RKHNgliGfNbCU56ABCpyds4mqVYA56C4mqiKIz1IojLQoAAAAAAAAKAAACpQCoKACoig4+X9T5qe/TPvlrSWdoQOeoQGXXHdnfPSOMu1cHZL3QJc8/Qsw3JUox49Mswnopi1LnqRjzdrMNO+VxnpJz0ssoAHHYAAOTpKAVKDM0AAsh05h2ABYKIA5+d9Hwx6tOXO7S89osEBAAHMOpzzZq57ligziXTz6105kvYEuKbFWGJsgoDinUvmPSz5rrTyek65vlNN+bGWuSzZnpKz74L1h1ZrzxS2Ukmg7x1jiXquV4O+aNLl3L05pz3is1cSNbhovXh93hy9XXM53eWdoBIBBYApxzqMdaHPQy43WYd6DJqOeiV5/RjV53GF2GPHpHPRGU2E40hJ0JQZ6AAolCZaiUAAAFgoAAKlJQAiiiHk9fljVLi7w6yWU5BCkUS492dMeD1GUurzrNWfZ2WWcc52elnpKz65rS4cnpeWpvJJdOO+DrD0cHYEolCUAAAAIAAABQAAAWCgACFgvm9GBZZzvplnWLKcgAAx500s82/SVz0OJpDLVSUEoiicaQnPYigoAiiKIsAAAAAAEoSiLABYKAAAABYKlgBjtkcXnvnfRLOsWU5AASHTgVc666uUaznslAAAAAoiwAAAAAAASiUIoiwAAAAAAAAAAAqIqC56ZmOmevO7w6xZTkheOszvrmEz6llx16qncs6IFAJQAKIAAAAAAAACKIsAEoiwAAAAAAAAACAAHPQ8uuOuL6JZ0lBEoBzaEok6856E5O0h2DPTz71RC+XutGY2ELMzVKDg7MDZz0DA344zr0dYcnXXk9dajJKIABKIoiwAAAAAACAFlAPH3zcX1yzpKDmgAWADDfy11x66eT0dgcxlJ6a83W8PI9g8PXrCkMPRyZXS149O9TzbdgI550GTWAEoUAEAAAAAAIAAAAABCygHkrDL6SzaywgBQAAACgSiKIoiiKAAIoiiKIoiiLBKAAAEoiiAAAASwFIsAAAAigA83i9/gj7Es0vPUJQEObFdiOOe+q4SGzjSI56BCs869M56gBjOK9bjKPRMNxL5z0c+WV7cs8j2defI93Hk9UdpDoEKQAACURYAAAEFQAAAAKQBj836fzD7IqywAZbZHPc7qljjPfmvN16PIatejzekCoxz9Iw3Bz0PNpqMe+xx2DPQeXremXXYijnoABSLABKIAACAAAASwAAAAWIqDP5/0PEfTFWdcihFEoFBRJQAAAAlAA5OgJRFEUSgAlEUAARYFglgAAAlgSgABOTuURRACxFGfl9XnPaWrLyWUCgoc8GrLUAOKdZ9YHpQV5uq3c2DPQef0eU9TkdZXy17mCNzlZeMU9mWKvU56lcsE3zx1rW4bF8++EejnNWt47jnLTGtb5dTZjTXPmnHo47MtMu47x2zLj31XU4saccK2w3xi64yu9fPrDz+jzx7C1ZYFAoKYdajDTsJYeaeoeLr1KTqR5u9hFLl30R4/ZkcdbDC7Qy60BS80AAADLYikkogAIsPP6JRKIogAEsAAAEoACJ5fV5T22WrKBQCgZZ516dMBvPP6IY7eY1nGVb6+T1RTA348yvR34/VHfPXzj6U8/oVLkaZ8Zp6uPJ7K08/o8kem+T1HXHea+fv08Wefrbs809NiUEoiwAiiAAiwAAAiiAACAHk9fkPb1z1RKLKLKAZtBn1RKDmhKObSgOehKDnoSqRYRRKAHPSgEUAACBCVBZyOmedeiYbRXI6kFSHTkdSC3kVBUFQVEXyerxnv656oClAHMEacHM7HPVzNUqxRFEUARRFAAAAEUc4ejI7djh2OHY4djiaQyaedO+pjTbDo3Ooy1w3IsEsAABAAAAAIeT1+Q9vfHdSqCnM6zNcrwZuuqzuvZh3ogFKIoiiUAAAIoiwAAcdjjvHYrHYHJSklEx2zOTWzheYrscdccmrnoAgAIAAAAAIeT1eY9nfPdShUACAKRcDTrz7lqLa856OevKeoxOtJmay8HWXXBp3noJRFgAlEBlrjsePrrc8/HpVjdOi4ehHjnslnh9tsY6oY6aQ82mgAAiwSiLAAAAASGG+Z6O+O6iiKIUgKDPzem18/6WHoHi9tl8fHt5sxbdy3DeHPHfZxzrDjjXo83pAoiwASwTqGO2OxFGc6xOtfJpW7LWL5/RkXnqJzsKBAgEAIAJRFgAAAlRJejvrnuuaAAABSpRx1aRRE6JQiiUCyAoABKIogEow3w3ImRs4Hdz6K5h3LwdA5vn6Tac9GfDs7uehFgBAAJRFgAEAAa2WgFAAApZQGZjvzynG/BdOUNQeb04bmHdHO3NiyiACgEogMN8NzCegeTr0wzvYz52HHOoy0lEsJeO0jLo7cdicw6mXRosAAIsAhLAADalLKChODRlqAopFEUShFEVAEoAASglEWAUlhjrjoXrxaGvHPdbc9cxUpyyJNM+q65dxxn6B5XqVxOkZXQZXuggAAlgEJRAJYemFKDnvMmk5Op3maFUcF655LpjRrloVlrCUSgAAlEURRARRBXl36yNWNNWQ1ZDRmNGQ0nBOkAHLscTQZuxm0hw7GbSHDscOxw7HDuHLocukbrKtlGemZxtlS9zoUGfeJNPPtV5dRdeellDnoAAhYLAASiVABKqLBKIAAQAgAIsRLCywSiAgAIIAAQAAPRLKtlABSUCiKWFJQAALAoioiiUEogEogAoCAASiAiwAkoixEsBwdueiELAAiiCBAAAD0SqWUAWUGZq8sr0X52le9871xs56lLibOMj0ILLmaZ8cmvWOx0IS8i+TqtWQ9Mx6NM+uTqTM0yK9AjLrjYjDo0ZdJ047I45NL59xm4LtlqZa47EIACFIBAEAAIekUsoBUpYHknsV476x4nuhnqQx25Xrx+wZd9UZajz3amG1AEx2HE0GF2GE3HHGsM8vUPJrsrz+gjz72HHVGWliTnuDnoTjSCUZddw47QSwAiwACEsABAD0illFAcHfPAsuhlNxnz3oZ6Z6AKAABKAACWAAgWCURYAAJRCklJAJYJYAJQ56hysAEsAAhCghLAD0ilkKvJz3acWQ0z4Vt15ejfPqx2FAsAAAAABKEogEsAAJQASwAgSASwSwYd0424xPTLCSiAiwAEgsABAD0WWllHHcOnAoOJtTiaU47ypox2UAyJqlUAZmjIaMujSKSzI7647IyDbyesnPWJ32wN2eCeuWCccm056MNePJXs6x0hx3wdZzivV5fV4z2SyIsIBLAAISwASwA9FlpZQUFAFABx3wc1mdaYyuijVZctZSY7cmGftWeHv0dmGfrS4N+S+X0dHi69azy+nqRzl6IcuhOexlopm7GfdhOe4RRJRFh57uEsEsIACAAiyAEAD0illFBQAoAAAAAUAAQAAsUQCBQSxAAAAICASwAgIABAgIACAAQAiAA9KWllFCgAAAqZmqCwKclufBsCwUy0Fy1QRacnREUEsLAAAAgIsEsAIBAAgICLACAEAhLAAQ9NKoKUAmGsJlaa8sjbzaWtZnzHo683oOgY1yXjscTSmHo6GOXplccepHl01FAAQAAAJYAQEWCUQCABAQCABAJYAJYBEWHppVA6guWox6oyb0870DzvQPNz61ZarDjsZddjDrqCUAEFk6OWo56AQAAAAgCABAAgIsEsAIBLACASiCAIAD0WWqlFCpQQoAAKlABCgIKlEBOYd3PssAAkOmNNTM0QR54ejrHYAgEsBABLBLBLACLACACIBLAAD0UpZRZQeM9gJnOzPfns8nox3OOvLoa9eXQ6782leh5N4046oAmGR3plK3056jzb8dni93Ghxj6YZXWF47E56HmvoHHYAQCBAJYAJYJYAQCWACAAlkAAeiy0sFBQASuTtnoc2gCohKqpSWADjoDLUPP6AYGzMd9efcsy7Onn9JHHZxJwa88Q36y1ICAQEogIsEsBABLACLABLIAEPTZaAoFzhrzfOR6hnrKcZd0y04GmdHVcF2y1JeegDKWmE3lTeInn9ORlvNDzemDz7dwy1DLvoAEFc0AgIAQAgIACAgEogAIsgAD0WKoKCpTjnUEFuOpctRLMzUhWehYAAhUBz5jfTzekSwXjg1cUt8vpLxyNE4NLx0cc0c6Y+gQEogIBAAgIAQACIsoBLIAA9CWqCgz08/oHGnnOO9+Ca89F83o85rh6cC9oZ6od3y+o6SjjqGDWl8np0PPtQlhlx6B5u9hz0HE0AAhYACAlgBAQAgBAJRAAIAARAAb2KtlKlFlIoAASjjSCwALAIKAAAgsAAAQqCkLAAEAIAgSwAEAIAQsACCAEsAANxVSlvNKlGemRrcxoZnXWegBlNsTZzDtKY9Y9nWueglCAIAAAAFgAAlgBACACAAlgIAJYACQAFJZAAG6WllALecT0ebrGvZznY4254rrfnqAHl9XBln6rWF3RlNgAgAIAAAAAAAEAAgJYAQCWACWAAEEIAACWAAG1lpYKC8djh2EoXmHbjsWCxydXKGwAEAQsAAgoABCgELAsAQAQIABASiAAQAgQAAQAANhVSiylSiMjuZa131miyagGXPfQ46p0ABLAAQAAqUIAAFgWAQAEAEBAASwAEABICgEoggADWy0sFSlBbBUFShBUFQVBYAAAgAAIVBUoSgABAAQCFgJRAAIAAgAgAAJYBAAGtiqBZQCgWCoKlACCoKgAAJRLAAACoLAWCoBCoAEAQsAACAELASwAAELACAANbFLKALBUosFRFAQVKEFhSwAAACFQUhUFShBUAhUAAhYBAAAQAAJRAAIAAQABqlooAAWCoKlAACUEAKgqAQoAAACUAELAAAAIBAAAgAAAQBCwAAAgADSxVABQAALBUAAABAsFgAAVAAAAAAIVBUFgCAAEAAlgAABAAAABAAGgpYKAIAqWgAEsAgAAAAABClgoBCoLAAAAEAAEAAgsAAAQAACAAAAO7LQQsFQVBQAAAAAEFQVBUACWFQUAUBLBUAAABEAAQUAQVBYAAAQAAAAB2BZQAAlAFgqCwAAAABCwFgqAACoLLAAAAAgAQAogsAAAAIEKgoAAAAOrKAAAALBUFQVBUFgAAACFQVKJYVBUoQVBUAAhUAUIAABBBUAAAACyiBQAAdIKBYFgqCoLAqCoFgAAAAAIKgqCkKgqCoLAAEKgsAgqCoAABCpQlAAAAAKAg6AAAAsFQAAAoIShBUoQVBUFQVBUFQVBUAAABAAgAACFIUAAAAAFAAsAH//xAAC/9oADAMBAAIAAwAAACHwCBS56rpbrLLLK4JJYgBDBbHsPcw2jMgEL6lB0RmjPLIwwwxgToYIQw45pLKIJLY57I46rarJYa7ZbRSlnQzqRjCARzBzDDDAQwxTwwwwBLLKbqI5iDoIZ66rLrqa5gjgw/gDhSwAzjDTDDDjzzTwwwwyBziQiDDzjCLJJm5RgAD6HxDTzyAAAQAAAAAAABDDBDCxjAxQwAAD765IKxTTyP8AAE8AAAc8888IEMc8w8cMMIwwMYkYkMIQ+KmhwgQ4k888gAAE884888888sAw088sAAU8Q0MwsIy+ZTcQMV1428AMPI84ywwyw24gMMAw088AA08I8MA0OSFD4MQ6fzzXB8du+l7c6P8AFyhHPPCBPPCBANKisNLAtnkRJIKABrcsBxdvK+vsgjlqKHDtaHnVUWT7ccRhCewDrfFGDHOAsknbbfuAIAFupjrOnMIPrABDLAFPCIBHAnkSPIOEGbxrZeNdqDAcusgGIIAQAAPPPPIAAPLAAFrmFfAgAFHUkBqoEMJvvEAMMNDDLDAAUUdPLAFPPPLCktCfAgANorMkoHDDPIJPPPPDDAEIMJCUYAQANPIMPDjhE+ApmjowSAmBLDATTCRTQQQQcdSENKDDBCCAAAHvvuGHViBPkvhulNNrrv7wxx/0/FJAULAEMNPLHPPLHvqglnKoFNvuKjOihsvl44Ijec5z7wQfPDAAABPPHPPPqgs4AvOAggngksv89zz+8efeRXSQ/wBDKwwgBTjTzxz4IL4DqBrQ5Cjq56xf+o9/MKaFusPv8sJLTyAAwxzzjSILSmtzJT5ipATP+ve+8sNvO23/ALnPTPDD+sIAU8888uOot3gwmXDfPdtNRBPBRxxtBd/PPzHf/wDy1/yACEMPOsiOT1umh121+yxS977xf7A0fv8AdmvWuKrBzhoJQZz5yLzEfZltONeu3e+78cvfdAwzyxrNM8uOtPG0BQhwxxx5w9PlMFpVffHusHe9RTc2dPgF2s9vevM8HUEADDzz74Scu+82O+F1FzwiACgTSwzgzwQoaMts1u9ve1CDDDDIT81lmsN+MjDDQDDAwgQzBoIJJbbv1IuuVUkEXzw1ysm3FnNOoFMRDDywwwzCTywDwwzB55E9f/kH0H3zzzysvFUnFnnP/CYwABRyRgQxihxaAzY19vef2HVnX3yBEet3HHn0VUkqmoSBgzzDUlRATjbzI7vKi030WlHXkEFPtmW013BTjDyzigYQwFHG1iDDCjRiiNVv3UH0FGEEMMF12E33CAidpLhCgZP/ANNZtsg2AccUItvbfP1JB1DX/wC6aWTSTGPPJPPjpji5296VTCjAFDyW3+V/6RYQFf071XZdw2eDJCBCkohjmssr+7dOLisqt4742y9y9fPMNTa9yQawZcdW4BKAPrnvmp+0BEPCBKPANVVWSfQfrg3/AM12kUmVGBiQxzTDLqJK5roBDghCzSDjVHmW10DC4f8Abx5pBp9VIFEUMMsSwiS2GIIWgoC2/THrPTXt5EE+D/rFBpdZFdNnP86YgKAAsAQoMCMqmenXbzhXt1A086X7H4hphBbrTTBAMMokUsEIE0Yk8M44TLVVpZV1AUpDdjXoBjzDzpV7IYc88AAQwQIUkIgAUIrvXRDKV5o0BH3rHopZ1VRvb5AI1080AAYs4umCKDXXL9DPcU8hsUpDXqWIppZZdhNpXxR4IcplecQtnXNZZ733bYEKUAsAoA2ie4Bpl19BxhJFAAAk88YIMwd995JJ/XrI8oc88AsAZC+QJp1d919JFdFhxU898kFxVd9Jhh3Xqscgs40o4F7WqE1VRVtzTULdBrPTjN77FBN99NVh73a4cgoocAgVoUq01RlVj3PPNpBxvPLDDpxl15hhpNLfis0UQ4EAIQ+iqA9JhZlB99Jx1BNJdRhR1pVpNLrB7XGwU0UowAIC+WqAhppz9tt3L791pp/pdDnFlR53TJpb+U4UUAoUoc4WqApt1F95JFRPtJtBNx/n3lV5JimrrrZRokUEoUowAWqEpRVhxHJvS2rxxhL4lnDNV5RBNFpp5kgo4Ao8Q8A2IANFRJB1tZdFZRJlFPhVtlXD7vWm1wp5cgo4k8CkAWIAdRVXlbZLWiCzJdDSZVw2ZVBFd4IUJooEooQ8IMACoAthZhRFZ1Nd9Z9xxhNBgAlNFdxkg4MUsEo4Eco+CW8AVZNZ9Vhl5RZJmBRdF908814oQw8socsUkgU8G6AWoAJh9NYKUpxVwG9Bdhd5Aw0wwA8MYUI80wUIAue+CW8AokUBQ5z1tVhBBZ1dgMAQ0AEccEAI8gYwogcyGuCeqAQI4JdwppV5Z9BVxk88IM40sokwEgIckcoE8m8AQ+iAoMZVFNJNNNNZxgE4wEMIIAwMgMkcQsgcgE4cAAUiCAsQpwQsNJBNNJwwIU008MUsMsMgckYgAwEcU8AEYSCAko0s5lPDPLfZs44xFNkMIsIkM8kYM8AMwgQ8oc8+CAdwA0td51xpF4FA0w04wIwkQAQwMk8gM4AAYkc88+qAtw0AQ4tJxxAMsc44IgwQ4gEMMcE4g8wU84g8888iAARtQy+JBBV7+6CCOCcsAEMc8wgE4AYgMcgAE8422iEMpfvPfzz3/jiOOOKymOywgsM884OyC4gMMYwwCCCC88TrDDb3qPb7zyyGemO6yOW++yyKiegMc84ACGOCC2wQrj3z3vPPLDTzzyGOKWOKOOOymO4E8wiOO6yy2qcAAAfzntNNTPLjzzzzjfvf3/PLTymOS+OCiyGLLSyzz9AMDz/zjHzz6z7PLPPPHNFNFNx8iLjf7+33jTT7z/D5t9//xAAC/9oADAMBAAIAAwAAABD52gpDBKbYY57xyCyzibrEAfTY5kvZkvi14q5ZLWdtsj0FzzwCCZbLTyoJZ65665pa7YZ9+K5QxhQiDd/BVyCKwopIZIBgwwwDY45bYw7zCZ47oq49kA4LqLJqpC8i5xAIY26jTCxC7a4o444YIJjADzzySRizhywzjD55jUrCrLJyQL6ZoJ6gAYACBCADDCQwywywhwTBSJLwY5z/AJkySyP1ymq++Ce4ww0KGOYw8wcMMYE+GKu4oG6kSKQUMKm+W++ue+KG8gEAu+8MoS6EIwwkA2q2C+eEgYGWlccSejNWsO+K7C+qASywyyCU0JdMIA0AwKSeSOwAWiRIFG68SJiu9u5yAvpsG9+RI7jesBREcKW8ag8OasyIqHmO++6y1QyLv0uf46k99yUmEmnbJvJdvp1njYKdl672wWu6C++qAJxF8Q8M8pGt53JnTrpz/wC8pt6FCIMAA97GA2qtgbdGa+ufNDBwrCv975xn/wAv882mE30GQDyqe3PH2paqN54ACIPNU29MP/uf/wDfz/6SS39tdpBBUsKnLyDp++8qEKY3j3/PTXPPvPrDPTnjXGuPKD1IAdNwOOH6LpMqG7IMlXLj3yyzGKCOKOuuOvf3HTzLFF9d9jX9r925KKwcmCVTEZ0IksEIEou/DkiTbPfznffhBAQ2/rFu3BuqlNGsAZEqyOcy9NAHg28MWq/Hz/LDH/tlZ1/rB6nBGad9t3PfdgMZFJhT3zn3bHVBfx7j3LX7z1Nh/DB3TdmhZxlT3fptW9R+IcR9ACJJbt0xR3DfrPNh9FdjRpisHzi5XmfNwimZC2VZaMzzNJXrZw8s9X3DXt9JBvNXSkj3pox9MvTzfPpPfj3jPDx1B9xVNJkQsnLLZxN7xHqkRRJeqloSJANpXB8FGjK4/s8qceF1F7FDzqaAWksLaoRake+BT+lSMJ7FFZimu++kJd7HFOBiaPH9hxxlfTxEWtTdADRM3V4XFOqLBf7+Jp7R1lNp57n+vBxpV/7RJIJJjIJvPLSGGeugz637nCyK8IxFS06UUEa/jxDTPPFX3DSuajKyy6OmMNFZB5I8MMoQ/gr+kTf2oENJwhWmLnrEGFKzKmO0kBB5tdd55bLH+44NTpVvrrp4B1BBCcjznT3r5rmISRJR7JB19VdD60wklr9ttfPn10wNds+svXr7PfYE4BgplBJFlEkV1zzUMAgNMCfDLFVQkEkASoT3f/va6SU5h1lT1xMU5YxLvfv/AOlkcyY56SeENOAggs959zwrpN6sBTzZ3rjfUeE10R06nhs6hAFJZAJOlu9Pz87/APDzCg33s+//AOqW2UEHKsf/ADyTecHWDhWAVAks5j49USxNGhpB86+4188/pmHz0QJGH9Z43vNpJgw05OAtY/8Alf8ArlVoU1pbHfL3muRxbH/OuuqDLDT3porTyPBz3f7zr3i++wsEBT3rT7TzxpjnLKuOaj/77HephbOrn/T7zPTo1y6yGEwk6LDJ0bzde7QghTd5sq0nGlFrC/XmrvHPLiyWxuAq0YiF5Jjn7Owk8sdN91PYqS7lRH2vs3b/AJ7+nq9awmMFMLEGfRRdlzsliuYQ61804qVdImXnF47bNMKHJ9hDGKDPLEERQHpohjqrURe5OyuldaLthhB9z2vhjGK/tk8MAMquKJHIrBI2aTdFJJVV9k2RIll1Y76894wcW7pqPvsuX4FnnXQU764RfMJ9xw1+zUQY2yR1204HERQccWMAEAHHFDptSwx546fJN/3y6/6UTTI4b3779fecRyXdb2UNk4KDZdTz92y4XAU22878wbbLt9R4g+uQjhpUlhRXX8YDSaXT8484y7YMRyy0/wB2n1R31WeOesphq56ztPfX3H4Xecvs989s/VwlP/8AjnTp1RrKwvqPzjHX99RBlxlBZ/vf/wC4169lDxQPT0+w154dQ69hC8rzSNjklCukCkWUApkOPlrs8rQ+zOf7086/9NPZVlPzh3YMUEOBD8eYQT2qHKBhsgjS2AHDug8071lAdfdlB8vofiiBON0zLhDcDzqOBrlkgnti0rhy/wC+NajmE3LYKZoU14iZQzWg3Akjg5XLYShwQFHpvaptP/4aj5Gx7Y4oanR4xYz9dOyAh4V4C8lZp4Y4NNOJPudP5DjRmypb6BoLk1mSSwDByxShwlgVl64ZK4Nu8v8A7PjuEcUrqWCuqeatuOcYEm84764Rsw73/wBp8177x832wx3FKJx6FlvmhFrlWXdgFlYUiHXEBJVT37468z9941/w9AE2w6lovoyYVn8gMpfYuIVTOHfdbT852w58X8m/0/GHDw04jlKt3YQPoIioZgkecLEddSff/wCudu2MNdtvXSSh/GhDpwKOEwCDDn1331jhGUUHVX038tH2t8NNNnhiSSHmBB6gK8WDVWXzjBxwT2n3GlnmF2kVWFtvcVMMgRj0H2gS7z42kkUix7Lpq9SHWEDRxUkl3tagD0W2DgixlFFUgw6xLjEEmwwznlnTUg3WEl2H0lUvG0kETBiiR2F01xzzpTpQX1GVWAykDG20EXUV021XkU1VGWRjilHGUngAhD6LrSSV/cgTDQYMf8dPtmHHW1GEl3WBBVk1F3mWgQot/qICOY6457rJpf8AfLHvX/jNZtN99Bu+j9R8sUsM+7R9DDmzzyqSneW2OvPHf7DH/DXjDLDvbbZscAEoSGPDdJPviW6sogGyvOe++Lnf5XP7/TD7njh04sT/AOt3zWaW084xtKIggnBBLPOMIELHLBDOBHKV63z4y8w96uoRTKEgzc18fbSff9vy9cffbSQy85jqg0RGutgwhnoPpvNQRpuP/8QAKxEBAAIBAwIFBAMBAQEAAAAAAQARAhASISBRAyIxQEETMFBhMlJxYmCA/9oACAECAQE/AJQwwD4m0lfbolEqOIwxCPh49oYYjxMvDxyn0MZ9DGfQxn0DvMfCMZl4WS3czwXAJj4WRkTxMVOCbMu02Zdpse08JeSZYGV95l4WQ1Uw8JfWNGCHaYHmJ45yfg6JWlSp4hxPDPMTxv5ansq9n4heM8L+U8b+fSF/g30nhnmyninneOkJl8f5+DxKyyniPnekYt/g65niPny/FZ/zenY10nM2ZVeqMMbvVxqv2aOKe1Zlzk9L63oPhlXzF8PjjiplkVQUaGaTLK23Q8RK4h4n/JNx/WLbccsSir4m7FP41HxWLeqJ10t6nMpuurL5i8vVUMS/WJWmzLtMsaDiU9tMDdlWmOKsp0pq5jjuahgsyAxO9swxF5Zm7s1lYcC1EqY+pHHG28pWHeeSqi4BRcy28VLAqY/T4viDjuu41RTo4jVdoGLUyxqZekTnQ6TJI5L66GeR6Mc8n5m/Lvpghb+pvexN+U35BWm5qoNS3voNI9A19y+K0z9I6HQ41X+XNnGXPoEC2bGbawutDET1jMT9XNjNn7PWNFwmKc37bL0Y+r1Occl03Pdir6vRae7ZkeZ6aZUApa9J5X8CzxP5vRiSsmHEMsDGpZfB+C8U87026Yl3/kp7SmrrTIAxrto4ZCzb5DjnQLdKYC6BcMMrOI4ZL6TLGvDx45efZeKebrwrl/U+plHPLL10UKDmOd+pPq5T6qgJoPM3H9Zvr0jmuls3Zd/aZ42/inpo0tAIHL/nRt1MExbIY5MRIFs+nwsxwdxc2cPMSn2bHoIp8aCU3McsablnaZZW3WgxyWtNzNzrvyqpb3/NAv3KiaUzEu/80cMgutcdMcbMv8lOlWTZWKuhUrADmId/mFcwD5dMNl+ZmWOI+srHvDYI3MkWIbTmYp8wywxH54lYd5WHe+JhttvtHEyWk/yZhy8ddsvTcz6jVUaOeT86XBq5bLZfVTx1L9x6jFr1CbVeIiesIA/MTg0MSZATEtqIjoB8syAOGY1fMQ+HTcdo5DXEGvY5dVvtadKe02ZdmU9pTpT2lMp7SntpT2lPaUxO50gfM9Xgl/eGbnvLe8t7y3vLYQLiKYlxXvH7b0EK+WbsCOWNekX7z0ly8q9ZeXeWzn2QXErEe+gK1Dm/uWcQce0vGvSDTDL9TLK9Fl+yMgJllYQmOdfEcum+p0KiY8UzjvCvn8Me88r6x2s8v70a+z2ly+vb/H9xlNxKs7e+7Tb+yG0P3WptjtnEv9TflpafZdSrjzPjoTmP3gO8o7zicTipxDb83Hb8XOJx2ln9ZZ/Ui/olnYm4/qSz+ppZ/WcdusmRiPDOLj/5AwZ9FqZeFka1qYNlkSjXZy12ji1Up0C2bU5rjWp8x0SE+Cdvv/Uyr4n1c+8+v4neKrbCDUt03Zd4q9FvebnQySOeT7ijvLO0v9fh70MW5teZxXuKsfYbpue+laV6dFN1Uri+iuLiJqF9AXEhOaZic+yPWG2bcau5ZZz8RbdTOm6uPiWUkv8AUsuE+o0FRyv7e/Kq/Jv3a1picHvz0ht4vtAKqG0gEQNOKg4y8YtsMgl/qLfx72ybjtN36Jv/AOSfUa9CKsJZ2i4/BLly/wDplvdl+3fbVqFpEp9qFjoVZGo3RKK/dTad5lieX/IlfOpivpKLi8xqjvFGunc+xfY16RKUgLKY8OlaEr2teW7gQyD40OBlFEDEfWcXGvjXiGeFHEW1YMX0i2y2KvsnrvRKa050TpMVOIlaVKlVXuctt8MKplxbZjMXlWO2O1qZAPDrZ6JBr0uLely//CnrE5dH10NUPL/kfV/A4GPqs4viO15GmLbeg1DPEDiOQ/Et7/grhKO8Sta4/CBNuH9pXR8f/d3/xAAmEQACAQMDBAIDAQAAAAAAAAABEQAQICECQFASMDFgMkEiUXCA/9oACAEDAQE/AKHZOgKnUZ1GdRnUYSTBqX1AcuHUFNMccc1iaSRBqE1apliasCaOIBmr4zR44gTX8Zp8Wk8JqP4iafFw4M+BNPxHEkzT8RxJgwBa7nvjAMX5iMAohVRRURiM6dsPHacBqbXCY4DmGAYqaZmZmubgaDtIRCIUIiEQiFEKKhsPcVPsXuOjvdc7ceLlwg8cUPAvRfBjxebB90YjzeTHGIDnZA0NpiiFVOkTpoYjFAKoUWyBoeKPdeY6uEx7U9gugFFVWLbnlmLXVx1ZtLgJjMzBXMzMwugvVVOmisUUW+dBa4DCbBDVGLkGLHzCMRi2mOFRmYjRQDaqAI0UA7wfouZnuriXbmq4R1zTNmdgH6k44NTudjjq47HtUIhOkQWrsKL398CorF3F/D1FFzL4F9lcW93mgsR9IF2ZmD3ck0zYj6fn9f66XM//xABDEAABAwICBwQIBgEEAQIHAAABAAIRAxIhMRATICJBUWEyUnGRIzBAQlBggaEEM2JyscFDFFOC8NFw4TREY5CgwvH/2gAIAQEAAT8C0voMd0ThWp9QmtfWJjAJv4do94oU6Y91YDgp9igcla3uhWM7oWrp90LVUu6tTS7q1FLkv9PT6r/S0uqH4Zg4laj9ZWoP+4v9Ie+hRqj3grK3MK2t0T6VR3uJtOswzarqn+2Vc/uFXu7hWs/SVrOi1oWtata3mr294I1GicQnuNR2Cp0w3x0VjL1T7A0VJtOCHFM7I26lJpk8URCY+0yqVQuOJ2C5oVV1zyvw49INFfJB8wOu2Q0ZD4eWjkjTZ3QtRS7q1FPqtSO8Vqv1lH8NOOsWrePfVtXmE5lY91f6er0Q1g9xS/uFXHuuV3Qq8LWNRew8VI5qs3HOVYAMVdDpaqVee0ta2VrMMGuRZ+Jf7hWoqtBmmVQMVANFaJxTPzQvrtO+JR6+1vIK1vdCtZ3QrWdweSAb3RolSiqlMCu09NH4ngqOL1/x2j8jSpUqVV/Nb4aPxLt5UO2fDbPyVV7bdFbt4qj2ise9tH5Kre6VOCrHfX4aJcseW0fkqpkm9lVO0ZVD34yX19U69pnMIEESPkV/ZTTup53ivw8QVLe8PV9l/j8inIoHtIySVQEtcFa3uequ3gOacd5g6/I2Mq7NUOwp6+pOIKt7PRDF13l8jO7ScMyqU2BfXZ4fJlbipKpCGDqvp8o1uPhopCGN2j8mVOCwCp9kY7R+TH8E7tEdUzBg2jsOfClwgzIOmTy2QQdF2OSv6FMcXTy4Kdi4TCkaMb5/VGy4+kZsXOOsHkhl1+EvyCePSnxTRA2jsDAOcn9g6HGBKJhzU78Q0I1gYtKNRwLcPFBxdPRU2w0aQDLimsfhjkmNcyeOk5ItudKeHmMOCJdcMYUmThxlXm1vPirzvT9FTuDQCDodGtb4K9wnDir38uKY6ZUGZBWrqSIKDYchPFQPgz8lV/MTMhtHY4FpWenV5Y4I0ml0o0/SN5Isk5oAD2JjHXSdNo5epa64u6bbja0lAyAdsGXu6bRKBkBOdHq3dkp35zfYHEATtudBG2SBHrJ01H2NnTIxVDszz0PLiIykokDYqdh3gmHdb4KQrgi+CAqjot8Ve1awSqZxf4q7fA6aKnYKmXNTnwQnOEtxTOy3wTsz9FIGxcb40SrhEoGdByKdhUYfW3Le5LGe0iBcFeLgNi8TBWs3iCrg4nxCuG90V7YBTnhsddir2qfjsOPpWjkiYlBwKz0PcGiVdiBz0VTvxGYTiRaFfcP+UJ+80DjcgI0PYd49EBAjRDs/1I0595C4YRpecD4JgdDT+lavqtWI/tWdTKsyxUGZCsz6ogFWYjRBwnQ5so01ZzKLCYxRaSQZyQniiYGj/JPRcesp4wPgnjBscFvxlxV2OWh43qfigp9b70q039Fq8c9JVt0ytT1Wq3plWdVqxh0RYXZlCeekyarY6q190zwRbV3cclq3DIqyXFxCIdq2/RMpOmSmiPPQ9pdhOCsdc0zloLfSB3REA5q1vLYqdn6j1DmuuPUezuyQwA2H9ofu0fT2ynTLTj8Wqdr6oL6+rnGNEiSEHAzGy8w0pkwZ57DXgtnYLzODUNiRimuDp0PLhEBEwg8a044EKfhdXPy9a3853gmk3OlM/Nq/RU7r6njoqPLY6ovc1lTmFrT6LrmqrwAmZE8zpeMeKa22w45Kn73KcNDzDSVcG29VrJwAxVSo5tMyE29tLPihOrcZMiUzGmPBUmWt66HzAjmNBbvNPL4ZVz+ibkFHq86rvBQZp/WU2k7WF0oADQQDCLGnNatnJGk31NjeWh7bmxogD4lU4JmQWPq2shzjz+R6nBMyUD1kq8K/oVe1Ag/IVTL6pvHZOyTClOMDEppYckcAqc4ydD2cW4FMdc0H5BqdlNzcsNg7BOMBBugYvPROjfdyT3EggD3VrNw4wcAmuhgkq4nJAQPkF/ZKHaPgsdg7DXNGeBVzeavbzU4yCrf0lFjnGclZ1QY0ZD5DOS4jZOza3kNmRMbZqRUa3ntPMNTCS0T7A84YZnBM7Ois8twCozZifgZzHjsn1R/+Ib4KRzV4mFI5prw6dL/z2eCkaWvtok9UKkYOzVRwlv8A3JB1opt57DrpgOQEDPSHtPHRUqAD6wg6Z0l7m3cYV/pY4QnVQbTGAKFSGsAx5o1XAYjelV8amfBNIAa0fA3Z/wDJYbB9U8xVZ4FWbzT1TWPJAPWU2gYbPNNbBceZ0vIFZh6Fb9sW+9KsfJ8ZU7zycOQWrNrS3mrHFzpGZ+yez0vZNq34a52Bbl1TTIB0vO7V5o1YxjdU1DhEdU5w1L2z70BOaBbd/wBhWnVgiZlWboGk5IMznGc1q2ckKYwxkDhpgcvglTM+OwEfVMDi8SMZM7TwS0xmqbDIJGQ++mPUEA5hRodSaRGXxCr7ykaR8oVePgodz0j5Qq5/RTpG0X8mkprg4SNLpyC1fJxlMdcOozV+/bHqJExtUMvI7RIAkoEESE14dMaKpgN/cEbrm4YcUCDloc4N+D1OCn1GaLoc0RgVk89Rp976aG/mVPovef8AuCl18Rhz0NcHZaTPAKX9EPzHOceyITntbE8djXYbzYlUHiGjif6V4ut6StfwAx4LXyAQMOOmsC8tZPVOe9geIjCUxx1jYy/8BMrEgc1VffSB43K5w1g/TIVIP3gH7o5Jr3mx57wCfGBPDRae8fgtTgiMT6i+1rzyKkvc3DLFDFxOl2BuVwD3nwVWWU84JKB9KOoBP0WuNjndYCa8twdPQqlc2d0oaS30odyCscXRwukrVmRvaSJ4prHsmBPIoUhaBy4rUtzkzzVjQ67pCsbbbGGlzZIIMEKqyKdQzJIQpNhpiCtW37QrG90aY+EVMgnDE6eGy5rplsY5goB3QeCAjYDQMeKIBzCbSOtxGCtbER8hVMkRidPD5QqdlHPTw9rubdbOPs3GPWEwJQMgHbu37fV1Oz7LeA8N9V7zzyeNgOJquHADZ1jfHwTXXThx0U3XXfu2Lt4jonGGk9EX7jYO8Ve227ggZAKJhaz0s2u7KzCu5IGdBIAkp1TIjJMqNeMEHSXdFKkKRMKp2DCaakNGGOiqTg0cUI0F7mkyJRdBA5qTrMuaa4FXi4hSJhF2+BoNUawCeCpkuLncOGhjic9D+ydg+oB3nJ7nNc3u8VrDfEYTGwKjfvCL2ggE4lXCSJxX+Q/vGgmE6uA8Z5Jn4hjiRkeqDgciiUKrC4DGdJM1XtHGFcOfFBwORQqC8tVOpNR2BxK1pvi0xwRrYS3LQWg5hNnW1OWCY5+FvCS7zWsz4jlyVFjd7xQaBoLWnMJtNmsqbvJPpEN8PutTA3cDEIMeKdkBMkNbPJRhBxQl5qSI3IXpTbhEKx83YTyTQcSeOhwkJ1Fz83eSax1zYgZoUnYy/PNWPLbTGC1Q45rVvum/7LVDm5W9npoqB2bc4hMba2NFuJkrVmRvZJrbVq8oOSszk4rVY4las3A6LQahPJWuIjJAlpdciXWAnOU0cTmU/snYPqC1283mc0GZb0gLVm8uBQv6adUS6rPHJPZVdbhiOKcyoHF3NUmG7jbnjoIBTqMvw5JtPfuMZcEAAiJEFapvGT9UARxJ0NipUmcC3+1qThDsAZC1URaYI4oU3Akh+eaFJo8ZlNpw6bucfVCm0ADlpj2SRNMcQfaHdk7B9rp0gyY9he8hzQPr8EOR0hH1ByTW3AE4ysnwNnWScGEpjrrgREJ9xLbSOqc8h7RGeyH9vota20OxQMjRdvlvTYkImASnVmtYH8Cnuta49FRm0gnjofVtqtGPZWsZhjmJQIcJGh7bmxJCc92rgu4CEKzrWgNudGKc62rvcbfshWNju/jDUKhLxduiPNOdNZpG8ByQOGXwA5HSPUuc68gO+0qarWkSBH8K9rXtaOPFVK1vDxWv/Rxx0uDmlouzenUiSd+JMoioH3Fs4zITi9xvti3KeKBkA6HkCo0u4AwoquLXxa77Jrt2sHOHJS6xm6ZkpghrRyGiq70zx4LWel7W7H30vmWECYKYypjvRJmE2k91Ow4AHBavDeBu8FTBDccyZ0VKLzULmkZQn0iGk35MhMEMaOmgscTi7DlocyTMkHomsDf/ADogH4KPUlmMjBBuJJMqxkRaEGtAgBRpI0lodns2tmYE7FjeQ0R6ktDsD8NHxKQrm8wrm8wpHNSEXtBAnNF7Bm4LWs5p/wCIa0dkqlXDxir281c3mrmq5qubzVzeaubzVw5q4K4K4K4K4K4K4K4K4KVKlSFI0j1F4VzjkzzUP78fRWO/3HKHz2/spqDgD4Jrw7L2kgHNNG+WknmMeCsarG8lY3krB181b1KtHXzVjf8ApVjOSsb3QrGd0eSeAGONoyTAC0S0IakkgWytWzujyT2t1nZHD+UdW3O0K1vIKByCbg9w8PaRt5/+696NFTsO8EXNaJKOIQMhOEPa76e1VMCx3I/z6wEih4YfdWsYN0BEOpm1p4TkjcSIdcf6Tz2pacRATeyPDQ4kVmciI9nOZ0cNkmBKjnoZx8SvSQHNdJ4hOfc12MYZJ17mNwAjqhWaABa7+Uy+0C3zQbjJMn2p7bmOHRUzcxp6er1QxhzgtVhFzvshSjJzlqxxLj9VqqfdC1dPuhatvJBrRkPZ3ZnRw2SJEKxwyefrioqd8eS1Rmbz9MF/p2dVqafdQYwe6PbqHY+p0ayKrWcxpuEgcSgQdm70ob+mVWJAEHP+kMgnutbKpucQbhGK4xovG5+rJPLmkO4cQnXW7px9ldmdHD1rnBok7dwutnHSKjS6B58NgiU0kOscZ5FXsvsnH1lHJ37zofu/iWOLsEPxEBt3Weib+KaQ6REBPc/XUiG8MinVja3VjhKH4i/sM4YygZAPNV792CY4wr67aZlvgUL7gW7xDcSmkwCX3HHd8U0Q1o6Kp26U5TopghziMskDLn9EWAVacdU5hdO/hy9mOZ9dLtbnhMQvxPYHihkNFzQYkaK7iLIOgfmz+oj7aKmJaznn4ILW79lpnjoe61soOlzuQw+qq9qj+9atusv4x6yj/k/edAoemL1A5I06Z90JtNoM/wArVMgCMsk1jW5BAAAAbREoNa3IAaYxn2cjH1rnOuDW55qbKsPIzlVTJqZ4uEHTUp3XizeJwcn1d1jRcOaex7AJdcZyW/Uf3beCpYu8C4nQ7drNcciITnQEaW/eDvf1yV2/b0xVUgMOE9FTbq2Aeabvvv4Ds/8AlFtX/UAg7vrKfbqjrsPdawlNd2wT2eKdVAczHdIVzYmcFc2JkQrmkkTlo1paSHN/b1TyQwmOCp/kj9qolzmBzvbT6tzJdcHEFBv1X4giwjjhsEAiCm02NyanU2OzagAMtBEptNjcmjTAJB5Itacx64fnu/aNh7bmOHMLUkDd4jenim/h37oMYFCi8Rv5CMkaOEXHh9kGgeUaH0w8ickG7sEyizcDP+x7aEfWljXRIy9s/wDmP+H9+ukTE47FRwsmJT2AMJEgxzQMgH2YI+wyJI5e0f52/sOi4Y9M0KzbS44Ywr8WR7yqzq348FTEMGJ+qnGE47sthU3XNn6HQX4VI91cBoc1zapqBs7q3n0BkSQgYsaR/wBGix+qDMOSJIEWEqkCKbQfZgj69pNK5tsgIvhzRGaDwKtb6IvA8x90XtC1rLZJjSXPu1R45HporF+GHvDinguZ14eKpG653M/x64/nM/adDcKlb6FFl9FsmMJUNLqG7wKqB0VMM281Tqsc1u8JhPYH80xvow1wVOkGOeYGJwTCXA+KDPzOTk6Q1jeOGPhpgBQJnTlsmeCa64ewj19QPLdw4ygw2mTicyi2pcHbvghT7eOLkabjdvdrPBaoXAo0mm7rpdSJddOIi3Q5sx0Mp8xhmck1toA9c786l/y2oG0XAEDnsMcXY2wOGioSLfFVOz5Kn2BoB3ndE50FuGaoOlvWU38yp9PYR8Kd+fT8CnXRgJKa6ZkYjQ58PYOcq/08Tw0OcGiSUDI0OeG5q4SBzCuDn4Hi1awY9HQr5LsMl+ZS8QmvOAcwz9l6TrM48kWPdnOf0RYbjN55JgIbimuuEqN+oOYCey6DxCltNgBKpg4k5k+wt2iQM1eT2W/0hUxhzY+BP/No/VPbcxw5hEVdW20GZmV6W58NzxRbUdaYiDKDHX3OIy4aHXe7CbdxjQKbpxiJJ6o0Z945QtU6QZAjktUO8c5+q1fJxA5INaMhskAiFEeyt2S6EGuOJKBlPbc0hMMtGyXAYceSBkJlQPmJ0MqsfNvtD3NbXaXYC3BBwOR9ZgrhzCub3gr294K9neC1jO8FraffC1tPvLWs5rWN6+SvHJ3kr/0u8lf+hyud3Crndz7q5/c+6uf3Pupf3fupf3R5qX90eal/d+6l/d+6l3d+6l3d+6l3d+6k91T+kqfFXBDZObWp829qOqpTFxzOil2fqdh7ogDMprA3x4lPNtNxTRa+P0BVeyG94wgAKhjINGgPJqFtuA4+z6mn3AtTT5fdar9b/Nas/wC49WO/3HfZWO/3HfZas/7j1q/1v81qxzd5rVM6+ZWpp91aqn3Vq2d0LVs7oVjO6Fa3uhWt5BR7QNn/ACnoFVcyO2JCBkBPd7rc/wCEAAI2KeO/z/hf6ht8Rh3lW/Kf4Jhue536QqxDXUnHKUzi7nsRiTJ+Q3smCDBC9PyYoqnNwHgmtDcthwlpHRNrMsAPayjihSqOaWuAGWPgravF/kEKAb2XuC1LD2pd4prQ0QB8hcPlTh8N4+wSNDmSZkymOuHUZ/AKjrabj0TTLQenrCQND3hgT3luQkpploPMbIIIkaKmUczCpflt2HPjACSmkxiITnQ0nkEwmMc5Q7QfzfH9aS91xDWjAJhLmyWxszn00EgImAgQRIOiRMJ5ZIDmfVOaGFlve0O3XtdzwPttScIeR4CVvF/aqQAnC5htDz/yRe00ssZ72KAg22ty6oP9JAfEeOKZUnO3zTXB2I01H2uZ9UwQOvFPe++BENEuUiSOSBnEaPfJ7oWuxEtOP9qv/wDo5OMOd0ppohoHTYMGQqbnsNuEXxKL4r9rC1awPcwwYnM+Ca4tpUupCdVAvwyReWtkjHki6Gk9EwYSczmnPDef0VR7TSJnMLWWX4Tvf0m/l0v3aW41ndBGgPIfacy77KqJHYB8VQ/KZ4Jx3meKZnU/d/Wio0uAjMGVSLi03Z3FUnS5+4RPRSDK/wAw/aqjmh7TxHBVuyDyIOh5l7G9ZPtpThWDjGMoUKrcnDHxTvwxtdjj4Jv4cx295aipdM/0tRUv7XDEplOz3jHLTVEmn+7Q/wB+Hb5dC1UZPd1TG2iOGhzX71sb2coUBxe5OpF3aeUaIJxc4oCMNg0pcTc4TnCsZbbGC1TLYtCNIuEPfI8lqmcZP1RoswgQRkU6k52dT7KJaQeKZU912DliTc0jktVbEguELUuz65FMYd2RAHDNFxe9lsxOOga1rnwyZOcrGMU5sxHAo4hWmWD3W6Iieqt3idAAE6GtiTxOgiVqgc3OPSU4EjOExjW5fByJLensxAOY+KFwCL+nmrqnL7L0/wChY+85w/hasc3eZRY8dl58Diqbw9s/JZe3xPRekd0Rtbhj4BU3NcJaIRgZ6Ru4HLhoZjc7mfkiQFveCOJgY8+iDQE4nIZlNaBoqCbB4/wmGWNPTQYjHJNJeOnHr8OqGuHbjQQhVEw4Wnr7TieiCecgMygABA0Mxud/3BVSYhuB5q40xvY8inX2yXdfBXxSaCHDKcEww50AxwCt4vP/AITc3Hh8MK9LzaUx1w+qc0OBBVIua7Vu+ns8af8AIfDSGkZHBOZMY4hGPfqDwVo4Nd9TgrSe0foFqmckGNHD2CYQIIkbNzZi4TsGpDw2NLntbmU14PA+W2DInTWeWARzRTHXDrx0OMAlPcdXc1DIYyqPv/vOiphXo+1FoKtd31D+8PJWnvlWN6n6oADIbF7ndlv1K9L3m+SJqNEkgjy2J9MRyaqhcIDcyU0y0HpsveGD+lTqh/KeUo1N+I+qrZNHecAqfYb4bFUmABm4whTYAN0YaK35bkwgU+gn+VIde79TdLsKtM/TQ6qGOdPSAqhbbjMdFTdTFaGjAt5aaRLqbSVRyeOTynutBOio24YZzIU1b6hyxbPHBUZhxPEymOuaCnCQQhIpt3eCabAbhEnxTKjdcQ3J386HPDvxFMDh8EqTq3EJ+85rPqUX79sfVMcdY8FBwMxwKb+Y7xKqdtmJGBVMGxu8ckclJn8weEaCUXsBmN7lxVhYWOjiZjqqjn7xa0xIM5J7LLX3YzkmOh8mQLQBgpq3ONsg5YwmG0G669Uqmcu81UwqUicpP3TptMZwnW2y15u8U+57t5r7eitqBrLsgZMZoQXQwGCZKc4NEkphuaDCqSH03QTE5JrrvdI8U5oc0jmhMYlW793SFWcQzDM4DQ1tojqg2C4809twA4cdNomUQCIO0+m93BvmVToBhnM/BKv5bk6mJkdpFtUvmAE8OG9m/grHw9sZmZVlQuukD7o0y6Ln+WGkQMtESmsa3siNIYxuTQNlzQ4QQmst4lQP/XW4TE4/IrqkPa2M9ozGCtdxf5Js34OJAz0YDSaoDiOSBngnDfaev9aQdAcHZGfjJmDCZrdZjNscU4nW0+oKq1nCoxreeKqOLWEgZKk+8Enmm1GPJtKe+KpwPabihaSHjkta28tRe0YE7FTEsbMTKa6Ia4QVVc9tpHOE5wc2mSMLsUH20bvIfVMc8PIfxyTJ19U2yncBlJTiA5oxwlxUvY8F3E/ytdnIPkm9rcqYRyTC99wPZnPmqfbqfT4y91jHO5KkXFgLhBT6bdcycZlOoAODmBsqKrhBtHhin0XAENO6cwrZtsZbHEoMfeS6M5W82nV4bxVSwhjWkdoYK1wpR7zkNLw65pEYSjTe+LneSsxFzphGkw8FqKXJaqny80AGiAiA7NBjQDghTAjEmNiB8YFZhyk/ROl7YscpqdwfUol0gl1PBXO/3PJql/Op5BRV/X5hW1eZ81bW5nzRbW/V5oNqDg/zC1f63+elzrfdJV57rlJ7pWsccmL0vJvmvSc2re748lB76t/W5WDmfNWN6+a1bOX3Wrb18ytWObvNav8AW/zQEcZ+Mascz5rV0+6FAHD11jO6Fq6fdC1VPuBatncC1VPuBaqn3QtTT7q1TOX3Wqbzd5oMj3nefzCXNESQi4DNNcHZH5CuBcRxCe61spjiRjmDjtscHtBCrVCymSM0Sb2DxnQ7WTgBHjpLWGsbxmN1V6gyAmCCUy6662BHw4kYdVVqOZENlMe81HgtPBHAFWtDGueHST/KaCMzPJf5/FiD5eWoVJMRCD2nIq7030V0Al3PYDiXOFpw47NPtzzv/lVCNz94TM6n7tD3EVejWSmm5oPMKWtrNIv4zKBkSnNccnQqDXhvawk8FV9z94X+b/ho357WHhodlgnNqvwNo6oy2/cLriqYIptBzj4XRdVdVdJ3dL/zaX1T23thNbF3U6Kj2Foh3vBBzTk4KxrvxJBack0apztw4nAjFOY870Zk4eKOsNpDIDeChznuc24f/wAUhzhfhuSmB262TaRJVMRLeRwTpgxnCEwJz0tjF7jkT9Fr3hrQW49UA68lkR/ZTAzO1xfxTGwP50VKTXjLGMEybG+Cc2X0zy+NQJB2LWnNoQAGQUcdktacxt6tkzaJRAOYlYDL1AIIkaZ2XOtaTyTn4NgZ5Jrrh/KukkNcJHBNNzQfhr3WtJTCS3HPYn1z3kOA8/40fh+yfofMaTV3ojCYlFzphoyzWsbaHExK/DH0LMdDH+iucfFEBzehVIAVHhvZ/vQQ4+9Git+U/wDajuike7n5Kk6atSDIMFMinId9CqXZPK4x8LubMTiqj6grNazjzyT6hDmB0DJUuyTzJOh04AZlBhce26B1zVaLxjkJ+61rcYxQqNPTGFW4fUoODnDmE95aRxWtG7GM/wB6IGPXYucSbQMOJQqS0EDEp5NwnjA+8ove8wBh/wBzVDIn/uGnCnUvjB3HkoDq2ORw8k/sO8F+Ga3Ut3Roq0gYzxcJTwXNIBhMpkCC76ZaNTT5HzQa1uQ+G1LrDbmqQeG7yJgEol2up7kZ7NTn9PNMHaPXD6JwDqhwxw8kWvtLA3wKDHNJMTKseYmMolWnWEpoOAg9qSUykBnnM6IxJk7GqbMyfDgjTHDBase9vLUU+vmstOppzNgWqZfdx9cXNGZHwqo25hCa1197uWA2c1qh3neaDWtyHsF+/b6iRdGlz2tzOkEHRd6Qt6Sp9MR+lVeAgScMUxtjQ34XIKyVJ5c3HPYkFCoC8tjSHguLeXqnCQQqVZoaGuOIwQzn/wCr/wC2xcJA5o1IfHBPdERmmmRKcKgrtgg4FcMVPpiP0KtOrKaAGgDJP1eFyaRwB0QddP6EWm+4cohPveLdV9Z0Az8GFWm4wHY6Dkm1A4xj9UBb+It4RI6I3uvxwEiFT7T/AKaXAOLyeCptYG7ozxTnQ4mDg9axxyEdSg+bcOElONtSf1f0g4ducICvbhinTBjPYcYaTyTm1ABvm4n6LWvLoDMYxRIAxTdXv3sxJnLgmCSIaQ0GcVz0/wCU9AnYOfIMObwQuaKbnD3YKpGS+MkWy5p5aLfSB3SE6m12c/D2fhw0gzMZaWGaryMoz0GnjIcQg0NGGkmDUb3slg0ZoY7oyuklWHKd2VqsIuIwhWOLhMYLVnVubPFWOBDrPeHVOm0xmhpIkQmsAMyT4pzGuzCFNgxj48QCIKjaIBzC1VPuj/0hqPsAwnGEDIB2GuDhI2LCcS4z0VzmdrEc9kOOtI6KqYY7wVEQyORPyG/8yl9VT7ATXh09NFXsHqmdp/js1CCLeJwUjBOdBb1Okj00E5hObAaObgqXZnmT8h1TDm84ICENACNtriIyzVN74xxJj7rttIVEyMc52Wslt47UkpxDhIzHDinPvp5HdxP0QMPJeYkYIPfLt0kTghTmb8SVqWdfP5CGteJ7KLCATe8oU5ey7qYnJOotsIDcVVEUiGjPBOp5QckKdQEkOGP1TWgADlssENaOiLWnMKBEfI0kcFceDSmtiSczokDip+VLQocMnK/gcNmRMcU9rzEOhUnF12M45/JNze8FrGd4IaH22m7JUrrBOkOOse3lCf8AnUv+SeLmkKk6REQW4R8kEvdhq8Oqb+HicG/ytWe99llmZUvOTY8UKYmXGTsBvpHu5gItlzXck4PORhMYGZf/AIKED/7k/wD/xAAtEAEAAgECBAQGAwEBAQAAAAABABEhMUEQUWFxIIGRoTBAULHw8WDB0eFwkP/aAAgBAQABPyHgzLBbmQnSaAuZNVT2myfOBpA8pb41y+GOU6L0n6yfropLpZ+RnW+s6I84tvGjTrtHHhekbbr6QKruE0bLzgXNzuVU+0uq4fop+kl/+Mrzek6L6M3M+kIh4WDYmzELLzFhLQdpiJGPCtzmgS+a7reHEvhpzrygfIYqKskaoCxm0PeXrVQuukya/uaxgjcjcLQvENJfeQsDZneeb4d5spf0q2X4F7PSbqC3/UC0p5zlRvNFaz2hph6T8FhKfdOn6oSr7pRLmelPzko1H0nUlgIqVlUMTV62kv1+kIjIK3sxNj7GJzs9mN365Fx0ETQLwzFaEqOynHKaAqWfseEmz6jRwU/CuXLmus/RT9JP1cP+agf8YJDgASc8lpWJU9cCbpjPiE1/VKlfDvjfC4QQcHLv5by2lADOJsNIxyfFr+m38vfG4MuavpNs3MWg0xEJ4WjM7HhJq+tV8S5cuXFXQZlhymb0mX3rxJNX1ypXxdOWzy4JYZW7zJ+wzMeGR18CJfmlZgpLPqF/K6kCxcv7k1/W/Fp4VqBo6H3P4Kb7UqMpcndgqaO0r+CUC2PYjA5zL+DGQOUUAJctRO94dnwGhzJovrI6Yx/Bhrzs1Q3xHoDSW+E6vCl/wfC/LMWcsNV6L8R0/hmXD5SxMcnw6P4YM9RLsNZXHbEvr4dH8Nw94lQ6Y2mOXh2eAlRBaH2V8btH4QLHg1pafmI80gB0fAO7ZIhq8B1GNDy8KhcxvwFE1GHgOzPDN9Po/uJgoqTpK+CpWbwcDsyODZuWJTY6SpUWPtNeBR64tjRqISzczxubegghYOgmlsuUNODRJAxE1zpB7XSn/Y+6kPWGGesdZfSXYjBpOyOwDgwrs4OSunkS3loX2i3OC8TPVrnzZQ1HN7zIDisygyzFEUyfRvukVPF4JujNTHPwE1eCwLdWmZelHBBEdI3otGkSMgDBus6wUdDVnaWlGrD4VSvETd1V8+K7cAGD4AgN1ePpgTrAeNw7U8TAVqtEuXMmCBf+fD9pK5ek5bSzl4COvwbUhkE8ThPPxqWdWj4lDfj1ltNQ4JGehmHPmRcQyBoFwe1ompxFn1QKbzWJC3pMoWZhUirPQtwZq8xOm0BTnc7R7ynh9h946egXKpXVgeq/qKgY9rX1jUt108GJtlylpym74gCzhn2GOMVUt5+Ajr4VCU2FlvklUD6Jka4y3EOZ8FVBM1DBKC89oOjlwZ9WalwxIvgaCLLrjde5plHQgFwQWcLD2iDlj7cEobOHvKaTLl7SuFqRs9NPKBovgUd5O8IhscLsNbufSVNV794xFpNSXjgAWqrEyyXh2gN0l3XWBVtu7gzVubzUlNNxsJVzNSmWcTVJbBzu9+AtKUe8Qa6QdcFsKB9Zl2KxiMcmKDPRic5cvngXtajG00Kj/VM2NMW1sK/SF8qjdrWoO1oNuF1hcIrSW6eA4X4NeIW+QqWtds0keNCHBoWFx0OhKiG29ststMHSVtRZ16x0i8g5JWbbioDrbjnQwUmyG6dpSAcvWKLsLFObLbUYN5Qm1G0pVxTfW2V06n14beb+cbHe3twV5JEFoXAkQ2SjWuP5HWa+NFOgHbnAAr5LD4ArCFE6h4PQwbfeZ5PAfMJFXVh5t/JIJn6IPZgzK6fhgtuOAm4NZkjRz4bJMArSngN6ZdlnHBWRNFleAbsYpXZrgErs5OkEWw//AHogEua/StbzQqieng28fscpGjFS3Qgmqq4MBNVTOFrjzhaMYxXepHfMDxdLZK25xzXTV3l/wM8EG2I0+26DtqOD+4gKNVfWVNrIy7DMIxL0lbJrb1gBill4P8iOF3Xvf6bQKSng28YOxxg99wtLBXEtKK4ZQaNkdsd5ocsQu16wAAPgVxRd1BZ7yhKckAUGIAYPqOvsYnp95fT7eB08eatX8H+/L084UaeB0+Ag3nVlP+DOc13gGG/4FpsPIzqwujH2jx0eEYE7SwajpAxp56xWPIi3jR9eGBxOlbzAuu38B1eG7PBs8C8zAMuXnwyPYQM3cDuS2BqfOa89gVN49Zmx+bKg/gIvtTGC+jiTZ4Lw1ObnQTo4i6s6gXGypl1FomcLVWGBqmNLf4GMu0L75KOTxPDQdSfopQaHg3vNaeMqHu8AjpwVk10POMWrN/IIc4B5y1Lb1+/ASzKXcbLc25+h+7eAmv4XvcH0EFc13hguYleOOk6PvBC73qWG/BhddHnL6+CZ7zUOBV8kvgbHgtxEaiz1eFlXLatHBbnNYu0GubxXuAo30ZfVNWKWBLfPDKA7LG0Nn2So3FgiZsqM1t9Dx8EJr+FdAtQqDKlKr6YlxACvNGWaRX25RFuJqowQKL7ydruWumwkLp2Ck6zHmc0vaFyrO+UIoKGtdSGUaAMYMqzTiZY1qP6iU1jV7yivN5KgtUt2Lil2KrtsIZ8VVnrEN3RH0b4lUDTzhBrNzhxUVoNkrlw6CAGh9Dx7CWc/bjqmr4TFi+Q8RW6piXsHM1VxQpYeCvBTUMQ1Zo2cEIMkV8/qBz2Tq8dUdf4ecx6T146v4gIU5vr8FqYDl4BllJV7x3k5ruXllJQ6z/c6/AwLZdDwuBlr51PMTxIkoISSydJHg9Z1COgZLtymoB4AW7tHf6Pr88c3iaPh1JtE5bh6wCgbnn4IRU5Q/i5QPKnXvZjgHVaPFg1Ja1R85ev4LaaxSzV4K6gaHW5lK/ZBKOdCiqeTzOcAi6bcr4mClivKEcKmrS8SrLL3lbQWCvNrMDTxoHlEdq0EdczRQBndiDNoonPmym3h3/UGwan4R9G/WuJo+FDMaxiKzcXJArjQloFPSABmytbx4maLEps9WQ4Fp3ks7Q5o57RmFjZIlMlcVdkvvLVGt1CsEbzOsUm0LrPBtDO0oI55XTvAv1yphuKPqTKcoVAzTyED44/Mwa4YqdEz0I+4pGx5wOsY0NsTKOh04VWhKNWafSPeT1N+AE7HYGU6wwAo4VwcwIwgPeX7UL0wVMSiuXylXr9O0+8Lzn5BX8D+5Bljfi/FV8btRdfLWUtl+ICLQJVm/j0qba/D1ZXF0PkWoW34Wm99GleD/uceBQ1Zy17FwyhFUz04Pn2QdvAB5UPrOnyi7YFH38oMy3S4HMC4AV0NZXYDl66wQE3I9xuqgm+DpKJXY6sfeWR+UqOzr2lKu8TqE7hVzMMmw95T1cs66TaIvUvXpMGHBjhY4NSuUGigJN3Oj0gtl61mCJwnvMixZrKaepwDpWrvMxrNQusuuvt4cTb8C7JgqJIZNeaOD3hvfioFsXvToPOcgoEHLg1Jdr0vQ4Abb8szA1dlVl0iRxbRoY9oAKuCYQlpZV8dSWVeVTRd1POWVDURXcGsCzVX/f8AUzbSvDetZpAbA3zduCQg1zmuuFQ8pXAsXmNEutrRzSjLnG7q6maBfqvDSV7kRiUUJYShWc3kwFa1BrWVNpOb1uALUUY25RM2EinLWbDm7cPpKK32kKtLW2nDHDSInlEFMvWkLttFF3Kl3O6EbcoMdeVwrc1avXmTyHUY6xXdXHOrRt4ba5jrymvOF1LiqDvFEXyUQ7ZVd2YKXkHSWTUM3WlQNlEdTn3lBnTdduXARtaV6QFeB7sZNbpWkEe6tf1HL6h/k9nxPgsGHW7YpRWgP9iYW3ZMTm+m+JoefgxnFfuwyo4YjVtEDjqZYN1XABHSDaAAU65GaLvgUmgAdob6TFDLlLkdpjPOcNbrLRiNNTTa07ypxBs17xQNq8CZi11fWLZsGDlBNMK/PnxAXRq28QDQ8NfExJ0ieWfk6MtcUHbh7XiTV81QzLi3p0OXyNJW3qa+JRr8x7Z46pq+AqT0gK2i9cQxaCNnLw3o61oe8VWJ1rcpQqbG9StqtXrXgsurg6hCWiCFoN4AJol8C9TQt9/AhVurROlgsyWaKrrBtCxMAQKbuxwxYsmiZD/hQy2HTgSLeWNaS1dauxb1lx1LkqHsGzniL0urAyciDTqDTi0qyhzrpiIVl7fQPYeA6/AXiwaGSDzids23mvC+YslWMW5S9YQhLbXxAOF50NaiWUBgbkM4Q9GbVA1pNwGZol8GsoV3QuLht3HUi0I2jaDgZ44xm6iuugcEz6so3Wahj147283E3JqA7VBXc/gurgWi4sWuZlufZ8+c5khefAOi9aOfkFbcp0IPBFn5RXrwEsIq1tLJNXVZXg6gHvAAwfQXR7SuJ1+BqG/TfvHzYlaYqLaZyqUAhENiHEFFNGziVQsh4PeZXgtVbnepW0AFBR4a8BFFl/SnRl/Utl1ZfB5hP2U/ZToJ1CLg3omnjzj1fbMsX9MbtBvTip1p1p0k6SdBwXXnXn41O/6T8anc9J+FTuek7npK8n0levpK8LrSj4RHr2n96VRXZ2f6n5xKaPa0m5D5H3gbbTU3PmTa0Snvyo6F950c/As/Eo3/AN51vWnc9U6WfpJ+rQcWCTBF+ynKUyY1AJ+nTk4G3nBqpZpgn6KV/wCUINjC+XdXho8TprKNB5xsGXVXbgqSLy0Q6b1GUDzJS2rkc/mvLa9sPhpeJqnVd5GFyxTXRZ1iTB6zemBYidsc2Zbi8omnnDQ3dDhg7KX3+X99wNXhN1tBufTy4aXu3eUvUYb9Jku/FuJHcOo51YloSisVo7SvEa5XWesBy7fNdYVOq4v4dTQFcDjMrYVcv0m1Xp/ks90X9T8K+FfiWK2N8/l/dvjAiMMMGtyEfif9iiVzrC1VXeua+00LtWlqzRvT+Vr4Oqcj9+CqTCt9eKLXkHaWFOjXhvyNvdDqhTnoLjtuZBZF7BzWNxopLKbmMTFnI9UILjj+6FLBsZY7/Ke7fjKl+MX48rYXXGpKnvSuNBLTqazb4Xzuj1naG68deH8bz4F3O0csQcFa8pppGxKT/wAJrtPKTmZvOhG3FWsqGfoB9ZsrlY2+kGKPN2OpEkxo2G84nuD7hUZTUBGCbn1rExpN0jQXSuUXkqHnrKLO/WVxV9Qf3NMfKn1oR0IS5fwbuQ9tcWH84mfY4ICJdBeCYQzb5cHfX9NwOr53sQBQFEriT2Dnwsqbh6tR6/8Ae3Tba/ZWYEs7UeXxNjhkNb3OdsyXSCU6y6c4CyUKFLXrFsUbDSXAqMwHpNNgKONcQCJZPbsKlSg2lNDOny+V3hHQ+HiWIsuaIVALy6GlRdoXVjlrAoDg2fbtGA7zUA02JjS2ZzSnNTOfTV3XfOYVb46rpwZrU35OsItFUA5xLatvpCyQaWfLlLiyYOZdIKjpldYHl+uq9YcsKZzj0+Jh019TwG21RyuPYbhyakf62szb2F3BKW5oEtnVGXtZX/KCqyaIrtE6u034Ao7b+fzdQmz4dZQVWcvOCatubMr7lefGo6AR2Y/ZDziOJglADkcACJZyYlZnocViOiVtDWl/GxPm3u+DrGksxGkLeaEKkdsXfymkej6fWW1Fq890UE24GyEOOvOLZ5Ss61GpLWBYqvnW34rCsVZ4alfLHu+34zP0hdRo34KAsBiFrF1d8pSuLap1sB+W1TV8fDpwGPrS/P4Vlpy+Mtdb7nAXXqr7o+5r1s9KiK8i3pVxhiiPM1AWXlesTXnF9IuscrcTqwXuHArtQftcMp04MivSr0ZsgXXTMXWCJhuEsSdhbXNtXV4z7wsaQ+W1zV8fKSgiVv3nrKco/N9hcJvoPSGUXIXXtEcIuqdb482Vh33+fAVQp57Oka4o5y0Gk9BvbD43r/6eHoXtQtsNjBdS74HpYj68Uyv2JUGEsuUlowljWGUmcFJqYgA5A2KigiF62xFste5pUpXKR2bo8AFBRGhTJo9+KgVaCbY8GPRfWBYeZyfkrq/GKUADnF+kpe99SKsJOoJWJF1rXKCCrzfsgJcVtzebLTvv5cWZA3kH+8Kuej6IsfLdHWALoFfG9vwUcanSPEt9dHFQFdCBWsc2eDlWo1+/3TQ8semOCJ3ikpuV6uWauoz8jp9D18x6maGF1Go1VCU5vrBG6bpqNtebym6xxq/PhREEAE0eFFlm9BdO08+Fy1QaD7wVx0POwoR1fPNNphtrztMEPMFxWNPPKxiCZt9lA5S8dSK05QAarX1bh1tLT0l1GD/NLhNJhhoUHmwAOrVcvlwNoCbherhEq9ujqPn8GvmdJ1foRgXUI4diTV95YxWFeW3a2J0EoV25ITpMK4NH3Jhb2vbhqDzIvnAFL6G32ll28jHnDNflh3YlSzkx+XNJDw3pdd4AAFBxou/l2ZX/AA7xSpe1l/qVM4TWF6R3jvdd+54XjJWzWECR4DDdNYtCrRNZMdK+YdHJt1WaGPn8SxuT9tP2k/bk/fz99wDoJ+MZ+BT904db/gT90Tq/RPwjgHT8SEdBHSx0fE3df6kvCvL0TqvozS+EjsLt8pkIOelyw9W2xtw1Hmx6+BFl6XTqy4btamrGO1pruytOxe8z5A8m8IBQFevCymjPX8slxXX0anKR5phoE/uCfl/4l35vtP3B/kvJzn886UH4LnQT9dP08/Vk/WT9FKciV8vo8JnoNec2GSw1tNqjKSlMkRzZavJAA0CuOmZjVrp6bIZtGkWlwLR+CGY4p/uKRRdvcl24q9+W3DFoHXgV1hWNivrxp4Uez5/pg7k62k2qdP8AbBqH/fBV26JcKgW50KoOWprRRBCjrzJpF8hK95/YG5giP4erP802YWXV18hkqy+XDAC2ZwS0srAOTwfknQ+IxOphOtQfiVKurRCGlL/LhAXDg00nTofXwKEFJY6PBtRterWe0r08DLK9tPNidQ3NZ1vGNd7CFme6XyA/043WGzLV3yxBiHy466cAKOav74UturXmwEXaGgJzOHequZUraECTIAsCW1wwLd/l8o6HwdBBVpLgbUq+k0qDns21naIytDylUwclv+kSwO9T1Mtow7UMwDYtPTiyLxrOeJh3qXNYLSp5jBLGdXnAAljwsXOB98s0wsKX0Sm/R74lien5/qdLgengALuU+cAZ+lbXMa01C8EKij3mUojUnrmGvK4HVYZ0O8uWWFsJaOdZ/wCPKLBSXYWwGGsHWo6SyzrsBmfZf3xs/Y/M54Z4265YbTKYfNUuXFbIgBu79GZ/m0Sy63qWgoAvTEYV9hW0RWU6DEGA1NY45Cz3l1iyra53JhwuVXr5QPlHb4IUw1OT9rX3yS4x1ac0wYrzoM+cyqi14Ci4DqdcjqfKO8Ij/EjbjsccZ1/zngbMRFeZtCxQLqxmYKtNL24XrKCv0TdBsfM0YKCg0oBg5YOtfaAAGPAYG1FVzEppoRVY3aWgcgIu9wqztG9ADaHVZy/SLreCY6wAFAM3v1JTs8WvI0zJQdKNTNwpy3c6tKXygaA+y2rqw5rFnVFcuGBAttTaGDC96jW6rSCwdyo0TGTu6EQa6aQKRuthl3UA6Bwwgq23gjZtMvABSRpUHNhKAPqJa0y6rqx+Tfk7xeq/auFF3WefyglA9/mH5N1+Dglzy1ZTsO6vbMs0HrPuk0f9Qu0r5HkeAWR9ImAzjmcnw19Mfk3XxiavoZMrUo8rt9pqyn8tP7jXUKSqbIgtUcEspMSzEtNLl0eGTYxdjHxNyvrDq+BxN+W8tbHdMhrGp08nOaT5rqwVdG6dYDjV1d2VLnNfuTqUeBTNjMoTgY5v+PpwD7llY/0j5+B+UUBWdwe8AaEQ7I6dYa0OGTmNHaMnWC9AQNumnmY2YaiYK41G3aVoBpk03mpoDo/4TkFctn+xWRyr2+mBrDGmncCTMpSIfKH1hjdrxb6fLoa78Td5a/vim0WbpLiXFNBq/aZC5W0r2hv4NLj0M6N7HvAdK9lIlYb5/FvigKtBqwkljo+H2wXmPDDmc8FW8r04hFZEaO6oPfiJnwAAcJjivktJnrLU1rtMylBQdThgzQX0mac0OS5fMMNTeaBy4KUc7Pmgc+TvKdF5gz8Z/s5vsn9TneYmaYHbwCnCDVte0p7Pmf7jIm1xbwDbGNDqwxgUrdgyzqEHw5xlprc1As0tWpKDp2DbRc1MudTtrK+u8AmtI6dYeHIYjPVY9WpkTSj0pMW0x+TxxLVtdqvgYPbqrhEFrWj/AFHSgBVtb46oTrMOQB21gOlhrwXkg7hENVcTRSV6aoXD5xFyrJ1GEjzhQFTMGw0FC+0YooXpoODQX/r5mvhsIUhEcw9A2lB0MX1On2i0jGhynawe88+/YIbuqLZLft+X+S2hB6ww1ej/AK4ACugZmKCwoZ7JrDbKs9nac4kBhRW8oZGQDr2l4JM2zWsKSKFHBUvhDvKKL0goGNKMXSI0EDzGIxqgq7xVLbDO3lUDqOw/xNFWiZQMcgqIYb3jUAdYq9FLqOkbJS3JGFwGTsqEAsedVK6uf+0TXzea8L62LJ0vMzdrv2qPc6vMG3Es70p8o60Hw7RT8DtLheRig+iZDzK9YimAbvntTAAFhRbupW2UxQo7TTi9dwbzWV6au9zUhTsg0qPKAKAHTggI5uD4ezgx62PCkMjqQigpyW67TJdF8/Bj6xfBBPEeJmeGf4q8L/iKJYtt/BQzLc8r8WdhfWW6nkr/AGW6qrOi8jgoWtEESxK4JPYea7SgKjowDdPtFOnAG6R4XVVOX1nrSsd4blcpXXpBBeLPlKlWx65e8dkWkYpjTnDiypl9ekL0NIaQdAwyikxmP0R8FwFuDoQ8EjHJ7RSqjYO96SoNptuX3lNTKvmQ/wDmnRNYsqErHrG4nRX7wmWrkXoQA7kui9EBptOC11Do9YVUZXYo6MNoKr0sB2PrOMNEt9OpF0mi9sA8GyYigouuS941vBzccovMtG1g2j8BrhzCpalbDs7wPYmBnG9wv/IXWv0QUBy4qy7c6kcogNgN+7LqLdYUBcWbVLkFBmQc9aLaLne9y/eVgoh1DEPDVrvcY6EFweAC6NW36uoFuk+xJRowsa0aR5ZFAk2rV1nexs/wvvPwjP0v/J+mf5KDq6B/ybZ9uHgUHB6VY5Q3vKH+6nK9oljW63iCtrvaVuLsSv8AmS7f5VM/9J1nzTpepLP+k6cHT/PLjj3kbUu76vWJzV88613zDTA7HxWLNt3afqof8GfrZ+h4F+BZ1HqnS/PLpk72/hWny6oFelsJtQKyfqllp8YM3mS4BbgDq4jOoUKaeJa1ix2O8LO7FTL2ovJwRz/VRma4GAtGXTUlC46joBzhQ2Lra8vpwkLnRCtcaggQcw1EoC6NJY4NecjB6KL1a1Lqv4DBoNN+2sJWln2m9ks12Kees0UAwrlBEs041ljc0e3h0Obbyi4Lzo+c/M6EZebymc49PVD6wspvKHMIwJ3KlRf5BlOpQq7ofLkmvb9zwDUGWhlwC5M7eUrRC7oqlcoK1RHHXZmkqy+l6Nq8fbjmPd6Evb1errLau8nClzGLfWLZHZlZCm3esPJ+wHKBUfmQfpLmojIt2omTkN5hxmNBxl1i2wpDyvQiFLr0DAjdWU9Z2AzXFOzwtaKPKW0XvO7lHsUW5zWoTEXSVZiVuqr3MY+XVCgApSGzyjg72/M4lGn5fCi7rP1KuKzDJdefgXWh7TRg7EpeGaq/BRKGtrSzg+G2/qIfQd2YAUAOnAfEaax04tC3w4nul12ij2LAaa5l5ikaHJl+lZSkdz6agGu3dmcMFF7eBBq66eC/hAaqw+ZhQF5Sxb+geNPmU37S5Iou2naUGgN2G4l5368Om19lRsOQmkjDt2cHMIdCdJh3Uzcs9C6XAwpWGzpE+Dl5CayrV/QX9LGZFNocDhTT1SklFPV6S1gqk7PBaTzHaXNbF+jaLIBjd3/iW6tUMb3Ky22g62R11gB1KiLSIiOpiUAUukNR1jfRSlvLQcAFGurwVqhg8zlNXtoOpEGabHKyB6stzlGVbVD0BMRiMQau9/k0Hiac3n9ZQStHjtFq2ZzXWMtgaF271LSp3gqyGwpMTPfuIRRHEo+lFAozHbfoQ3NidAu/hQ8RpaubosypqoaDphBCikdhlnMYUnrZKqVbeqzAheFlrcw0nTXflNHSPaM5it8/A54bbeBZ4K5vlKJrjYkvMrdf8hloA6gqgAAKDjzQgGF82Ld+GmDHxKUFelv0py2rirJeAaHhQCJYw6byvUxBHw74qBbLxAuPz6618DE3pfFcKr32l2WcNAR4DtVgiCyNr7ymtrR0EG0uvpYARw6RaLyJdN7754rDQIy07Gjz47pxN/g9RhJXYzCe/Ht4CG9CnlERGAK8rmGFvQgmN4kWFV4x5QulM7wXI0feZE2151vNvFiG1vYt+0Xih2o4bTjD3gNVrc0b7DqGHnC6LczI6NfRnJEcHSauJABNhUpLW0HNHZCUFNcQUHJ+zgQFLz9DYgJoxggkRcHQJVukoEFFLqehc0cuRRyTMuxdEE0M4Dedmsd5eOPTssYLgFRQO1Ay9Koy2rYu2WkUCB2rgIpddDlxC15IecrewCxem0vga6k6webxGt3WZDy30eC6LvR7xkfe17ytj6btH76Rw2mp2oeo5Si4FrFrTrKhxPS5yfcqYpQArMx6q5HrdTGV6mmec2Wsq5GkEOs21ZVQNpPW5pK2BtLbFUwy1Z4XBZaJmZUnNaSl2NGK6jzW/r1eLOUAABR4j6JID+6Y+CfxQR0b/gd6LEA7wiNzi0FyyNngMFctWCWi3uzv4UbI9/4y3Gv9oHSr0f4HkHVehPKZrtccBrqOGi6D1agoQwD7eFWXLh92JoXLpPKr7S9uBqpFhmr0x7QwboFXyz/U9UvVgiWfwJ6ervjUyoUFTqOYdIKmTRfRcwhh36MvdxPfw4D90L0hPqkFJqVk2Yr2Q9nSOpcy6SogajkdCLJdq2tUKCg+ub+C47ii6GrUYGBoNfaaq3WQaRgqxhmJzQDrLTAQHpDcKF37oDdnh6OgmiLA8GOUo5fwUw1JzIv91giJV6z/AEcFhYIB0fgX8tf1Wh1JftP6gwF0W8O96LqI4c6XczQAoUq/Df148LifvInrBCCb8EUpC1e+vLbizaBHnPZ/ZHHaU1lywiw+Jn62tF58oA6rmm1Nt6f2nReRhet6KjojqX9EpGdbQ7HgY2gDygWmQ+8wAjnvBktltXVf5Nf/AJPj/wARf5lf12/43fiuX/A7/wDNb/j1/wALURdv/iHfw7/8ePrf/8QAKhABAAICAQQCAgEEAwEAAAAAAQARECExIEFRYXGBMJGhQLHB0eHw8VD/2gAIAQEAAT8QMASksll9HYqv2jkldReXBBA9UaQ7S+9p/GcCWd5bm5cuLnWbwv5Zc25H6inL/SKc/pYFyn6otNfw+FLIHsfAhm6fuXKS/cR40pQS+bhyCPuKkPVbGAWUxP8Ar6Tch6oIJg7tpgCko7E89pCTafmUdJDIRT+2TXW2FCLu4VF1qHhvUWob2tQYGdnZv4gsNEqvPzNNEpuaFPj6jgL4DCdhBZ7ioL3rtLoRp8AKiLwDpFlAuwOyssqWy6KuDdF9+Je1srsxLv8AzUa2f2aRei7FSvuMCh8MR1DRcNUSFOkE7LU3s3AAglnfKRoUVZ7gS2WOmrjkN6A+CMRvE1wErTa1+idt3NIceSOaRxThNf8ArDCy4QoUXW0Vc7y8GWP9BebxcuXLly5cuXkZb5nulvLLfMtmkpBnMr9IuJm1Hwo9d7yRTVL9MeUJ+Bi9XkY5D/KI6t9fC4RSj4UA5b6wVsACgsGbr8FMAr+V1KNDXfdwEUDwr/UP/M2QFYr7JKGipVPJALSElHiuzGyR1QricVXF7jBVFey47QptUV9kEvTtBzS3qN0UUPzL+RNrGo6B2gk1A0HDGzvoFdvMVsVN28VPQgRixYtx2xddNy/6G5cvC530Xkzf4Fo9Uu4S4Mtg/Mv5YPzFBQE8M/8AHw/4nLqtPrB1UTiA+DDGgPqLrcIXiQHVv8NjK2K7b43uUCXa7V2lNin6CKf+v+IMWOOUenxlly+i8X/QXi5f5bl9RKicUm+m8jCLgwEGHRFIV4LTR9zRSvtxNPqKxLqMCFC5dXAxlixg7iub6r67l9N4uXLly/6K4ReLzeaIkqVg6rlwYRcGCwk6WuURSi+GqJV5LoiNS0B7HQGLFuPf8dy4vXf57ly/xXL63FRisHXcvAggm0NckL1uR4lxHZT7iQAOK7Z8H84WLHBb9Ll6L/qr/DeBlwmuvUpLfiuXLgVPdSgWbQWUVGEdBqa9EdwHEFgl/wDRwsY4PaXLwJqi16CFBThl4WX+C/665cvI4DLly8XLlxLlZrBmsm08Iwy0Uui994l23eritKlTtRKtfymXJwYHZhUaOa8f/Arl/ivovN4uHQdVdFYqPly5AEDcYF5JWAtygYA0GGXg4ckVJQSrniL+CG78h8BL/wDqmb/JV37JUYv+ZHXAVsSASBtb8ymFji/1ZYKvcIC5URv6pIbI0v2cv5b/APiX+AfyETVfF+46s2oHFUxV6V5/zPRwxl9IeIAp4YAFHB/8a/xXk6RxeD8V0WlEPV+87Vgq3uV6YYuOfB/9u/zhB8yq7gAPLvAYxxw5WX/8N/pLyPRfRcvF5v8AAoxJQJG2tnqWfOdsFR/nGMYTixcZf/xU6b/PcOs6DJ0vbKjAQD9w61Q3ynyfuMcVFGo4tVvu+I1LguqexjtDsx710MAiRwTXaOQWPLnPaVDGm2nWmXdDTT0EvyCVNZbReGK/6KjLtg9uqLoeo6/wiKpooeZZ2Z6+EUKL6aiZs/Ofm5nj/GAqGn+DKT4KXDU0xjGE5mLYumLayuvg1CoqtWHvFz2Iv4uaz8r6Lil0U9jyTmbC64pdR28WdmNqCo3KpC4RFwVBojikqB8BHxUVyD5uooah3aiUKV6cBRadoEBwttZSoIqk3t6EEEPS++DBBa1yTUsDaCHbvBrupO76Zymy13zjcZZA83GkO+k++YUjz7RYZaD3o8wO0Q68cqQ0MVLhsUdnXqFtseYaoNnieEoOL6k6D85H8F4tf0n8xHF1ge6io0tZsg1P84xj0p4lBN0BYi2JLMqFvfLWCQFFJLHAieQ8XNoBAr4gL+fsCIhFaqOWOAVi+1gAoKM1KldFRhDKlMqVHiItpa8i3rKZC3l4uGgAeCVK6jM1veXrFMvdU9CD++vtnCfKWxwoFrmpo1B4nqkY6uTt3VWrrvo/RtGGGkiqNKU74nu/uMY4c2GM30quE8RHCEs6i7G0+ItdYJU/cZqNSs1isKgQLwZBADYBBEeQZccKWyPq4w7y/OogkLa4jD7bwq22VFhRbBARsSOP+2VbheeIHmiIABosT2rgXKsgtoui6tih2g6niLzel1U3GUC2/MspV1nelDKLRX2Ay49hyKPmkUZeKpVtVU0QbFPARCRyYBRS2qI3dyi0TFV7PQhVLH3xdyl1e5Va4CyoKjBHzc3grApeZXBVU7YkE2sKj/aMc+TCZAtYu18QTtAPbFKMt0CHBAG5rUqa2Sk4L46LtxW1a3w37h1jTW70uI+JTfu2ABd0/YuVNrXS+5eztqo53J3SfJUbNt81ix7k4ZlEeVgkqUb83Kra5sdJUGII9yMRGtg171GLyghiOaC7gWkjFwrTihbHZapo7q+Y7hfm20PpI9t4a/taPJaIBlABgDoqM0Kqk5cE2qsYU8gBsNQtasVlQgPiVeqBHgQzTtJmld2EdaPJZwQhIoHU0dqiGg2BqrIUGgDZd1LpZB+DxKSmzhGkjZVAKaqDtHY9oomzem1EUbyrIPsmqfiHlcN1YoqiN4u1QCgSxBTsa21sGDisuul+9wEaVfYqGqLVFHKrUuF2KphwF6t8sDeHu0ot/VVEX9ka7gRLBQAF8NSgWYNX3qqNXW7p+7ljDJoVSKA251PX/CLHJdsYuXLiApLyqnFL5Yl4sT59RqfFbC9GwgQpbcWsuzRzEuUOnfTYxh27yafmC2F2qdXoO4EZ9vTFSut2hHa3NR3iGofFYuNSlsPVDEENovHKJ8ld8PLCK76tIFO4UtXyuVVyR5SQTnTcI7shvaspm3ikQcAsJXC005JFWM3aqRgRumz5lYIu4NQGkmzRfmt4YL9d3xSWbDzgJWVlmNdfGCAKAo6qhCXkyZSiy6b6AlFSqYx4gFyahCxS017uKtLC3gwKG73TGOTyx666qlSpUqVmoQKhN3ewypUSVK6KxXRWKiIAjyMOt6K/qKnrh/3HAgKLYjDXi9Wxjg4etIHQKemVDQ3TT5jIFavR6XH5DXyx7nK30PQmdVSn01AAljw5smV9kQ1hNnRrT2lnIE3vLgAxPefSbvVFSyFB7QoLiCATh/pXFfhPxDfX/Ay8nhWqJ9fyjHBy67fPDg6LFrvZGNx/kqMYs3thCRemfSywAMKqsFkTW5UXzaqUeBuF20T44y6rmW6D2iCcqorS2NSk1RtuVRsmObxUhho3X8C7YKkKqeEsXqPZdApBRJETmxoCxpubZVMtWzcHztEN3H2OCXUUFPJ3O8UxDn90rofx1+XX5rwbR5f8XKQFvfgjb2jHDzw9NdPCv7jZcULeBsGAVByGmu00btV13rDKuS9CRkm0qilnuAFB4bdRELIAncIQAAUHRWeREg4Q64LUPqUKi021uP7RRvwjcWAEKRlQ54BqEAABQHTUrKdNdPb8gn9EbfyUv63wojwFIY45et27cXozUqVhlfgqVKlSpUrpqVis1K6X/wCANP2IgVhT3e/cQHx8kY/i+SBEdbPrcRjUcnxJLcY9P5a6K/oDFSsVioH4Lh/Qa+MIAtoavmH4w7YGE4enlnfYg2ncGpTtDNq/2fcO3oRjS1YP14R4SGk0rWhTszjojfgnRWaxUrNSsVmpXVWKifjuXleq+m5f4RfyEaGent3INTb9RjCccLbw5VNbfBH1l+VijGyoe0tYuzkXubLgX13NJTtBbhuzmilgIJrtfMRUofEQSe12+VwQMV+SpX4alRJWK/BX9EfgCRpbTPX+hFizlicW1LAliul70nkn/tRPX8s7HPchTuQa4uwEfNQjRuFNnhm0SVVABBCj7q2VkJWKlSpUCVKlZqVKzUqV+Go5rpfzV0HWSPlRio5SNj/ajLnKcj46BqB+S5/5SHGT4JuVKiJRuk8glQJXQiXrfgS8kWhLqzBrXqPtURcBuEcNKdARJRKlSsJ0VK+qSfCqv6jV4rFvLSMCazF4F0V7WW+KvyBr8lf0zDXpKN3/AMMZU5mC4dZCj1zN2kO9D4h8uy99rN1cd5ZYL4JRSFgiVzw5V9y0fV2U0E5PY1UecDdfbFq/iUGb6e1Esy0Jqu5nDzRz7IDy/Wttf5l5qqWhaLovmAEn7MJJIAWsNYABb1p4ZZCMQv5BdQ6jFUFWsZcCWRbVXCVHi4Wf3u5sLoTWgVGSGlBZ5cd2DEvWqQQQqRLGyyMOMzsAOX8tYrNf0Jo9Qt3X8McVsnL+IdOAufJKV0VNmyi5tWkCt6VfcY1pQPfxhlBqT4CoE1OeRrG2+0LoLtqVwQY5q8cvj6ILFfxWhz9xvSgtoI45lcVyrdW6uOZIIPojqQr9Kb+SKg0TbkvILSJ8IDT7lpcR7jV2Hib0D2HRn94aE0RbYaS+ccKkLLF2VVeviooeTvlsftzd7jVLqDy7l3aqoE3W6ratkI5ILQ+fMAFCjwRLs5Itr+EhtAHgK/8Ahq34aDbR+sYzgmz66wxVw4q0UoCBiiEqBfV39wC1YX3R+IFRiwpOFLSVKxR0gwwx1U/Flyvm0ehIkHVTA21aVK6q/E/nv8/6gzyqMTFyfgrqqOKlXimVKlSpWalSpWKlSpUrorrSP9Mtfgs98Cg/wI5nNSpUr8Lg6KlQJUqUSuqpUrCSpUqVK/FXTX4Xn8tg9ogBUDjujgwIRQRPKsMM06R0j4ctrRy8AlB4WSH2MTe08YePTKG3VF9othKlSsVKlRBBCXuIROh2/AxUlNtbfKcVKlSoZkFqwQCcM5K4m/4cWhC5Xi7YIEp5FDUFUQaabplQjbYgcq7GaldNf0L1V1n9EMFRpY45nroCerFXNLlgXjsKhtQWa8Gr/nOr7b7fuEBLpZ4uNYcX+8Nz7T+ybfe6HZ94vlaHI7bviwibZooKWvggDAEUoO7CVjQUXm6iFi5q4PriFr1InoiIj5O3ahqD0nu3nLhES547a0eavccbc831AftgTzeLbLJ8wOvVIeD/AJZ8Pd5aL6VLxWQ94GEt+9A2E+ow1QC5nYv8xZdAOCiJFr1I72o0Pe5uwWDTpLgLanqv9JUc1h/omH4xz9so+TF60Eq2CHPBOB4kCVWpVTwvt5YYRm2EC6PdDtFpNdV23DBpb/2uPazWYFoaMPC6nBWCJKG1XFMeX0K2wXaMt9rxd5oc09+VRfsb16YEHjdILQjZdTUEL3TWKbR86b/cftFVFh7W8Ri1SiULajD60keUaV6mumkOx4JWXDVX7vDKeaQpR5BIhc00oEugjdQSoRFoRblBt2hWTuhpTTVSi7rcCKAIiAthBOEgGuisVmpX9dYc0nBy6WHoB2x3PcX9dsv81D50ECUlNNcxwkV2hQX4h9A8C4hRqa29lJAi1WzsG7gSpWElRJUrIdVSogIBHsypUrNdVdL+CsV/R3w5z0q6aZWKiZVmsJhzUqVKIEqJipUqUyumutOh/E/0Pf8ABiK+SMOYKHz0VKxUCBO8qVGKldTNyoZvR02enVzipUqUyuiuliaNBQ9HQ5rCYZo1QsEBQLrrdJY2fbmuuugftIhVj0w5xUqVKldJhI1kG7DRd1fzWaldSH+hA/59F+dYCvRf79A1gHuWqMeE/mQginFa8pqcNfqjjGpYd4L+Wn5Ov4jH1bA9xTAuh+0+IoZKsd6hM4IfDErAFT2CKve9uum2j21OMYE+GEBQslNbOZUQiKI8idmMDAPLN/k7rZ5r2Ii4rtaSW8AG30W4jeDyvUTuypp33e0734nq6jaIla+6NSqfGq0EFgFtrbOH/m9Iea9xUhPIu+IwqQl9CovsX+ErN7B3ew19TQ4W0VaS6JWh7PJL9CLF7CKGEZuMc1StOIS2kt8EoEFocQ6unhptLLqy4L+EhwRi3OGdQ1gwpOzV7dsKU2HucBIMBSNE2L0QwzsoJRX2w0wSg+ygfER7gM21tB/Cv+cLSVdgqGKV6qxQOUXh5NBfwwtTzmwyjsFr4IQWxSoB4XIAeHuL6b/UVKlIa8O0TKiRB4SA2w1rq/EJDVbdIqiyK6JLa3bXJlwGlbDbVDzh8rwRdfFxolr7EOzU7TIC1U191uK4kh2GgL8NsFZc0EIsXwzi/wBv7xcV+r42VHx8nqurYPARYekKTsQ8OztgvkuJaup2+RCiVV1KPUsKLIbOYiFdLvWNhOjclaqg7IK2C721QFvm9SnRTV6UV3jHOyKSy1e5UQdCoabLuJyK5TRRbb3IAV2gRdysBUYqs5eARNzaWND5CAPYu+lh63VylEOIqXBs7fBdlVVy53V+gFVwZ1LaqFFvjAKTMhWlbcpU+yD9rdy3HPIXvcnmi/RUWoLgNBcKIUjh2r+VFEkfNU8BGWjVW35h7w5sbQ/xHU2XQqiZlI76bqAOzn0Ow+MQXRGcpzPiVKlYAxUakgRbQwH7J304wPixzUsF/v8AwvTpgsXrkZLJB1saGkdU7dNfl9l1K3h26aL4PUJIQVZR6N7SENu1ySxVNinmHhJRpOkgfLcAQxboBD0U6e0pShtT5EVUBsT4r+wI8K9iEDYAnEoDUoLWNrZbqzsIKkrKBq7a94CnzmF40dpWqmp6U2du24DQEV1R2295ZZCVdo3bFR90Nx5eIB2MCUAeDoqUSkvFRj1OBxqjuwGW638gaAt5fOaCw02Xjb5sLqM5z+1DororNx66jDoQI7EpIygKFuxaCVEqVKlSsVipTK6dHJXctoyErDUSVKlSsJjY0L81v8lSvxm5xUcHLAh0cSyUEXSaj8A6Kpe6AgG7fWrY4S+LhG8LLw8auH74psKgobLgLLYuQ8EF6EKXZfBhxYgLC0vcXa8bebC7T9QBUZDktRJrEPhLwhPKfZVXRwMfkGDRrrDlouVCdFEa7TCy7rUqcLVW3c/y4NA447u3l+AnuoL2D3ZfKO15IsHECbYQW1dgpLQrmpsOlcT8ljwKwwvmKFc7iBCtgewgSqva4m036PEDZ4Q7jV8bi3NbaKfNdTipUrofyGA6D+7hnMm7hDqpcCsiT/aH6PfCVtdUTSdclfbVvuVM79jQWq+Yu/BBAj+W4xiXOKc02/aL6pjYHRvxHwvuRRTZvcsbAVBPcfE4A0L8JeD4up4WhXzULKlBR90buo1TH1su+33K9sVcCbLdVbL0Co+wwpSBtQAUr4LWW8p4vfwqFMjta0XYupdbaqq+y2XQmTQklnYm8tPcB5NjmyPGtS+FcRuUW3smy9NBNfNKiFNgnrO/oxaYrrcHhdzBNGsALa6bGVRXmH2lwZRngDBAAHYKOlJUSOEwn9Lv86Cowdzkh0GGmWCmlWBB4EGU0soLXVbixX20ALJtQt0BUCQDyJd5HSu47NVZhIZrjdWg/NcwBoKDCFRI9yHiuVlRVUqC60SiKCqqu1QmIOA0ZqV0KnHUGuzTZcrNSpWKlSpUTpT+i1nno/gMDWTywJUJUMJKmoy8VKwypUqGHFdVRJWK6alesJioEpJuaAFL3uKVdkDyX2RL/Ug+v40/90n/AKRClEocykLZosQbRb4L/bCDS+LKRxhVALqejP8AuGWf8Wf9IyzMVPjT/rGf9Yz3P7T2fsnuf2nv/ZPe/tP+pT/pU/8AdT/uU+f9M938Mt1WfD+CRQ2oQqxfguHbB6D+LnP/APVcpnA/xf6wDY3zUNcjVbjud1P9nYY0blSFJ4TFfgp6KxvorFZZlafKfyQ9FzsytVzyMsNtd1Ljl+79EB4T8f74Ipr8T5m/7+ZdyP5X/M/5MuP/AAqbbme6d8ginAVa0+4eWeiSMMJSijAA62Xa8VYLi3+hC9QfSAIBKGjuf4m5uN4Zvob6N/g7kNF4XA2lQIEqVGCuhCg3/d+iOuOuyDtRGejFCQdITz9rwk2MM8qhqEhpfQO7+oGKlYcBL3GUymVcrprDipWB6Vf7381NSiVKm5RKieMMIKLEp+4oLivilv0IujVQq7UKkWGVcFKCfpuC6XaSwSq4GzUJ38aALdm1EWkUFmxoiRVLesksdTK/E5vBzKm0541hUCBji0Fsqt7ydv8AswjvlWTwqg/UbUpe+y9HiovPRCPIHsYB2MV1wQ+pMBspXKjOXWtarTwXFLamraPQdsHRUJTKuVipWKlSpXRWHA+Jh89o7Dt3yrc1kJUrDeGWBZHmlbpGBFT5rT9SNtpzVb+4f4SI/VIB3Pk/ygXAfBU9r/t7i0j0W/t/prgOIkcw0oQhGBiQRHhGDUJ4AA+Wmep+P9oBF5ALV5qKPPyXzQmmhVWk/Fs2hH0YAFGiVKgYqVKwBKzXRU3GWiSpWLqObHgZ8Dw1jWO5HbNDkF8hynK6xfJKlTUSIkq7PN6EUcwRyJn02v7IkRWD50AIu1ApUQ7lxO1oUPRyzQWPTYgrdi9x3L9QXj8QFBqsLOdwA0GlGvJh6n8BHFwSjnAgYcXLjWKYHucuZqKoLq9sZcJyypUHKK3emRG5hBYG6vB1KlTXSrKHxcBXy36Sc+hHi/j3iVNXHKRtKlMqMbT4PEs7Uny9ao5uCiq5XlUJ7lsRUUVXmDN7aJbvYxqjbaljUgd2+YerjtdPBV7ZxtE+lwO5J0CdUvcR6btSC3fn1Gr71RVQXdIa9mlrLoTkQZ8hKJAXLwQNi1InD3IddtsLL227LA67cz4W/vKYCFCkAK0LRzExvGF13LdoAAFAUHRWX8RLww35c5TSSCUyuXi4QMb4dbwLdM2Lub/ZiVPKVgTjpkAsqXwVVdxmo8sZ1Wl+D/yYZ0gkn3n3BQAKA0BFCO22oOxbuMI49kAewgsqIW78n6RU2nF8lBHTWrjU1KlRJXSzQ8X81MphLQqLaArfo7RdK15aLailcdgWPNHssFO+BR4Iu5sWTuFJuVuNijaaFsBKjB6IkSoAKCACobcBXTkSxlpvOaIAcBNigW2+2Kiigh9O0wmGucdus6L6rF8qc82uijFYqMWqDUNrjyx7qc8xu5Ql7gLgKqPUAH6hcO4mUq1UCqITXcNFoLY0oQLXU3V88S9t4VhNXdO1EYEWdmLwfKpVR8gut1fS/FxXGzl3PaaxOFFqlWI3hidpbQPbO1e+ctIFOwpdK2tsAoRnZv8AwOxAWEncANjblzUrpZUSH/sM8VGVLHNwW1dWSoDCSUqxv4iu+OalU3Ei/ONlXV/E29CgolrUIELQvWCROlSnwNO7LsrKGuDdRL9VF0XyiYbN6Bte1hjK6Ky9NdT0M3nOf2cp0I5IpE7xG7XSRfrLV1q1EkPG76qDOVy5YbBYxQqFdz8Ww4thQvNeNQuVGgoMBXUpCxntcQXK1Al4BS+qlXOReuiwZUpu5WWV1JPmTfQSpUYxoKFfFpqXc1XqJHltEuNosVlKNAjxAKrfdYvV3ey1P1ThEgH9EPVDS8l3bEjSlpCptxY7kAthauwqrItm3arpzxXNVAAAACgjz0pUel63L0MEo1OROXwzRitZqVKxUK9YHhgSpUrJUqPS1ivGXpTLBUJWGVgMVhIkrAwBQXeD3lC0BhAcAqw5cVLPA0HcIVkArs3suEPwZ9nSxj1L+CiHSf24QyysVmsBAghaE7I3h2GpftqVKzUqVKllhZbBAJfI8XKeipUrqYS1oAfQYpGSH9Q1AkEzHnyrbctgMQ+m4iGmYGkQudmc5kpdXBVm7fVAg/zLazQvTv3Um1UEBwamvWB7hpE1ZRH7wsZttNAEO++0tg4TDbkwiqOaBTyhCQ4RGHPKNbpRwld4HFMoeKm7i+4gl3Reo9L1v4Kh0nLA6KxUrFYqVEER4TcLa/xFAosR4g3p4NuTdfupczNS3YKrUI+ALpCq2LvoICtLSvazkBDGgORJVO5cpE0nSo3avSCUAagrZ2FGlrCSka6styNopQQYHozq3jFJipUqJlIafmj+lRJcdapHtZ/iFl8t1Wy2q1CkbUHegQubigXwzwiQNcq0WNcVN80sJdwfTUazJ1BOF/cPELPQLPW5SNDcUnhpgWbNiOl3CVChrABAQVeNGFQiYOAKCIUKk7gcslWBavAQRCrHdysMQuWO1qfV9pRJEUTkOR62P4LnMxDoq5WToqGqABIB2WN1OscHZR4IpS1adxTe2y4ikCHQeAF8EYQAeBWrqlSzUFvn4EdtRlrvLRdCtHpqbuVZGwgJujkH7OKJp9teGfKXeT/gbnFChCVdsZ3xTK6KnEYhI5H+qMbFAt799RJUYAqirjWNkJ2wrDvwY6QAq+AiSkLWyHydsB6hs01dIU/TBq7JPwkZy3Jf3xcdVAIfJazboJQ8UXFa1OG7BdTgnG78sP4GPWdx5fmBglSsVrrRlSoRUqU9pTKlStcYrFJcJvFdBjthlz0E+gYh3goofaDOLi8oujRo7M16sKm6TkZQcss7lCq+2aKpQHQt5VGe+NLGzULLE/hw+a6I+VcGDDtaPZUpnwkfd4b2qw5uTsehxrlCDSPzizqANMBtXsTgnDqw8pbdO6PFQ+Swgsyx77qINSy0zXkNA3CIpqLurqRIacp7Vqpt0pH9qKB7gtARGi4GTWAcvol9gn4OAwy+qsV07g3Ha/OSESlXKtERWH5bPi7YJBlXDvFI4MBKnzHAJUozRcMVZCVrCXUeZzDFSqxWUm5+f1Ys8ER9pAzCULaLzTd8wOETaRa0gS9GP68i27YTOfjQTV+VfThVov33P1UAsj0CgHjcYurjYL00q3YGo1oT2lCqL1uvcs8UAXqiht47SkE22DscilwKt21CreaURcFrWhoq6jKxUdbTkEX6ahVgUBoCESdgLqrreHrrrZUXLDAYrUChauvYoK7x476s/wApcUFUfDFBd1dGtOGdjPX6jKmsq2gsG6efRLNqTvB9OZQBaWerIAABavAR0JabUE4suV0XiokqrgSowx9yuhxTisqkg01EhQ23gMrqc0+JxceYXyyvn9Cf+TjEkuf1Yjz+tP8A3I31Ozi3wkWdD+McVYLuPvD+7PF9of5nj+8cC9P9Z6P5P+p5v+z4j/2n+J/33+p/4D/U/wDMf6nqfp/qPYH6Ty/Q0Ktj9DPOXy8AadBqGbSReT/nEaSipoDxAc6dq2C2Ts1OJsPj44qGCDhtV7A59BCAW7yGM40f5Gv7wOGfqKR0vLvy3/AhDAYaraMCNeYlXLqXNTTjtzAM84rcqUzmai4qMSVDCIJ3GN38oC/iI/wx/wCYD+Er/NwD/vfxKuPttDzPopFjv9d/aPJLcv2kV9rfLf5ivJflUDqpn/CoH/qyniEf8TlHAfSeH9UAdjG5WKlZTpcVE6dzR5JqOi80np7f4jKcok7QhtlU/XwKcRt1PVw/d9vYhK0IHohCKBToLWWC98eDh/liVbXAK1H01zDc2jQ97S3Nse1tuUqj+JUJVXVYeQFWhCrEsshpXXPnFxpUWdHgTeKzW4BPjPqVHHa5dxjlISutldDlneVGVhMPQ/juaOGDDkhJTYjyHcguW8P41M4HeRtigoW2q2ryrywIGFTUmfKVCuyajpK0QLDizgKBOE2paWe1WFokbuPlqx4lfK/qaCAQHwHRrpbJrKy4xrD0XAWVmp3lTtHrZeXLKjhw/mqHOEOmpUqBKxXai/MqVeKmqxXEq44qBmpXiVNYY4qM1isV7xUZWWVHDO0awzeGPQxx2/oOz5hkwZolYcd52xVEZV4IYoxUr2SpTKleZuMbvFQpBESNzedRcfvSN1xdRzXQ1i44XL/J0XGa7s3t+juPecwl/wBZw9o4MI5ehzXRZhEOg6NyrhSbT8on/LwYcXLCh7wlipZZzC65lQIQSioALVexU2PHzHDNUA8Ap+glyxiylC1XwQSytD8LneMuAWoHdYVE1h3wJqk99L/C4is7IfZI85AtFYWgeTsQEnbQNPphNF6DzRDQAkKuoBA059QP7ozcOUA716Arl4Iov13wwQWhPIxhv5BfKH+UYYqqR7hclQtov+CJifCWRjQvu6+hqEQALSnsd4paalwR7XUZcRovbfL6Yx/oydJm1Q7b2U/TUAG1gH6lGyDQkVatoOLiiBuFCA5nc6706bLmy1XrQVzdDPFW629Cxyjyj3tVmK3zLEbHg0uSn2K/sJjvlCcpVR8BcIA1U8ciU4BpJT3gDVAX2bp+ggQI7QcKrEQrs+8iLm7t+Tb/ALIiYX98KizZFm90UL3QqVUUxstXUQOZNTgbupeolAoXKQSOsWdmplrFNXVa6IZwSXEU5PQRK8t/AXGTXS/tND1DFHXdq8tdox6h3ruIDCDKpGhZW4rfln72lRi/uP6SsriirCE2FcdoYujVFAfQykFawu7HYx9qPmAaK16n6g82clemKppva3Yy3qjQ4sqnqNCjoKAHKtbYhW2hVJcstumPawMXL3vMPN7kuT3w8g0/3jCRjUXydxjh/oP7EITtkhhEKuyR8DsISWFUiiBCyX6C5re4x2zUM+A2YUuyNnwHW4rr1pZFA3tqI7wgmm2wjSFy0ihfwZcgEBpaEEiWXBtB0drUBPFF3KlBNyWd9mvqCK3B2R4udoxqJC2qKs7tdoAKkJsK0h8RBi3sz5pgJkoU6XdakDkAoJtlaiwb4xMCCrurm4PzBdPnfeVRWJoWX3PcLEPB+HCu5US/qtIeRVfUsGiPJR33dwAql7ANlI6NJGtNrVABWrlINwVFdX9xlWTgKRqSk8sTdkAC12UJdyiFgQakwob7CBOSE0oS0rzBrufWt51bHmEWk8IpBxtjVAV02L9XLmAa7h0ifph8WRV4SooCgBvYFHwR5IKr9GqhSU/YUEqsqK+R/Kxi6NPR3XvCtTaTrgKNAeickSWh+n6SOUqjtaeY6UrsBa9XB7fcVp7WKPS/l5nxDBgl4GGG81KO0JUJQdFeF2KR/MahxjStN1B1zCifUrWiBv3LHtNbxVzhw4CoEDHGCQPwBP5gAAABoCUSulldaSowlfgOHovovqjBg6F9ntIp9FsRB6tbfgWnez5AfbJzaDI7GSgRfYCFbbvn/mgi6m7vgW7IZ6uG5DkxqNQJpAMVi5rDfDAjHN7w6nPDGEcm8OCPRV9oEZWHrOHpfyckMHQfNzjcR76+z9h/wZTsAult91VirkG6tyCReUHldSlgMBRSM5/afK7f4HF+CAnyG33GyUzuQ84chO8KiOwVbfoqXVd4M7xbjAvHabnMojHGseMVKiGKxuMcMc3jvhpInQ5fwOLJ/MhgjAn0G/0J2oPO7+iG8PIfqpQwehVfK+SM1mzbgHK9EdiVLfa+WAOA5uE5VGf4o3cEvymF1pbLqvcp7a8Cm/pQKAIz7gkezGbqpU3cZZgud3eLgauMGVKZVYcmUYZYnTWHDLjxSti1b7SOR3g5Hrhhjg9LfU9SwjIUBasExtP7/wCoPQEtjTovA5+kBih+17r7cG15f1Mn8ts3RTPTWnvcP1NgJcWfLLFrbagL27oamu8XePWiCQwvUpCxyh3vcs06Gy9fNfKXbIEaoW115MJFe2KvvLq1hUO8/vg0xO+GpR5y1nTe5WGp2lEqPOagahwx6GMcMYhFD2auCz/sLwsVwCcbLdSwkX69ke0D3oiRiR/DX4SEhLAP6gy4zzPslukISi+ixorbSJOYfcA3yPhATRVgDfsKsbQvagfhL/iJnSudJ9K2w+vjgfwzWDbEW/txZL0bx3hpq4wwuqhc34wWjA/gKjQBB9isO5i7xcHZW1a9vjBo5aqCAERNI2Qr+nJ6dwV7qBUYyXLodq+g2x0PRdtfCCVRCIQJZVgxJ2jxA1IlHccJHOl+1BHKTR24v3FbZtbBKaY3KWtrLq6XLMAi9gxp1EXqPYny1r7Ywivdyoxjmut63o7woHY2DQfIkORD/uJU8wfG/wDKlz+mBfxaXb+IT+lqB0H4Af2lYJVIrYWppoCxvX8T+4jdjs3o9bSVCxMXeVzbVwrK7xAXQUl8VbH2XH1l1LZZULsroiUVtoW1dlVcolOt1CpSbKWfJDb+0ZAovR8zZO11K9R2QBzm3P0JQvAEi9d7iZsPYC+AUfJ3O+EEHrsCvRzzGc3W+5dDKZVdge8k1JgDX75hAhxgWjtbP5ly4oFmq92x+BKeE0ikQ3Tmr2x4hcQWpxbdMVmk99rZC8NWtp5Euarqnmz94VCW3YoNh7SadQqg9l2hWAJsfZ8kYB69tGy4WLGMefwOo9Zgw2D1C4PXuAdiOptR+JbQqnu2n2YtGVSzgVFQucWSKoNfyIxUq7NVaRBdoN/aQEg657B5GXBuWqqWcRt+IIs+wSVyMd22vpJGN3SFejcHgOULa16EUGuGbYUfCCVNpsHZoirtKkSxRtapCawx852eYUMOxD5Cd4Ae13U4KWURJWqScK9NauMoCFe1BRENgPkGpvXokn3ldI/03jXdHPld7YDQFCdlu/hd1KwZy08fyYKvDtURnRa8bgAb1ITQNESM+q0F+hal54JY5IPIzY2fVsAdnYdquBKolBbZDgtuiEJZieD0hgcFnhB/hNALL57FPlwkAcoreThLmkqS6slAAFAUESMqN2p32Yh4F20n66jcdFUoHwZSV0vU9Rgm7yQwZJUvc8h1j9IQJkO6ofQqHky03XpKDzFAOWMIN2C9PuGzDtA3UrlsYjU8BCipV6Jf2tNDaykW1pgAAoCg+JwVSJxV3PTCgBPEIoARHhGJy25pFvTAIiWdyOfRBNxwg0oPp3A8NsiwxVLNO1oAzc5AW4/vikUk1K3olZ0RBRos466/A5cuWPQ4eswQgTU9znNxwqSdx+xubrDdcytRlpe88Q1E+YnKt4q13jUYku2d8EHU3m43Bw+8JHN5Y9bHDhw4el/CQ6jBGGKz3mpqW7JwYqsW5qKmUrAVuPM74qBmpwzXW5csfxPS9LHp30VAqfcPxXHWC4pwwcfcutRrDu41O9QbgVO+ian1O8XIlpDG5bm7zRhjll5ctYvDHDh6HoY9R0GCXm8Xi4AEqeC6j9y5qXKlu56Dab1/EBlZrYZ/m0Q9RGj2Gk47sTccGDlWghJBbEbGeZpNH2bbOgd49qPyHzUuJpkC9qSyrPEuWYwU0jFgSGVNr3nvNYv1L8xyyjHOXLGcznFZejfSx6Fj1EIYIQxyur7fDU3AO2x9UJqrB20EZUv6SnSoJSkg+xcEwrJWxRbfzLSs2pw9tQrEHAAX8N94vyLL4W4lKaWoC1dEt6hxvR5fEEg94cRNad08vMPEPBes7uVaV5ZOqM4Q5ZsJYV8R/Pk5agliZ2i90VC/1NnOHnkKeRNvEFXIAqq76qclQhsEA2vNxrO8q1WAVvSVTD773feTL2+13TYAGwicU6B2la7eYFMAGGjb/mVCaYwlNwnGK3lep6WXvL1OV63LkwTxDJu2tQ8s39Q0V31KuhQZtAqd0O+t+uGDQpFoHxoE4CQhuUEXsIpwgQpv0G2V1XtVWkoYkKRd8KFIs5C0vwUGCV73cKVTsEATgAfUs5h6hqJ7XQqrtGYt8fHC2yvuGuA4WiUwFLIPkGmAVIAIncUQGx3lWiHpTUGUz7m861+ETuJsYEejuqj7W1iF7y4bdM34j3jLqu9iwm65nE3OZcXtLg6xuajH8FR/BUcvVXSysEMEOYRWgAtXQQVSN1b4MbCr7pe7Yrj2/wDQRnq6GmlPcizoeVzHUG9kK7h+T/aEeyPy5/E01f7qeZC82f8AMqaK+N/YIL/if6hEtaAtbWcPaVlDwWHzVxV73hX8wvqx8v8AkgqaFjwk91U2v3xfwTQvhLWv2x0Xzdi/uysX8YP+Jqdnmif2I975X+NJrpb5/wBsUbX3/tj2Q+P908Xxv87NwP5A/kYMjnZBZ+glxjjvHobJ3jDL1PQ4YGox6XpcvRWLg4uJeqjamy+5LH91/ZGAN2PI/wArmo+OCXxnU0sqBHRNTcqB6gidFNqm1jafxiF3/AlIX+vP/Bx8Z8FT0PqFPAfA/wCYsqfG/wA7DcVb1Qbji93UseIvqWSisIGHjDCM4yyutwyowY9D+Bw9AwyYGpcvUuDntOZ6M8soJrvjtzNRcrluWVpxa1K9y5cvcKis8y9Tgm4Si5cL75eIwJdABfi5qIL8K/xFwUafI+ExuVlxrrYzvHD1MvLHpDJ0EvpJvxKanICwFO9OL9xhKnjcqecGX5l+URPi4u+fyS0IUoQu4bsxfMuCy4AValBXapV01CSAFizcrOoeNiAP7uOGO7n9iGiymi41UuQ9XncCGpYAbq6UXlg1dbyfjBUYxzccuFj0uXqcV1GTFwc0fUQ+aLj8S5jRfYhOA1ANI5Vog5U7QGE2zPhKoIVwblYpwsu3aK/Ov+8PaN+fLSn1cPtRl0jenZCddnXa+eL54ndZ9+hcWpcGxvgfbCTWixmmmJGRTaClYWXUuNtVCnjr6NTUMsNt1pdTs6pP7JaRf34dbWTsHV5qlwcFRtlzsQwM9mWmuGJr0oR/cMiuz7BjSMF2L+ErcpsvxfP/ABy2KbslUKeFVwuKbiu1q6a7MNN5um7rBTLHtZq8aYccTIZTlmssY4fw10sfwmTBuAd1vQa3Qsgy4fVr/ojBksEND17h3hXF9ABNx8TbbUK2sYCE+aBlHAikDU2U+4CBURWt3W2RoCl8BAGuLhp9NFQ1oF1RK2cMqLKhT3V/UWUU2aX0i/EHbqzYHRPZVkHKwv2dwfUsogeJFDGkro7xfermo3xBbhRXBQFO9SmFeooHNKrbctW2gIGUJzNqM21b29rqiA1Fi7LWzul2MWBPZfkuVNg+BITwpfxpl3LgChRa68q2ahwTSr71Plzx0MJUZccL0PWx/E9ZgwQgC6AhKlgQwvBy6HiZ3SsvT4cJeWKod1LdSp3mtrCxQBW39VOfmWg1LCtRX0XFV5t2O/mULl3RB+mCiHgFBL1zARrfQsGV+lal1CEyABarQS7BvWLqNse73aGr5SxFwPY2X0QnXdbtDkitDkTq/Cv+IYygmvHki66bjN1hjGP5GX+EwQlS951esERZoPlKJYrh8Va6uDi7lAAWqzVviXCXrmU47y8Pqd0HcvcvcYMud28r4MBHJwF/UZCtVPlhleY2Qa9wHSNq45IXK2os0F8ad2A+YQo29oEaxYpZtGFQJyXVlSQW/mCxls1clqO/b1zGtQfU3YCv28RS3uC68XLJC2n9kKm0iu6fwETy7DlNiW985N1QWcO47Dey8q0ehIx6nofwX0r0GTAuLXCPQbE88kB5UhUhWqtzv0IWhrBKbNXC7hlwRALAFrXeK0A9i3xQIMjxWNaH+ICpaM4pUAuoFYVfaHEsGlAHLrP0XAMUWq60eDfw6bH12i7tRFrdwebl6gtbBXmiiXNVuWVzuN3ztEGl0Dx3Yq6pe0bLV8anAZi4AFL2S4XO+2W2EPQYi3ALfhX+TDi7iSY0Ura/aKVqAsgu78uUBwUwprSMc94F0oNUVFqI01uXtQ4IlBLona0Yf2VtlcE1Fktjf/djkD3rljgo0BfNTkhorLLbzYYcuX8D0sY9A7yOCP6NaprvvcpjqkFt8CyyGmWptoCHFUS26huooFCzhlQhh3ofgAUQZmUKoqR7pU0Lvnq1qFuOooC2m92MqnmyEJb+kqNWX2SFB0nMJZrr5BpKrsRFbHjzdwO9hj2tdfoYRgrUC7ZruE4lso8RtG5BiPKkQVqmTTVcOobKoq60HoaIPwUQvkGHXBQHBO2Ly9i+NX8RmQstW0KaeWVbACAA4DQZphpi76Kyy0ugBc5LwxjzGPS9bHD1MeioZMGCWtdafhuLKXtqLy292GLgw6wKR7jAAaPFQQ1sO2uV9ssnd1n7nMTA4e5ly+9RIgAWrAthEe8WhtDd+wNHwxWMuLO13PMuVJW6T0NRizwypD/LiABBHhNjGHqYNWNxrtGaZRRvajc3crW93l4beKOm7/0QxKnljhwzn8V4emtx/CQhgMHEq6wtCsMaifKHy9j+onEBuHFAH94S4BtQPepuPhG4xg49lAKfQ43KKIBXs92viyWMLjiLLUxdy2V41vPkqXX8qGimi2HbvTfDKjeLlp36kpf94GlPfJaC+tRdkteeuV8E4ZBx3HuPsjW6uKAIosPUCpQbBlsLqD3clLrQGvI9l96gCgD9ZdPUlD9OYKHDRv8AzVio8nb7L1Od2/AdrKYULVIJVwKuVBdQt8sHSIoh8mLyuFm49LH8Dz+Ig4MMXiqgymUgujlhICtYqlXew68sDMIGyjkvyyieA/YSF3gJm+y7oNG2C8rK48J5bLjIZzYAsLlWskl3d9pabV5oP9y9oxXL3k/2BJRECAN3aceVYHQlqGrHJU7GLbvHhcLbYfG5pyyk80cQEGxw8kA7ESOEB1bdUN1R5iI58sRgWpp2AQlnloLJNAeBikUQ9gBWNXNX/wB/Vf7Eax+0bWHT5gtdNRdqIg+NxCsq6Ao0L+Lhi0+xGkjEEAO8qsCTjqFIMB4BzKABQFB6JbEem44vDzGOXKx628X+K4QhCJaPJHFJqKAXhQVwvjUzxKGxRfFxF49moUqlRattqvdXlhjRuD2ikj6gqgYKDRqEe9HxGgPdanAQAluLQuKooq1N2fwuNPWxS6D3xEwZYygvWx4tme20W/dkBJs7iwYqNLouuLjsjaFfagemXhT0WKeCc1nexE+Eh0VeFM+LlvZ6dYNktO8PiMO7isOLy4WPQx46XDHqqJh67wLB1BgwZcuUptyuGBjA0BQZqd4Q92Ksion2H+UoAAAcEXFy5qM1jhLSDzFIpBl3Ll4WXbHp29aztHouMY4qMI/h3Fy3+EYQgwcGTJzjeGcwZc5nuWSyCWAvk2TvNzT3w1U4wRc6iy7jLwvRzBiy+jWHpcMfwM5fxkqEMGXZRy8xxkAkC4RoSAFq9gh4L9zJdwXcdBQLaoiMJ0KFJ2rm48S57WA7cFYQdyB86EYDgP8ARhJUucd8Xi8EOLwJebmoYualmGXi4x6rwx6nFy8P4jnBBl4JR0sF/o/zN27l/Iqj/Ayd0Lq2XGp9WV9EoFAFh9ZqMCcQMz8ED+AIbUVr5qbC0fyVUQIktuju1O0qudV3AdIbXexICvz6jbxBvpUl+LLf2NYSo4ct4txepvoYMXFYtrDLlx63L+BlfivWTBCXjcH9IImioQtDgqcNlRptp5JuQRVQXL6KleMgXsJb9H165VZ+ocy8VNArBfYPoktybL2gP+RBhbTEFAGg8qzXMWeAqo98XECxug1QVvtcCmLRyBx8EQUSsfIgCQAADgDF43NRYy8O8lEvF410W4p6L6OJebnaP9KMAs4IVEAr2Ll1GHT6V3GJppvHwUjvNzNQUFvlWBi0O4fbFBkDtl6gtq0fJwjnkmxWeTOBygXnPNx4jOcsfIR+0jum4bJP1RXkMNc4KjLwmpcdReus+uoz2jm4suOE/A/0Dg6EEqUfarkrwkSpz5rI2dQAoA49GDhh4Fgdgy2DLwS5ctCnpZcIsuEYYvo3O+Vx6ty6Z3jeGPQxr8fj8piyoOdS8vCWPhPjUdxn7SVKuzfD8MGXi4mXsZ9BqJe8ryJhyqM+DzLm52nMYsl6lsvq4hm5cGXjdx6WViozeF/A9T0vWS+kYqKiqAd4lY6edYH/AHVxWLAI+mEREE2sYxDFrkW5e6wx1wxYM73fpFNtgJ4AUIa0mbZeO8ejvF0rFsqHjO8DLxcpzcvWWL030r+V6Vl9RLlsN6KuwtZxcu6y/ouXUNuWqeiKiq/VGBx02h/rFqI+VChJccIF4Li4Nme7XFJQU9koKp42JcQUWtHdcW3FlxcXN3HPbHEuXLxceg1LcXL6FJcvCzXS9dxxf4qwS4YGEtl530fcHF4vFy8HEuL1254JcpL6Liy4xeIsuKuLwxXtGPGLy/0D+AhghDFy5cvBfXeLly5zU1lcLLlu4svoMbj03m8b6XK4vNxSX+Fy5OghBlw6Lly5eLzfXo1e4suXLjllQhF43OMay4WPVebwfhTprD+MyS4QlS3iXm4MuX761ne8uXHYJ3xcHpYRly5cveGXn1lly83i8PWs3176TBcGpzi5fQs3O0tizcuDFnmXLJcenjcWXm41kaihFlxelZcuNYvov8N9FZrqMnRcubh0DnjN+4y4zgh0EZcvoGWdd6nKLO8uOWXFnePXcuMvqvC/iHpOgg4ax94Fjty4YuXL1F4OiyWdHaIGLly59wWXL6BuUS4svth6nDO34LzX4bhDoIYMGbwJi8XLqLLwYu9y4uR0m0voXC51XS4XmXFzf4Vxceuusly+i5fSdFyzDF+s30N5KxeF6bl9D0XLsyv5b6b6h69S94MXg6rg9DhcX0aGXLOi38Bhly8axdS4X0X/AECf0Bkmpc116jqbly+q8hN9Dhbgejf49R6bx2h1X+C+h6zF/hMOL1NRxeLy3i8XK99HEWayS45MuWYuXhcPQNdN/kPw1kh0XLly7l43k6bly8XcuGb3i4T2+G0l1CoSyX7l5uXLfwXFy3m+lYYs6b/IdN4uXL6Lm3F3G4sejvi5cuXLl9ZLlxjkly4bj13Lx26Lzeb6ryGToIZuXLg4owsuXLn3i8XLly7xeLZfReWGL6OcVCH4GXLwsvD0X+SvwmLei8Wy8XgtlzzL6dEGWQc3Lw3i5ebl113h6HDO8vFx6Bl9Ny8L0nV3xvPjF/hvHEvJLiy5eVxcJcuPXebzeLlubly4/iZf4rcHUdF9V574vFy5cuX+G8X1HVeLxcuX3lv5Llw6O/4r6SXi83i+i5ebrFy5eb6BzcsrFzeLlzthcWy4uFl7I4uWRejcuXNRZfReNyyXLwYuXBlweq5cvFy+i8Wy5eLiwl9AxXC5cuDhl5uEWS5eblmLly+i8XLxcuXFJfRcuMvOp26iOTNsuXi5cuXi5cvpuXLly5cu8Di5cvNy5cGXLly5dsuXLyvQy5cuXLm6ly5bgWXhZfQwYZuLi+i4YceIYOOoh0d+jvjszsYMcOlnfHaGO+CHfDhx36e87TtO2WeJ2wwjDljCd+hwQ5jPGDBxDo//2Q==)"
      ],
      "metadata": {
        "id": "NzL8ZhKLh3wE"
      }
    },
    {
      "cell_type": "code",
      "source": [
        "Practical Questions:"
      ],
      "metadata": {
        "id": "KSXGRcaOhpY0"
      },
      "execution_count": null,
      "outputs": []
    },
    {
      "cell_type": "code",
      "source": [
        "#1. Write a Python function that takes a list of numbers as input and returns the sum of all even numbers in\n",
        "#the list.\n",
        "def sum_of_evens(numbers):\n",
        "    return sum(num for num in numbers if num % 2 == 0)\n",
        "\n",
        "# Example usage:\n",
        "print(sum_of_evens([1, 2, 3, 4, 5, 6]))  # Outputs 12"
      ],
      "metadata": {
        "id": "DI5wy4jVh-4n"
      },
      "execution_count": null,
      "outputs": []
    },
    {
      "cell_type": "code",
      "source": [
        "#2. Create a Python function that accepts a string and returns the reverse of that string.\n",
        "def reverse_string(s):\n",
        "    return s[::-1]\n",
        "\n",
        "# Example usage:\n",
        "print(reverse_string(\"hello\"))  # Outputs \"olleh\"\n"
      ],
      "metadata": {
        "id": "5642nR0pikyu"
      },
      "execution_count": null,
      "outputs": []
    },
    {
      "cell_type": "code",
      "source": [
        "#3. Implement a Python function that takes a list of integers and returns a new list containing the squares of\n",
        "#each number.\n",
        "def square_numbers(numbers):\n",
        "    return [num ** 2 for num in numbers]\n",
        "\n",
        "# Example usage:\n",
        "print(square_numbers([1, 2, 3, 4]))  # Outputs [1, 4, 9, 16]"
      ],
      "metadata": {
        "id": "3efGm-fCik17"
      },
      "execution_count": null,
      "outputs": []
    },
    {
      "cell_type": "code",
      "source": [
        "#4. Write a Python function that checks if a given number is prime or not from 1 to 200.\n",
        "def is_prime(num):\n",
        "    if num < 2:\n",
        "        return False\n",
        "    for i in range(2, int(num**0.5) + 1):\n",
        "        if num % i == 0:\n",
        "            return False\n",
        "    return True\n",
        "\n",
        "# Example usage:\n",
        "print([n for n in range(1, 201) if is_prime(n)])  # Outputs prime numbers from 1 to 200"
      ],
      "metadata": {
        "id": "W6DO-pMRik5Y"
      },
      "execution_count": null,
      "outputs": []
    },
    {
      "cell_type": "code",
      "source": [
        "#5. Create an iterator class in Python that generates the Fibonacci sequence up to a specified number of\n",
        "#terms.\n",
        "class FibonacciIterator:\n",
        "    def __init__(self, terms):\n",
        "        self.terms = terms\n",
        "        self.a, self.b = 0, 1\n",
        "        self.count = 0\n",
        "\n",
        "    def __iter__(self):\n",
        "        return self\n",
        "\n",
        "    def __next__(self):\n",
        "        if self.count < self.terms:\n",
        "            value = self.a\n",
        "            self.a, self.b = self.b, self.a + self.b\n",
        "            self.count += 1\n",
        "            return value\n",
        "        else:\n",
        "            raise StopIteration\n",
        "\n",
        "# Example usage:\n",
        "fibonacci = FibonacciIterator(10)\n",
        "print(list(fibonacci))  # Outputs first 10 Fibonacci numbers"
      ],
      "metadata": {
        "id": "8OQXEMBRik8q"
      },
      "execution_count": null,
      "outputs": []
    },
    {
      "cell_type": "code",
      "source": [
        "# 6. Write a generator function in Python that yields the powers of 2 up to a\n",
        "def powers_of_two(exponent):\n",
        "    for i in range(exponent + 1):\n",
        "        yield 2 ** i\n",
        "\n",
        "# Example usage:\n",
        "print(list(powers_of_two(5)))  # Outputs [1, 2, 4, 8, 16, 32]\n"
      ],
      "metadata": {
        "id": "EYxZ-D8NilAD"
      },
      "execution_count": null,
      "outputs": []
    },
    {
      "cell_type": "code",
      "source": [
        "#7. Implement a generator function that reads a file line by line and yields each line as a string.\n",
        "def read_lines(file_path):\n",
        "    with open(file_path, 'r') as file:\n",
        "        for line in file:\n",
        "            yield line.strip()\n",
        "\n",
        "# Example usage:\n",
        "# for line in read_lines('example.txt'):\n",
        "#     print(line)"
      ],
      "metadata": {
        "id": "xYD-R45ailIu"
      },
      "execution_count": null,
      "outputs": []
    },
    {
      "cell_type": "code",
      "source": [
        "#8. Use a lambda function in Python to sort a list of tuples based on the second element of each tuple.\n",
        "tuples_list = [(1, 'one'), (2, 'two'), (3, 'three')]\n",
        "sorted_tuples = sorted(tuples_list, key=lambda x: x[1])\n",
        "\n",
        "# Example usage:\n",
        "print(sorted_tuples)  # Outputs [(1, 'one'), (3, 'three'), (2, 'two')]\n"
      ],
      "metadata": {
        "id": "bZiAGdPojnm-"
      },
      "execution_count": null,
      "outputs": []
    },
    {
      "cell_type": "code",
      "source": [
        "#9. Write a Python program that uses `map()` to convert a list of temperatures from Celsius to Fahrenheit.\n",
        "def celsius_to_fahrenheit(celsius):\n",
        "    return list(map(lambda x: (x * 9/5) + 32, celsius))\n",
        "\n",
        "# Example usage:\n",
        "print(celsius_to_fahrenheit([0, 20, 100]))  # Outputs [32.0, 68.0, 212.0]"
      ],
      "metadata": {
        "id": "RFzedktPjoMs"
      },
      "execution_count": null,
      "outputs": []
    },
    {
      "cell_type": "code",
      "source": [
        "#10. Create a Python program that uses `filter()` to remove all the vowels from a given string.\n",
        "def remove_vowels(s):\n",
        "    vowels = 'aeiouAEIOU'\n",
        "    return ''.join(filter(lambda x: x not in vowels, s))\n",
        "\n",
        "# Example usage:\n",
        "print(remove_vowels(\"Hello World\"))  # Outputs \"Hll Wrld\""
      ],
      "metadata": {
        "id": "C76wmKp7joyk"
      },
      "execution_count": null,
      "outputs": []
    },
    {
      "cell_type": "code",
      "source": [
        "#11) Imagine an accounting routine used in a book shop. It works on a list with sublists, which look like this:\n",
        "#Write a Python program, which returns a list with 2-tuples. Each tuple consists of the order number and the\n",
        "#product of the price per item and the quantity. The product should be increased by 10,- € if the value of the\n",
        "#order is smaller than 100,00 €.\n",
        "#Write a Python program using lambda and map.\n",
        "# List of orders as provided in the image\n",
        "orders = [\n",
        "    (34587, 4, 40.95),\n",
        "    (98762, 5, 56.80),\n",
        "    (77226, 3, 32.95),\n",
        "    (88112, 3, 24.99)\n",
        "]\n",
        "\n",
        "# Use lambda and map to process the orders\n",
        "result = list(map(lambda x: (x[0], x[1] * x[2] + 10) if x[1] * x[2] < 100 else (x[0], x[1] * x[2]), orders))\n",
        "\n",
        "# Print the result\n",
        "print(result)"
      ],
      "metadata": {
        "id": "NpILoXXKk2q_"
      },
      "execution_count": null,
      "outputs": []
    }
  ]
}