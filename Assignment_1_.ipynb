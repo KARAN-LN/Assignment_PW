{
  "nbformat": 4,
  "nbformat_minor": 0,
  "metadata": {
    "colab": {
      "provenance": []
    },
    "kernelspec": {
      "name": "python3",
      "display_name": "Python 3"
    },
    "language_info": {
      "name": "python"
    }
  },
  "cells": [
    {
      "cell_type": "markdown",
      "source": [
        "1.Explain the key features of Python that make it a popular choice for programming.\n",
        "\n",
        "> python is easy to understand compared to other programming language.\n",
        "> Python is easy to learn as compared to other programming languages.\n",
        "> Python can perform complex tasks using a few lines of code ex print(\"hellow world\") in other programming languages we have to mention data types if it is integer or string.\n",
        "> Python program is executed one line at a time where it is easy to debug.\n",
        "> Python is freely available for everyone.\n",
        ">t provides a vast range of libraries for the various fields such as data science, machine learning, web developer."
      ],
      "metadata": {
        "id": "nHBg7y8pSNEo"
      }
    },
    {
      "cell_type": "code",
      "source": [
        "# 2.Describe the role of predefined keywords in Python and provide examples of how they are used in a program\n",
        "# IF Used for conditional statements\n",
        "x=10\n",
        "if x>10:\n",
        "  print(\"x is greater then 10\")\n",
        "# for Used to create loops.\n",
        "for i in range (5):\n",
        "  print(i)\n",
        "#def Used to define functions.\n",
        "def my_function():\n",
        "    return \"Hello\""
      ],
      "metadata": {
        "colab": {
          "base_uri": "https://localhost:8080/"
        },
        "collapsed": true,
        "id": "28Mj4UNPVnr9",
        "outputId": "8af0f5bd-d40a-4eb3-bc14-88ba7593c49b"
      },
      "execution_count": 3,
      "outputs": [
        {
          "output_type": "stream",
          "name": "stdout",
          "text": [
            "0\n",
            "1\n",
            "2\n",
            "3\n",
            "4\n"
          ]
        }
      ]
    },
    {
      "cell_type": "code",
      "source": [
        "# 3.Compare and contrast mutable and immutable objects in Python with examples\n",
        "# Mutable Objects Can be changed after creation\n",
        "my_list = [1, 2, 3]\n",
        "my_list.append(4)  #[1, 2, 3, 4]\n",
        "#Immutable Objects Cannot be changed after creation\n",
        "my_string = \"Hello\"\n",
        "my_string = my_string + \" World\"   # Hello World\n"
      ],
      "metadata": {
        "id": "lTWlbfwrWLPc"
      },
      "execution_count": null,
      "outputs": []
    },
    {
      "cell_type": "code",
      "source": [
        "# 4.Discuss the different types of operators in Python and provide examples of how they are used\n",
        "# Arithmetic Operators- Used for mathematical operations\n",
        "sum = 10 + 5  #15\n",
        "sum = 10 - 5  #5\n",
        "#Comparison Operators- Used to compare values\n",
        "is_equal = (5 == 5)  #True\n",
        "#Logical Operators- Used for logical operations\n",
        "result = (True and False)  # False\n",
        "#Assignment Operators- Used to assign values to variables\n",
        "x = 10\n",
        "x += 5  # x is now 15\n",
        "#Bitwise Operators- Used for bit-level operations\n",
        "bitwise_and = 5 & 3  # 1 (in binary: 101 & 011)"
      ],
      "metadata": {
        "id": "0Xk5446RYd9X"
      },
      "execution_count": null,
      "outputs": []
    },
    {
      "cell_type": "code",
      "source": [
        "#5.Explain the concept of type casting in Python with examples.\n",
        "# Type casting refers to converting a variable from one type to another. This can be done using built-in functions.\n",
        "#Explicit Casting\n",
        "num = 5\n",
        "float_num = float(num)  # Converts integer to float\n",
        "#Implicit Casting\n",
        "num1 = 10\n",
        "num2 = 2.5\n",
        "result = num1 + num2  # num1 is implicitly converted to float"
      ],
      "metadata": {
        "id": "LQbZHINobcsb"
      },
      "execution_count": 4,
      "outputs": []
    },
    {
      "cell_type": "code",
      "source": [
        "# 6.How do conditional statements work in Python? Illustrate with examples\n",
        "#Conditional statements allow you to execute certain code based on specific conditions. The main keywords are if, elif, and else\n",
        "age = 20\n",
        "if age < 18:\n",
        "    print(\"Minor\")\n",
        "elif age < 65:\n",
        "    print(\"Adult\")\n",
        "else:\n",
        "    print(\"Senior\")\n"
      ],
      "metadata": {
        "colab": {
          "base_uri": "https://localhost:8080/"
        },
        "id": "oC3gTVD6cX7M",
        "outputId": "979de252-8afd-4cde-bf2d-358d0c6c4c03"
      },
      "execution_count": 5,
      "outputs": [
        {
          "output_type": "stream",
          "name": "stdout",
          "text": [
            "Adult\n"
          ]
        }
      ]
    },
    {
      "cell_type": "code",
      "source": [
        "# 7.Describe the different types of loops in Python and their use cases with examples\n",
        "# For Loop- Used for iterating over a sequence (like a list, tuple, or string)\n",
        "for i in range(5):\n",
        "    print(i)  # Prints 0 to 4\n",
        "# While Loop- Repeats as long as a condition is true\n",
        "count = 0\n",
        "while count < 5:\n",
        "    print(count)\n",
        "    count += 1  # Prints 0 to 4"
      ],
      "metadata": {
        "id": "iWLUN5oncz4y"
      },
      "execution_count": null,
      "outputs": []
    }
  ]
}