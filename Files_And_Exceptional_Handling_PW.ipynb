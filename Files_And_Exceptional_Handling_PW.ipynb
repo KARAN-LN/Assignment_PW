{
  "nbformat": 4,
  "nbformat_minor": 0,
  "metadata": {
    "colab": {
      "provenance": []
    },
    "kernelspec": {
      "name": "python3",
      "display_name": "Python 3"
    },
    "language_info": {
      "name": "python"
    }
  },
  "cells": [
    {
      "cell_type": "markdown",
      "source": [
        "1. Discuss the scenarios where multithreading is preferable to multiprocessing and scenarios wheremultiprocessing is a better choice.\n",
        "\n",
        "> Multithreading, Multiprocessing\n",
        "\n",
        "> Multithreading: Multiple threads within a single process that share memory. Best for I/O-bound tasks (e.g., waiting on disk or network operations), lightweight tasks, and real-time applications. In Python, multithreading is limited for CPU-bound tasks due to the Global Interpreter Lock (GIL).\n",
        "\n",
        "> Multiprocessing: Multiple independent processes with separate memory. Best for CPU-bound tasks (e.g., computationally heavy tasks), as each process can run on a separate core, bypassing the GIL in Python. It’s also good for fault isolation, where process crashes don't affect others.\n",
        "\n",
        "> When to Use Multithreading\n",
        "I/O-bound tasks (e.g., file reading, network requests).\n",
        "Tasks that require high responsiveness and low overhead.\n",
        "Shared memory is needed between tasks (e.g., a simulation with shared state).\n",
        "\n",
        "> When to Use Multiprocessing\n",
        "CPU-bound tasks (e.g., image processing, data crunching).\n",
        "Tasks requiring parallelism to fully utilize multiple CPU cores.\n",
        "Tasks with large memory requirements or the need for fault isolation (e.g., separate processes for scraping websites)."
      ],
      "metadata": {
        "id": "R9pACUGuDsah"
      }
    },
    {
      "cell_type": "markdown",
      "source": [
        "2. Describe what a process pool is and how it helps in managing multiple processes efficiently.2. Describe what a process pool is and how it helps in managing multiple processes efficiently.\n",
        "\n",
        "> What is a Process Pool?\n",
        "A process pool is a collection of pre-created worker processes that are reused to handle tasks. Instead of creating new processes for each task, a pool assigns tasks to idle worker processes, improving efficiency.\n",
        "\n",
        "\n",
        "> How It Works:\n",
        "Pre-allocated processes: A fixed number of worker processes are created and kept ready.\n",
        "Task assignment: Tasks are assigned to available processes in the pool.\n",
        "Reuse: After completing a task, processes are returned to the pool for reuse.\n",
        "\n",
        "> Benefits:\n",
        "Reduced Overhead: Reusing processes avoids the cost of creating new ones.\n",
        "Better Resource Utilization: Limits the number of processes, preventing system overload.\n",
        "Concurrency and Parallelism: Efficiently manages multiple tasks, especially for CPU-bound work."
      ],
      "metadata": {
        "id": "sE-db_jZEWFy"
      }
    },
    {
      "cell_type": "markdown",
      "source": [
        "3. Explain what multiprocessing is and why it is used in Python programs.\n",
        "> What is Multiprocessing?\n",
        "Multiprocessing allows multiple processes to run simultaneously, each with its own memory space and resources. Unlike multithreading, where threads share memory, multiprocessing provides true parallelism, making it ideal for CPU-bound tasks.\n",
        "\n",
        "> Why Use Multiprocessing in Python?\n",
        "Bypasses the GIL: Python’s Global Interpreter Lock (GIL) limits multithreading for CPU-bound tasks. Multiprocessing avoids this by using separate processes, each with its own GIL.\n",
        "Parallelism: Utilizes multiple CPU cores, speeding up computation-heavy tasks like data processing and scientific computations.\n",
        "\n",
        "> When to Use Multiprocessing:\n",
        "CPU-bound tasks like calculations or data processing.\n",
        "Heavy computations that can be parallelized across multiple cores."
      ],
      "metadata": {
        "id": "EZfNhZauErKP"
      }
    },
    {
      "cell_type": "code",
      "source": [
        "#4. Write a Python program using multithreading where one thread adds numbers to a list, and anotherthread removes numbers from the list. Implement a mechanism to avoid race conditions using  threading.Lock\n",
        "import threading\n",
        "import time\n",
        "\n",
        "# Shared list\n",
        "shared_list = []\n",
        "\n",
        "# Lock to avoid race conditions\n",
        "list_lock = threading.Lock()\n",
        "\n",
        "# Producer thread: Adds numbers to the list\n",
        "def producer():\n",
        "    for i in range(5):\n",
        "        time.sleep(1)  # Simulate work\n",
        "        with list_lock:  # Lock the list before adding a number\n",
        "            shared_list.append(i)\n",
        "            print(f\"Producer added {i}\")\n",
        "\n",
        "# Consumer thread: Removes numbers from the list\n",
        "def consumer():\n",
        "    while True:\n",
        "        time.sleep(2)  # Simulate work\n",
        "        with list_lock:  # Lock the list before accessing it\n",
        "            if shared_list:\n",
        "                num = shared_list.pop(0)\n",
        "                print(f\"Consumer removed {num}\")\n",
        "            else:\n",
        "                print(\"Consumer found the list empty, waiting for items...\")\n",
        "                break  # Exit if the list is empty\n",
        "\n",
        "# Create threads for producer and consumer\n",
        "producer_thread = threading.Thread(target=producer)\n",
        "consumer_thread = threading.Thread(target=consumer)\n",
        "\n",
        "# Start the threads\n",
        "producer_thread.start()\n",
        "consumer_thread.start()\n",
        "\n",
        "# Wait for threads to complete\n",
        "producer_thread.join()\n",
        "consumer_thread.join()\n",
        "\n",
        "print(\"Program finished.\")"
      ],
      "metadata": {
        "colab": {
          "base_uri": "https://localhost:8080/"
        },
        "id": "rcBQ7APyE-fP",
        "outputId": "43a8feba-f696-4e38-e2c5-1a2264dd53bd"
      },
      "execution_count": 1,
      "outputs": [
        {
          "output_type": "stream",
          "name": "stdout",
          "text": [
            "Producer added 0\n",
            "Producer added 1\n",
            "Consumer removed 0\n",
            "Producer added 2\n",
            "Producer added 3\n",
            "Consumer removed 1\n",
            "Producer added 4\n",
            "Consumer removed 2\n",
            "Consumer removed 3\n",
            "Consumer removed 4\n",
            "Consumer found the list empty, waiting for items...\n",
            "Program finished.\n"
          ]
        }
      ]
    },
    {
      "cell_type": "markdown",
      "source": [
        "5. Describe the methods and tools available in Python for safely sharing data between threads and processes.\n",
        "\n",
        "> Threading (Multithreading)\n",
        "threading.Lock: A basic lock to ensure only one thread accesses shared data at a time.\n",
        "\n",
        "> Example: with lock: shared_data += 1\n",
        "threading.RLock: A reentrant lock, allowing a thread to acquire it multiple times.\n",
        "\n",
        "> threading.Semaphore: Controls access to a resource by limiting the number of threads accessing it simultaneously.\n",
        "\n",
        "queue.Queue: A thread-safe queue for safe data exchange between threads.\n",
        "\n",
        "> Example: q.put(data), data = q.get()\n",
        "threading.Event: Used for signaling between threads (e.g., one thread waits for an event to be set).\n",
        "\n",
        "   > Multiprocessing (Processes)\n",
        "multiprocessing.Queue: A safe FIFO queue for communication between processes.\n",
        "\n",
        "> multiprocessing.Manager: Creates shared objects (e.g., lists, dictionaries) that can be safely accessed by multiple processes.\n",
        "\n",
        "> multiprocessing.Value and multiprocessing.Array: Allows sharing simple values or arrays between processes.\n",
        "\n",
        "> multiprocessing.Pipe: A two-way communication channel between two processes.\n",
        "\n",
        "> multiprocessing.Lock: Ensures mutual exclusion, preventing multiple processes from modifying shared data at once."
      ],
      "metadata": {
        "id": "_yWcmMY5FZ0-"
      }
    },
    {
      "cell_type": "markdown",
      "source": [
        "6. Discuss why it’s crucial to handle exceptions in concurrent programs and the techniques available for doing so.\n",
        "  > Why Handling Exceptions in Concurrent Programs is Crucial\n",
        "> Prevents Crashes: Unhandled exceptions can terminate threads or processes unexpectedly, leading to program crashes.\n",
        "> Prevents Cascading Failures: Proper exception handling ensures one thread/process failure doesn’t affect others.\n",
        "> Resource Management: Ensures resources (e.g., files, memory) are managed properly, even when errors occur.\n",
        "> Helps Debugging: Capturing and logging exceptions makes it easier to diagnose issues in concurrent code."
      ],
      "metadata": {
        "id": "I1lj7sLnF57D"
      }
    },
    {
      "cell_type": "code",
      "source": [
        "# 1. Try-Except Blocks:\n",
        "import threading\n",
        "\n",
        "def worker():\n",
        "    try:\n",
        "        raise ValueError(\"Error\")\n",
        "    except Exception as e:\n",
        "        print(f\"Error: {e}\")\n",
        "\n",
        "thread = threading.Thread(target=worker)\n",
        "thread.start()\n",
        "thread.join()"
      ],
      "metadata": {
        "colab": {
          "base_uri": "https://localhost:8080/"
        },
        "id": "S2CCpgLiGEpZ",
        "outputId": "2dab2efe-9de4-426a-e5bb-5eed12535ffe"
      },
      "execution_count": 2,
      "outputs": [
        {
          "output_type": "stream",
          "name": "stdout",
          "text": [
            "Error: Error\n"
          ]
        }
      ]
    },
    {
      "cell_type": "code",
      "source": [
        "# 2. Global Exception Handlers (sys.excepthook):\n",
        "import sys\n",
        "import threading\n",
        "\n",
        "def handle_exception(exc_type, exc_value, exc_traceback):\n",
        "    print(f\"Unhandled exception: {exc_value}\")\n",
        "\n",
        "sys.excepthook = handle_exception\n",
        "\n",
        "def worker():\n",
        "    raise ValueError(\"Error\")\n",
        "\n",
        "thread = threading.Thread(target=worker)\n",
        "thread.start()\n",
        "thread.join()"
      ],
      "metadata": {
        "colab": {
          "base_uri": "https://localhost:8080/"
        },
        "id": "68bmXO1RGMSI",
        "outputId": "2f866a7b-58e0-4e8a-f0ea-c2c675e5f856"
      },
      "execution_count": 3,
      "outputs": [
        {
          "output_type": "stream",
          "name": "stderr",
          "text": [
            "Exception in thread Thread-13 (worker):\n",
            "Traceback (most recent call last):\n",
            "  File \"/usr/lib/python3.10/threading.py\", line 1016, in _bootstrap_inner\n",
            "    self.run()\n",
            "  File \"/usr/lib/python3.10/threading.py\", line 953, in run\n",
            "    self._target(*self._args, **self._kwargs)\n",
            "  File \"<ipython-input-3-fbf2a60fd5a9>\", line 11, in worker\n",
            "ValueError: Error\n"
          ]
        }
      ]
    },
    {
      "cell_type": "code",
      "source": [
        "# 3. concurrent.futures:\n",
        "from concurrent.futures import ThreadPoolExecutor\n",
        "\n",
        "def worker(x):\n",
        "    if x == 2:\n",
        "        raise ValueError(\"Error\")\n",
        "    return x * 2\n",
        "\n",
        "with ThreadPoolExecutor() as executor:\n",
        "    futures = [executor.submit(worker, i) for i in range(4)]\n",
        "    for future in futures:\n",
        "        try:\n",
        "            print(future.result())\n",
        "        except Exception as e:\n",
        "            print(f\"Exception: {e}\")"
      ],
      "metadata": {
        "colab": {
          "base_uri": "https://localhost:8080/"
        },
        "id": "YG8ooy3hGS0U",
        "outputId": "2011e423-610f-4a05-9ea6-c54dcee71eb3"
      },
      "execution_count": 4,
      "outputs": [
        {
          "output_type": "stream",
          "name": "stdout",
          "text": [
            "0\n",
            "2\n",
            "Exception: Error\n",
            "6\n"
          ]
        }
      ]
    },
    {
      "cell_type": "code",
      "source": [
        "# 4. Multiprocessing:\n",
        "from multiprocessing import Process, Queue\n",
        "\n",
        "def worker(q):\n",
        "    try:\n",
        "        raise ValueError(\"Error\")\n",
        "    except Exception as e:\n",
        "        q.put(f\"Error: {e}\")\n",
        "\n",
        "if __name__ == \"__main__\":\n",
        "    q = Queue()\n",
        "    p = Process(target=worker, args=(q,))\n",
        "    p.start()\n",
        "    p.join()\n",
        "    print(q.get())"
      ],
      "metadata": {
        "colab": {
          "base_uri": "https://localhost:8080/"
        },
        "id": "HmQuLL4_GY2N",
        "outputId": "ef559231-5708-4bcb-8f39-cbf493c99179"
      },
      "execution_count": 5,
      "outputs": [
        {
          "output_type": "stream",
          "name": "stdout",
          "text": [
            "Error: Error\n"
          ]
        }
      ]
    },
    {
      "cell_type": "code",
      "source": [
        "# 5. Logging:\n",
        "import logging\n",
        "import threading\n",
        "\n",
        "logging.basicConfig(level=logging.ERROR)\n",
        "\n",
        "def worker():\n",
        "    try:\n",
        "        raise ValueError(\"Error\")\n",
        "    except Exception as e:\n",
        "        logging.error(f\"Error: {e}\")\n",
        "\n",
        "thread = threading.Thread(target=worker)\n",
        "thread.start()\n",
        "thread.join()"
      ],
      "metadata": {
        "id": "BMNU6TVgGe5m"
      },
      "execution_count": null,
      "outputs": []
    },
    {
      "cell_type": "code",
      "source": [
        "# 7. Create a program that uses a thread pool to calculate the factorial of numbers from 1 to 10 concurrently. Use concurrent.futures.ThreadPoolExecutor to manage the threads.\n",
        "import concurrent.futures\n",
        "import math\n",
        "\n",
        "# Function to calculate factorial\n",
        "def calculate_factorial(n):\n",
        "    return math.factorial(n)\n",
        "\n",
        "# Main function to manage threads using ThreadPoolExecutor\n",
        "def main():\n",
        "    # Create a ThreadPoolExecutor with 5 worker threads\n",
        "    with concurrent.futures.ThreadPoolExecutor(max_workers=5) as executor:\n",
        "        # Submit tasks to the executor for numbers 1 to 10\n",
        "        numbers = range(1, 11)\n",
        "        futures = [executor.submit(calculate_factorial, num) for num in numbers]\n",
        "\n",
        "        # Wait for all the futures to complete and print the results\n",
        "        for future in concurrent.futures.as_completed(futures):\n",
        "            result = future.result()\n",
        "            print(result)\n",
        "\n",
        "if __name__ == \"__main__\":\n",
        "    main()"
      ],
      "metadata": {
        "colab": {
          "base_uri": "https://localhost:8080/"
        },
        "id": "5U057hVtGjfV",
        "outputId": "9b1d60da-7588-466f-b289-b5353ddef874"
      },
      "execution_count": 7,
      "outputs": [
        {
          "output_type": "stream",
          "name": "stdout",
          "text": [
            "720\n",
            "2\n",
            "362880\n",
            "1\n",
            "3628800\n",
            "6\n",
            "120\n",
            "5040\n",
            "40320\n",
            "24\n"
          ]
        }
      ]
    },
    {
      "cell_type": "code",
      "source": [
        "# 8. Create a Python program that uses multiprocessing.Pool to compute the square of numbers from 1 to 10 in parallel. Measure the time taken to perform this computation using a pool of different sizes (e.g., 2, 4, 8 processes).\n",
        "import multiprocessing\n",
        "import time\n",
        "\n",
        "# Function to compute the square of a number\n",
        "def square(n):\n",
        "    return n * n\n",
        "\n",
        "# Function to measure the time taken using different pool sizes\n",
        "def compute_squares(pool_size):\n",
        "    # Start measuring time\n",
        "    start_time = time.time()\n",
        "\n",
        "    # Create a pool of workers\n",
        "    with multiprocessing.Pool(pool_size) as pool:\n",
        "        # Compute squares in parallel\n",
        "        results = pool.map(square, range(1, 11))\n",
        "\n",
        "    # Calculate and print the time taken\n",
        "    end_time = time.time()\n",
        "    print(f\"Time taken with {pool_size} processes: {end_time - start_time:.4f} seconds\")\n",
        "\n",
        "    # Return the results for display\n",
        "    return results\n",
        "\n",
        "def main():\n",
        "    # Run the computation with different pool sizes and display the results\n",
        "    for pool_size in [2, 4, 8]:\n",
        "        print(f\"\\nComputing squares with {pool_size} processes...\")\n",
        "        results = compute_squares(pool_size)\n",
        "        print(\"Results:\", results)\n",
        "\n",
        "if __name__ == \"__main__\":\n",
        "    main()"
      ],
      "metadata": {
        "colab": {
          "base_uri": "https://localhost:8080/"
        },
        "id": "K5EPHCRoGtPm",
        "outputId": "e00abd0c-b61d-4963-a215-14a36c09e109"
      },
      "execution_count": 8,
      "outputs": [
        {
          "output_type": "stream",
          "name": "stdout",
          "text": [
            "\n",
            "Computing squares with 2 processes...\n",
            "Time taken with 2 processes: 0.1169 seconds\n",
            "Results: [1, 4, 9, 16, 25, 36, 49, 64, 81, 100]\n",
            "\n",
            "Computing squares with 4 processes...\n",
            "Time taken with 4 processes: 0.1941 seconds\n",
            "Results: [1, 4, 9, 16, 25, 36, 49, 64, 81, 100]\n",
            "\n",
            "Computing squares with 8 processes...\n",
            "Time taken with 8 processes: 0.1982 seconds\n",
            "Results: [1, 4, 9, 16, 25, 36, 49, 64, 81, 100]\n"
          ]
        }
      ]
    }
  ]
}