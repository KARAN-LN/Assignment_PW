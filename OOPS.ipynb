{
  "nbformat": 4,
  "nbformat_minor": 0,
  "metadata": {
    "colab": {
      "provenance": []
    },
    "kernelspec": {
      "name": "python3",
      "display_name": "Python 3"
    },
    "language_info": {
      "name": "python"
    }
  },
  "cells": [
    {
      "cell_type": "markdown",
      "source": [
        "1. What are the five key concepts of Object-Oriented Programming (OOP)?\n",
        "\n",
        "The five key concepts of Object-Oriented Programming (OOP) are:\n",
        "\n",
        "Encapsulation: This principle involves bundling the data (attributes) and methods (functions) that operate on the data into a single unit, or class. It restricts direct access to some of the object's components, which helps to protect the integrity of the object's data. Access modifiers (public, protected, private) are often used to enforce encapsulation.\n",
        "\n",
        "Abstraction: Abstraction simplifies complex reality by modeling classes based on the essential properties and behaviors an object should have. It allows programmers to focus on interactions at a higher level without needing to understand all the underlying details. Abstract classes and interfaces are common tools for achieving abstraction.\n",
        "\n",
        "Inheritance: This concept allows a new class (child class) to inherit the properties and methods of an existing class (parent class). Inheritance promotes code reuse and establishes a hierarchical relationship between classes. It can be single or multiple, depending on whether a class derives from one or more base classes.\n",
        "\n",
        "Polymorphism: Polymorphism allows methods to be used interchangeably, even if the objects on which they are called are of different classes. This can be achieved through method overriding (same method name in derived classes) or method overloading (same method name with different parameters). It enables flexibility and the ability to define behaviors that can vary across different classes.\n",
        "\n",
        "Composition: Composition involves constructing complex objects by combining simpler ones, rather than inheriting from a base class. This \"has-a\" relationship allows for more flexible designs and can lead to better separation of concerns. It emphasizes the use of objects to build functionality."
      ],
      "metadata": {
        "id": "2bsazaKQSXTZ"
      }
    },
    {
      "cell_type": "code",
      "source": [
        "#2. Write a Python class for a `Car` with attributes for `make`, `model`, and `year`. Include a method to display\n",
        "#the car's information.\n",
        "class Car:\n",
        "    def __init__(self, make, model, year):\n",
        "        self.make = make\n",
        "        self.model = model\n",
        "        self.year = year\n",
        "\n",
        "    def display_info(self):\n",
        "        print(f\"Car: {self.year} {self.make} {self.model}\")"
      ],
      "metadata": {
        "id": "iV6qQRzpPoMj"
      },
      "execution_count": null,
      "outputs": []
    },
    {
      "cell_type": "code",
      "source": [
        "#3. Explain the difference between instance methods and class methods. Provide an example of each.\n",
        "#Instance Methods: These are functions that operate on an instance of the class. They can access instance attributes.\n",
        "class Example:\n",
        "    def instance_method(self):\n",
        "        return \"This is an instance method.\"\n",
        "#Class Methods: These are functions that operate on the class itself rather than instances. They are defined with the @classmethod decorator and take cls as the first parameter.\n",
        "class Example:\n",
        "    @classmethod\n",
        "    def class_method(cls):\n",
        "        return \"This is a class method.\""
      ],
      "metadata": {
        "id": "7kHeikiWP24Z"
      },
      "execution_count": null,
      "outputs": []
    },
    {
      "cell_type": "code",
      "source": [
        "#4. How does Python implement method overloading? Give an example.\n",
        "#Python does not support traditional method overloading as seen in languages like Java. Instead, you can use default arguments or variable-length arguments to achieve similar behavior.\n",
        "class Example:\n",
        "    def add(self, a, b=0):\n",
        "        return a + b"
      ],
      "metadata": {
        "id": "eT0nUNxAQHOu"
      },
      "execution_count": null,
      "outputs": []
    },
    {
      "cell_type": "markdown",
      "source": [
        "5. What are the three types of access modifiers in Python? How are they denoted?Python has three types of access modifiers:\n",
        "\n",
        "Public: No underscore prefix (e.g., self.attribute)\n",
        "Protected: One underscore prefix (e.g., self._attribute)\n",
        "Private: Two underscore prefixes (e.g., self.__attribute)"
      ],
      "metadata": {
        "id": "cDHF_n_BQWWv"
      }
    },
    {
      "cell_type": "code",
      "source": [
        "#6. Describe the five types of inheritance in Python. Provide a simple example of multiple inheritance\n",
        "#Single Inheritance: One class inherits from one parent class.\n",
        "#Multiple Inheritance: One class inherits from multiple parent classes.\n",
        "#Multilevel Inheritance: A class inherits from a derived class.\n",
        "#Hierarchical Inheritance: Multiple classes inherit from a single parent class.\n",
        "#Hybrid Inheritance: A combination of multiple and multilevel inheritance.\n",
        "class A:\n",
        "    pass\n",
        "class B:\n",
        "    pass\n",
        "class C(A, B):\n",
        "    pass"
      ],
      "metadata": {
        "id": "lU1L6l8PQRRg"
      },
      "execution_count": null,
      "outputs": []
    },
    {
      "cell_type": "code",
      "source": [
        "#7. What is the Method Resolution Order (MRO) in Python? How can you retrieve it programmatically?\n",
        "#MRO is the order in which classes are searched when executing a method. You can retrieve it programmatically using the mro() method.\n",
        "class A:\n",
        "    pass\n",
        "class B(A):\n",
        "    pass\n",
        "class C(A):\n",
        "    pass\n",
        "class D(B, C):\n",
        "    pass\n",
        "\n",
        "print(D.mro())"
      ],
      "metadata": {
        "id": "KNqul16cQ8gd"
      },
      "execution_count": null,
      "outputs": []
    },
    {
      "cell_type": "code",
      "source": [
        "#8. Create an abstract base class `Shape` with an abstract method `area()`. Then create two subclasses\n",
        "#`Circle` and `Rectangle` that implement the `area()` method.\n",
        "from abc import ABC, abstractmethod\n",
        "import math\n",
        "\n",
        "class Shape(ABC):\n",
        "    @abstractmethod\n",
        "    def area(self):\n",
        "        pass\n",
        "\n",
        "class Circle(Shape):\n",
        "    def __init__(self, radius):\n",
        "        self.radius = radius\n",
        "\n",
        "    def area(self):\n",
        "        return math.pi * (self.radius ** 2)\n",
        "\n",
        "class Rectangle(Shape):\n",
        "    def __init__(self, width, height):\n",
        "        self.width = width\n",
        "        self.height = height\n",
        "\n",
        "    def area(self):\n",
        "        return self.width * self.height"
      ],
      "metadata": {
        "id": "b6d2o7wERGOk"
      },
      "execution_count": null,
      "outputs": []
    },
    {
      "cell_type": "code",
      "source": [
        "#9. Demonstrate polymorphism by creating a function that can work with different shape objects to calculate\n",
        "#and print their areas.\n",
        "def print_area(shape):\n",
        "    print(f\"Area: {shape.area()}\")\n",
        "\n",
        "circle = Circle(5)\n",
        "rectangle = Rectangle(4, 6)\n",
        "\n",
        "print_area(circle)\n",
        "print_area(rectangle)"
      ],
      "metadata": {
        "id": "AQ5pcKolRGQp"
      },
      "execution_count": null,
      "outputs": []
    },
    {
      "cell_type": "code",
      "source": [
        "#10. Implement encapsulation in a `BankAccount` class with private attributes for `balance` and\n",
        "#`account_number`. Include methods for deposit, withdrawal, and balance inquiry\n",
        "class BankAccount:\n",
        "    def __init__(self, account_number):\n",
        "        self.__balance = 0\n",
        "        self.__account_number = account_number\n",
        "\n",
        "    def deposit(self, amount):\n",
        "        if amount > 0:\n",
        "            self.__balance += amount\n",
        "\n",
        "    def withdraw(self, amount):\n",
        "        if 0 < amount <= self.__balance:\n",
        "            self.__balance -= amount\n",
        "\n",
        "    def get_balance(self):\n",
        "        return self.__balance"
      ],
      "metadata": {
        "id": "Zu310NHpRGUL"
      },
      "execution_count": null,
      "outputs": []
    },
    {
      "cell_type": "code",
      "source": [
        "#11. Write a class that overrides the `__str__` and `__add__` magic methods. What will these methods allow\n",
        "#you to do?\n",
        "class Item:\n",
        "    def __init__(self, name, price):\n",
        "        self.name = name\n",
        "        self.price = price\n",
        "\n",
        "    def __str__(self):\n",
        "        return f\"{self.name}: ${self.price:.2f}\"\n",
        "\n",
        "    def __add__(self, other):\n",
        "        return Item(self.name, self.price + other.price)\n",
        "\n",
        "item1 = Item(\"Apple\", 1.00)\n",
        "item2 = Item(\"Banana\", 0.50)\n",
        "combined_item = item1 + item2\n",
        "\n",
        "print(item1)           # Apple: $1.00\n",
        "print(combined_item)   # Apple: $1.50\n"
      ],
      "metadata": {
        "id": "6fDVd9aIRme_"
      },
      "execution_count": null,
      "outputs": []
    },
    {
      "cell_type": "code",
      "source": [
        "#12. Create a decorator that measures and prints the execution time of a function.\n",
        "import time\n",
        "\n",
        "def time_decorator(func):\n",
        "    def wrapper(*args, **kwargs):\n",
        "        start_time = time.time()\n",
        "        result = func(*args, **kwargs)\n",
        "        end_time = time.time()\n",
        "        print(f\"Execution time: {end_time - start_time:.4f} seconds\")\n",
        "        return result\n",
        "    return wrapper"
      ],
      "metadata": {
        "id": "7OqM5H3vRmil"
      },
      "execution_count": null,
      "outputs": []
    },
    {
      "cell_type": "code",
      "source": [
        "#13. Explain the concept of the Diamond Problem in multiple inheritance. How does Python resolve it?\n",
        "#The Diamond Problem occurs when a class inherits from two classes that both inherit from the same base class. Python resolves it using the C3 linearization algorithm.\n",
        "class A:\n",
        "    pass\n",
        "\n",
        "class B(A):\n",
        "    pass\n",
        "\n",
        "class C(A):\n",
        "    pass\n",
        "\n",
        "class D(B, C):\n",
        "    pass\n",
        "\n",
        "print(D.mro())"
      ],
      "metadata": {
        "id": "NKpIlnuVR355"
      },
      "execution_count": null,
      "outputs": []
    },
    {
      "cell_type": "code",
      "source": [
        "#14. Write a class method that keeps track of the number of instances created from a class.\n",
        "class InstanceTracker:\n",
        "    instance_count = 0\n",
        "\n",
        "    def __init__(self):\n",
        "        InstanceTracker.instance_count += 1\n",
        "\n",
        "    @classmethod\n",
        "    def get_instance_count(cls):\n",
        "        return cls.instance_count"
      ],
      "metadata": {
        "id": "oDUc0v1wSAfP"
      },
      "execution_count": null,
      "outputs": []
    },
    {
      "cell_type": "code",
      "source": [
        "#15. Implement a static method in a class that checks if a given year is a leap year.\n",
        "class YearChecker:\n",
        "    @staticmethod\n",
        "    def is_leap_year(year):\n",
        "        return (year % 4 == 0 and year % 100 != 0) or (year % 400 == 0)"
      ],
      "metadata": {
        "id": "KQlFtWaFSAly"
      },
      "execution_count": null,
      "outputs": []
    }
  ]
}