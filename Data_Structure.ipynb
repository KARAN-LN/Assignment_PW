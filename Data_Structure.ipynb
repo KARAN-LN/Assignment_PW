{
  "nbformat": 4,
  "nbformat_minor": 0,
  "metadata": {
    "colab": {
      "provenance": []
    },
    "kernelspec": {
      "name": "python3",
      "display_name": "Python 3"
    },
    "language_info": {
      "name": "python"
    }
  },
  "cells": [
    {
      "cell_type": "markdown",
      "source": [
        "1. Discuss string slicing and provide examples?\n",
        "String Slicing in Python allows you to access a substring by specifying a range of indices. The syntax is string[start:end:step], where:\n",
        "\n",
        "start: The index to start slicing (inclusive)\n",
        "end: The index to stop slicing (exclusive)\n",
        "step: The interval between each index (optional)"
      ],
      "metadata": {
        "id": "3bRCZVI6A_9s"
      }
    },
    {
      "cell_type": "code",
      "source": [
        "text = \"Hello, World!\"\n",
        "\n",
        "# Slice from index 0 to 4\n",
        "print(text[0:5])  # Output: Hello\n",
        "\n",
        "# Slice from index 7 to the end\n",
        "print(text[7:])   # Output: World!\n",
        "\n",
        "# Slice with step\n",
        "print(text[::2])  # Output: Hlo ol!\n"
      ],
      "metadata": {
        "id": "7lKhd56BBOzx"
      },
      "execution_count": null,
      "outputs": []
    },
    {
      "cell_type": "markdown",
      "source": [
        "\n",
        "2. Explain the key features of lists in Python?\n",
        "Ordered: Lists maintain the order of elements.\n",
        "Mutable: You can modify a list after it has been created.\n",
        "Dynamic Size: Lists can grow or shrink in size.\n",
        "Heterogeneous: Lists can contain elements of different data types"
      ],
      "metadata": {
        "id": "qhnKUBUZBWqP"
      }
    },
    {
      "cell_type": "code",
      "source": [
        "#3. Describe How to Access, Modify, and Delete Elements in a List with Examples\n",
        "#Accessing Elements: Use indexing to access elements\n",
        "my_list = [10, 20, 30, 40]\n",
        "print(my_list[1])  # Output: 20\n",
        "#Modifying Elements: Use indexing to change an element.\n",
        "my_list[2] = 35\n",
        "print(my_list)  # Output: [10, 20, 35, 40]\n",
        "#Deleting Elements: Use del or remove().\n",
        "del my_list[1]      # Removes the element at index 1\n",
        "print(my_list)      # Output: [10, 35, 40]\n",
        "\n",
        "my_list.remove(40)  # Removes the element with value 40\n",
        "print(my_list)      # Output: [10, 35]"
      ],
      "metadata": {
        "id": "Q4RVRRTLBtHK"
      },
      "execution_count": null,
      "outputs": []
    },
    {
      "cell_type": "code",
      "source": [
        "#3. Describe How to Access, Modify, and Delete Elements in a List with Examples\n",
        "#Accessing Elements: Use indexing to access elements.\n",
        "my_list = [10, 20, 30, 40]\n",
        "print(my_list[1])  # Output: 20\n",
        "#Modifying Elements: Use indexing to change an element.\n",
        "my_list[2] = 35\n",
        "print(my_list)  # Output: [10, 20, 35, 40]\n",
        "#Deleting Elements: Use del or remove().\n",
        "del my_list[1]      # Removes the element at index 1\n",
        "print(my_list)      # Output: [10, 35, 40]\n",
        "\n",
        "my_list.remove(40)  # Removes the element with value 40\n",
        "print(my_list)      # Output: [10, 35]"
      ],
      "metadata": {
        "id": "gka-pEtJDiPv"
      },
      "execution_count": null,
      "outputs": []
    },
    {
      "cell_type": "markdown",
      "source": [
        "4. Compare and Contrast Tuples and Lists with Examples\n",
        "Lists:\n",
        "\n",
        "Mutable: You can change elements after creation.\n",
        "Syntax: Created using square brackets [].\n",
        "Tuples:\n",
        "\n",
        "Immutable: You cannot change elements after creation.\n",
        "Syntax: Created using parentheses ()."
      ],
      "metadata": {
        "id": "0N1-gRl5BnF6"
      }
    },
    {
      "cell_type": "code",
      "source": [
        "my_list = [1, 2, 3]       # List\n",
        "my_tuple = (1, 2, 3)      # Tuple\n",
        "\n",
        "# Modifying List\n",
        "my_list[1] = 5\n",
        "print(my_list)            # Output: [1, 5, 3]\n",
        "\n",
        "# Attempting to modify Tuple (will raise an error)\n",
        "# my_tuple[1] = 5        # TypeError: 'tuple' object does not support item assignment"
      ],
      "metadata": {
        "id": "48GwLkHiCeHV"
      },
      "execution_count": null,
      "outputs": []
    },
    {
      "cell_type": "markdown",
      "source": [
        "5. Describe the Key Features of Sets and Provide Examples of Their Use\n",
        "Key Features of Sets:\n",
        "\n",
        "Unordered: Sets do not maintain order.\n",
        "Mutable: You can add or remove elements.\n",
        "Unique Elements: Sets automatically eliminate duplicate entries."
      ],
      "metadata": {
        "id": "e7AdBKK3ChjP"
      }
    },
    {
      "cell_type": "code",
      "source": [
        "my_set = {1, 2, 3, 4}\n",
        "my_set.add(5)             # Adding an element\n",
        "print(my_set)             # Output: {1, 2, 3, 4, 5}\n",
        "\n",
        "my_set.remove(2)          # Removing an element\n",
        "print(my_set)             # Output: {1, 3, 4, 5}"
      ],
      "metadata": {
        "id": "6G-vzxRaClEy"
      },
      "execution_count": null,
      "outputs": []
    },
    {
      "cell_type": "markdown",
      "source": [
        "6. Discuss the Use Cases of Tuples and Sets in Python Programming\n",
        "Use Cases of Tuples:\n",
        "\n",
        "Data Integrity: Use tuples for data that should not change (e.g., coordinates, RGB colors).\n",
        "Dictionary Keys: Tuples can be used as keys in dictionaries since they are immutable.\n",
        "Use Cases of Sets:\n",
        "\n",
        "Membership Testing: Sets are efficient for checking if an item exists (due to their hash table implementation)."
      ],
      "metadata": {
        "id": "vl40wuLXCn8T"
      }
    },
    {
      "cell_type": "code",
      "source": [
        "#7. Describe How to Add, Modify, and Delete Items in a Dictionary with Examples\n",
        "#Adding Items: Assign a value to a new key.\n",
        "my_dict = {'name': 'Alice'}\n",
        "my_dict['age'] = 25  # Adding a new key-value pair\n",
        "print(my_dict)       # Output: {'name': 'Alice', 'age': 25}\n",
        "#Modifying Items: Change the value of an existing key.\n",
        "my_dict['age'] = 26\n",
        "print(my_dict)       # Output: {'name': 'Alice', 'age': 26}\n",
        "#Deleting Items: Use del or pop().\n",
        "del my_dict['name']    # Deletes the key 'name'\n",
        "print(my_dict)         # Output: {'age': 26}\n",
        "\n",
        "age = my_dict.pop('age')  # Removes 'age' and returns its value\n",
        "print(age)              # Output: 26\n",
        "print(my_dict)         # Output: {}"
      ],
      "metadata": {
        "id": "AcUUBHjBC1WR"
      },
      "execution_count": null,
      "outputs": []
    },
    {
      "cell_type": "markdown",
      "source": [
        "8. Discuss the Importance of Dictionary Keys Being Immutable and Provide Examples\n",
        "Importance:\n",
        "\n",
        "Hashability: Dictionary keys must be immutable (like strings, numbers, or tuples) because they are hashed to determine their storage location in the dictionary. If keys were mutable, they could change, leading to inconsistent behavior and lookup failures."
      ],
      "metadata": {
        "id": "C6YPgd7cCvlU"
      }
    },
    {
      "cell_type": "code",
      "source": [
        "my_dict = {('x', 'y'): 1}  # Tuple as a key (valid)\n",
        "# my_dict[[1, 2]] = 2      # List as a key (invalid, raises TypeError)\n",
        "\n",
        "print(my_dict)            # Output: {('x', 'y'): 1}"
      ],
      "metadata": {
        "id": "I1JuOnzoDUr7"
      },
      "execution_count": null,
      "outputs": []
    }
  ]
}